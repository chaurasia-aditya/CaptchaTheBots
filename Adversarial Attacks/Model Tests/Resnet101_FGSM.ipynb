{
  "nbformat": 4,
  "nbformat_minor": 0,
  "metadata": {
    "colab": {
      "provenance": [],
      "gpuType": "T4"
    },
    "kernelspec": {
      "name": "python3",
      "display_name": "Python 3"
    },
    "language_info": {
      "name": "python"
    },
    "accelerator": "GPU"
  },
  "cells": [
    {
      "cell_type": "code",
      "source": [
        "!pip install adversarial-robustness-toolbox"
      ],
      "metadata": {
        "colab": {
          "base_uri": "https://localhost:8080/"
        },
        "id": "1bHwMGMqh684",
        "outputId": "2201f23b-3f4c-4f54-9766-3c172d5936bf"
      },
      "execution_count": 1,
      "outputs": [
        {
          "output_type": "stream",
          "name": "stdout",
          "text": [
            "Collecting adversarial-robustness-toolbox\n",
            "  Downloading adversarial_robustness_toolbox-1.16.0-py3-none-any.whl (1.6 MB)\n",
            "\u001b[?25l     \u001b[90m━━━━━━━━━━━━━━━━━━━━━━━━━━━━━━━━━━━━━━━━\u001b[0m \u001b[32m0.0/1.6 MB\u001b[0m \u001b[31m?\u001b[0m eta \u001b[36m-:--:--\u001b[0m\r\u001b[2K     \u001b[91m━━━\u001b[0m\u001b[90m╺\u001b[0m\u001b[90m━━━━━━━━━━━━━━━━━━━━━━━━━━━━━━━━━━━━\u001b[0m \u001b[32m0.1/1.6 MB\u001b[0m \u001b[31m3.7 MB/s\u001b[0m eta \u001b[36m0:00:01\u001b[0m\r\u001b[2K     \u001b[91m━━━━━━━━━━━━━━━━━━━━━━━━\u001b[0m\u001b[90m╺\u001b[0m\u001b[90m━━━━━━━━━━━━━━━\u001b[0m \u001b[32m1.0/1.6 MB\u001b[0m \u001b[31m15.0 MB/s\u001b[0m eta \u001b[36m0:00:01\u001b[0m\r\u001b[2K     \u001b[90m━━━━━━━━━━━━━━━━━━━━━━━━━━━━━━━━━━━━━━━━\u001b[0m \u001b[32m1.6/1.6 MB\u001b[0m \u001b[31m18.4 MB/s\u001b[0m eta \u001b[36m0:00:00\u001b[0m\n",
            "\u001b[?25hRequirement already satisfied: numpy>=1.18.0 in /usr/local/lib/python3.10/dist-packages (from adversarial-robustness-toolbox) (1.23.5)\n",
            "Requirement already satisfied: scipy>=1.4.1 in /usr/local/lib/python3.10/dist-packages (from adversarial-robustness-toolbox) (1.11.3)\n",
            "Collecting scikit-learn<1.2.0,>=0.22.2 (from adversarial-robustness-toolbox)\n",
            "  Downloading scikit_learn-1.1.3-cp310-cp310-manylinux_2_17_x86_64.manylinux2014_x86_64.whl (30.5 MB)\n",
            "\u001b[2K     \u001b[90m━━━━━━━━━━━━━━━━━━━━━━━━━━━━━━━━━━━━━━━━\u001b[0m \u001b[32m30.5/30.5 MB\u001b[0m \u001b[31m41.1 MB/s\u001b[0m eta \u001b[36m0:00:00\u001b[0m\n",
            "\u001b[?25hRequirement already satisfied: six in /usr/local/lib/python3.10/dist-packages (from adversarial-robustness-toolbox) (1.16.0)\n",
            "Requirement already satisfied: setuptools in /usr/local/lib/python3.10/dist-packages (from adversarial-robustness-toolbox) (67.7.2)\n",
            "Requirement already satisfied: tqdm in /usr/local/lib/python3.10/dist-packages (from adversarial-robustness-toolbox) (4.66.1)\n",
            "Requirement already satisfied: joblib>=1.0.0 in /usr/local/lib/python3.10/dist-packages (from scikit-learn<1.2.0,>=0.22.2->adversarial-robustness-toolbox) (1.3.2)\n",
            "Requirement already satisfied: threadpoolctl>=2.0.0 in /usr/local/lib/python3.10/dist-packages (from scikit-learn<1.2.0,>=0.22.2->adversarial-robustness-toolbox) (3.2.0)\n",
            "Installing collected packages: scikit-learn, adversarial-robustness-toolbox\n",
            "  Attempting uninstall: scikit-learn\n",
            "    Found existing installation: scikit-learn 1.2.2\n",
            "    Uninstalling scikit-learn-1.2.2:\n",
            "      Successfully uninstalled scikit-learn-1.2.2\n",
            "\u001b[31mERROR: pip's dependency resolver does not currently take into account all the packages that are installed. This behaviour is the source of the following dependency conflicts.\n",
            "bigframes 0.13.0 requires scikit-learn>=1.2.2, but you have scikit-learn 1.1.3 which is incompatible.\u001b[0m\u001b[31m\n",
            "\u001b[0mSuccessfully installed adversarial-robustness-toolbox-1.16.0 scikit-learn-1.1.3\n"
          ]
        }
      ]
    },
    {
      "cell_type": "code",
      "source": [
        "# Importing required modules\n",
        "\n",
        "import tensorflow as tf\n",
        "from tensorflow.keras import Sequential\n",
        "from tensorflow.keras.callbacks import LambdaCallback\n",
        "import tensorflow.keras.layers as L\n",
        "from tensorflow.keras.datasets import mnist, cifar10\n",
        "\n",
        "import numpy as np\n",
        "import matplotlib.pyplot as plt\n",
        "from random import randint\n",
        "from tqdm import tqdm\n"
      ],
      "metadata": {
        "id": "5S5CeJLzi3L0"
      },
      "execution_count": 2,
      "outputs": []
    },
    {
      "cell_type": "code",
      "source": [
        "import tensorflow as tf\n",
        "from tensorflow.keras.datasets import cifar10\n",
        "from tensorflow.keras.utils import to_categorical\n",
        "(X_train, y_train), (X_test, y_test) = cifar10.load_data()\n",
        "\n",
        "print(f\"X_train shape: {X_train.shape}\")\n",
        "print(f\"y_train shape: {y_train.shape}\")\n",
        "print(f\"X_test shape: {X_test.shape}\")\n",
        "print(f\"y_test shape: {y_test.shape}\")"
      ],
      "metadata": {
        "colab": {
          "base_uri": "https://localhost:8080/"
        },
        "id": "zcgJ-qoNofHt",
        "outputId": "95c3f128-23ec-4ff5-ba73-5057a9fd2cc8"
      },
      "execution_count": 3,
      "outputs": [
        {
          "output_type": "stream",
          "name": "stdout",
          "text": [
            "Downloading data from https://www.cs.toronto.edu/~kriz/cifar-10-python.tar.gz\n",
            "170498071/170498071 [==============================] - 11s 0us/step\n",
            "X_train shape: (50000, 32, 32, 3)\n",
            "y_train shape: (50000, 1)\n",
            "X_test shape: (10000, 32, 32, 3)\n",
            "y_test shape: (10000, 1)\n"
          ]
        }
      ]
    },
    {
      "cell_type": "code",
      "source": [
        "# scaling the data\n",
        "\n",
        "X_train_scaled = X_train/255\n",
        "\n",
        "X_test_scaled = X_test/255"
      ],
      "metadata": {
        "id": "9HnC7IjqoiF-"
      },
      "execution_count": 4,
      "outputs": []
    },
    {
      "cell_type": "code",
      "source": [
        "nb_classes = 10\n",
        "label_names = ['airplane', 'automobile', 'bird', 'cat', 'deer', 'dog', 'frog',\n",
        "               'horse', 'ship', 'truck']"
      ],
      "metadata": {
        "id": "CPwqZ0Smmhmj"
      },
      "execution_count": 5,
      "outputs": []
    },
    {
      "cell_type": "code",
      "source": [
        "height, width, channels = 32, 32, 3"
      ],
      "metadata": {
        "id": "LiTF2-8fnSVF"
      },
      "execution_count": 6,
      "outputs": []
    },
    {
      "cell_type": "code",
      "source": [
        "from keras.models import load_model\n",
        "model = load_model('resnet101_keras_94.97.h5')"
      ],
      "metadata": {
        "id": "6Lq8K47colud"
      },
      "execution_count": 7,
      "outputs": []
    },
    {
      "cell_type": "code",
      "source": [
        "# Function to calculate adversary noise\n",
        "def generate_adversary(image, label, epsilon=0.1):\n",
        "  image = tf.cast(image, tf.float32)\n",
        "\n",
        "  with tf.GradientTape() as tape:\n",
        "    tape.watch(image)\n",
        "    prediction = model(image)\n",
        "    loss = tf.keras.losses.MSE(label, prediction)\n",
        "  gradient = tape.gradient(loss, image)\n",
        "  sign_grad = tf.sign(gradient)\n",
        "  perturbation = epsilon * sign_grad  # Apply epsilon to the sign gradient\n",
        "\n",
        "  return perturbation"
      ],
      "metadata": {
        "id": "FUZs2ME0jB0V"
      },
      "execution_count": 8,
      "outputs": []
    },
    {
      "cell_type": "code",
      "source": [
        "# Selecting random image for testing\n",
        "rand_idx = randint(0,10000)\n",
        "image = X_test_scaled[rand_idx].reshape((1, height, width, channels))\n",
        "label = y_test[rand_idx]\n",
        "print(label)\n",
        "\n",
        "print(f'True prediction: {label_names[label[0]]}')\n",
        "plt.figure(figsize=(3,3))\n",
        "plt.imshow(image.reshape((height, width, channels)))\n",
        "plt.show()"
      ],
      "metadata": {
        "colab": {
          "base_uri": "https://localhost:8080/",
          "height": 328
        },
        "id": "I9IDeKz7ngrO",
        "outputId": "202b173d-60ef-4ca4-87da-17111945e8f7"
      },
      "execution_count": 16,
      "outputs": [
        {
          "output_type": "stream",
          "name": "stdout",
          "text": [
            "[7]\n",
            "True prediction: horse\n"
          ]
        },
        {
          "output_type": "display_data",
          "data": {
            "text/plain": [
              "<Figure size 300x300 with 1 Axes>"
            ],
            "image/png": "[encoded data removed]"
          },
          "metadata": {}
        }
      ]
    },
    {
      "cell_type": "code",
      "source": [
        "# Adding the adversary noise to image\n",
        "perturbations = generate_adversary(image,label,0.2).numpy()\n",
        "adversarial = image + (perturbations * 0.05)"
      ],
      "metadata": {
        "id": "4k4KArWqm0ph"
      },
      "execution_count": 17,
      "outputs": []
    },
    {
      "cell_type": "code",
      "source": [
        "from art.estimators.classification import KerasClassifier\n",
        "# Comparing both images\n",
        "fig, (ax1,ax2) = plt.subplots(1, 2, sharey=True)\n",
        "print(f'Original Image Prediction: {label_names[model.predict(image).argmax()]}')\n",
        "ax1.imshow(image.reshape(height,width, channels))\n",
        "ax1.set_title(\"Original Image\")\n",
        "print(f\"Adversary Prediction: {label_names[model.predict(adversarial).argmax()]}\")\n",
        "ax2.imshow(adversarial.reshape(height,width, channels))\n",
        "ax2.set_title(\"Image with Adversary\")\n",
        "plt.show()"
      ],
      "metadata": {
        "id": "Pol4LB8iml8M",
        "colab": {
          "base_uri": "https://localhost:8080/",
          "height": 395
        },
        "outputId": "ddcfcc74-ad13-4d63-d88f-0e07d1ceaf31"
      },
      "execution_count": 18,
      "outputs": [
        {
          "output_type": "stream",
          "name": "stdout",
          "text": [
            "1/1 [==============================] - 0s 29ms/step\n",
            "Original Image Prediction: horse\n",
            "1/1 [==============================] - 0s 27ms/step\n"
          ]
        },
        {
          "output_type": "stream",
          "name": "stderr",
          "text": [
            "WARNING:matplotlib.image:Clipping input data to the valid range for imshow with RGB data ([0..1] for floats or [0..255] for integers).\n"
          ]
        },
        {
          "output_type": "stream",
          "name": "stdout",
          "text": [
            "Adversary Prediction: horse\n"
          ]
        },
        {
          "output_type": "display_data",
          "data": {
            "text/plain": [
              "<Figure size 640x480 with 2 Axes>"
            ],
            "image/png": "[encoded data removed]"
          },
          "metadata": {}
        }
      ]
    },
    {
      "cell_type": "code",
      "source": [
        "# Comparing predictions\n",
        "print(f'Normal Image Prediction: {label_names[model.predict(image).argmax()]}')\n",
        "print(f\"Adversary Prediction: {label_names[model.predict(adversarial).argmax()]}\")"
      ],
      "metadata": {
        "id": "uX3XJnUDmoun",
        "colab": {
          "base_uri": "https://localhost:8080/"
        },
        "outputId": "5994cb17-f6c3-45cc-a0ab-6d03d92f2c96"
      },
      "execution_count": 12,
      "outputs": [
        {
          "output_type": "stream",
          "name": "stdout",
          "text": [
            "1/1 [==============================] - 0s 28ms/step\n",
            "Normal Image Prediction: horse\n",
            "1/1 [==============================] - 0s 26ms/step\n",
            "Adversary Prediction: horse\n"
          ]
        }
      ]
    },
    {
      "cell_type": "code",
      "source": [
        "# Function to generate batch of images with adversary\n",
        "def adversary_generator(batch_size):\n",
        "  while True:\n",
        "    images = []\n",
        "    labels = []\n",
        "    for batch in range(batch_size):\n",
        "      # N = randint(0, 10000)\n",
        "      label = y_test[batch]\n",
        "      image = X_test_scaled[batch].reshape((1,height, width, channels))\n",
        "\n",
        "      perturbations = generate_adversary(image, label, 0.2).numpy()\n",
        "      adversarial = image + (perturbations * 0.2)\n",
        "\n",
        "      images.append(adversarial)\n",
        "      labels.append(label)\n",
        "\n",
        "      if batch%1000 == 0:\n",
        "        print(f\"{batch} images generated\")\n",
        "\n",
        "    images = np.asarray(images).reshape((batch_size, height, width, channels))\n",
        "    labels = np.asarray(labels)\n",
        "\n",
        "    yield images, labels"
      ],
      "metadata": {
        "id": "gnYBDM9gm5Cu"
      },
      "execution_count": 19,
      "outputs": []
    },
    {
      "cell_type": "code",
      "source": [
        "# Testing model accuracy on adversarial examples\n",
        "x_adversarial, y_adversarial = next(adversary_generator(10000))"
      ],
      "metadata": {
        "id": "K0oIszaGm6k9",
        "colab": {
          "base_uri": "https://localhost:8080/"
        },
        "outputId": "5c58266a-14a2-4aa3-8f8d-16634a9c9b89"
      },
      "execution_count": 20,
      "outputs": [
        {
          "output_type": "stream",
          "name": "stdout",
          "text": [
            "0 images generated\n",
            "1000 images generated\n",
            "2000 images generated\n",
            "3000 images generated\n",
            "4000 images generated\n",
            "5000 images generated\n",
            "6000 images generated\n",
            "7000 images generated\n",
            "8000 images generated\n",
            "9000 images generated\n"
          ]
        }
      ]
    },
    {
      "cell_type": "code",
      "source": [
        "ad_acc = model.evaluate(x_adversarial, y_test, verbose=0)\n",
        "print(f\"Accuracy on Adversarial Examples: {ad_acc[1]*100}\")"
      ],
      "metadata": {
        "id": "7BJXsi-Om-Mc",
        "colab": {
          "base_uri": "https://localhost:8080/"
        },
        "outputId": "f556229c-3c3d-4dd1-9895-468d2695b634"
      },
      "execution_count": 21,
      "outputs": [
        {
          "output_type": "stream",
          "name": "stdout",
          "text": [
            "Accuracy on Adversarial Examples: 80.77999949455261\n"
          ]
        }
      ]
    },
    {
      "cell_type": "code",
      "source": [
        "predictions_adv = model.predict(x_adversarial)\n",
        "predicted_labels_adv = np.argmax(predictions_adv, axis=1)"
      ],
      "metadata": {
        "id": "A92_katInD6l",
        "colab": {
          "base_uri": "https://localhost:8080/"
        },
        "outputId": "9808359a-a790-49bc-902b-3d213c9ad858"
      },
      "execution_count": 22,
      "outputs": [
        {
          "output_type": "stream",
          "name": "stdout",
          "text": [
            "313/313 [==============================] - 61s 196ms/step\n"
          ]
        }
      ]
    },
    {
      "cell_type": "code",
      "source": [
        "from sklearn.metrics import accuracy_score"
      ],
      "metadata": {
        "id": "7C3bpb6FrNeC"
      },
      "execution_count": 23,
      "outputs": []
    },
    {
      "cell_type": "code",
      "source": [
        "accuracy = accuracy_score(predicted_labels_adv, y_test)\n",
        "print(f'Accuracy: {accuracy * 100:.2f}%')"
      ],
      "metadata": {
        "id": "RVoARILXnF6d",
        "colab": {
          "base_uri": "https://localhost:8080/"
        },
        "outputId": "dde95a04-9b84-47aa-9be1-c46d777caf3f"
      },
      "execution_count": 24,
      "outputs": [
        {
          "output_type": "stream",
          "name": "stdout",
          "text": [
            "Accuracy: 80.78%\n"
          ]
        }
      ]
    },
    {
      "cell_type": "code",
      "source": [
        "np.save('X_Resnet50_adv_FGSM.npy', x_adversarial)\n",
        "np.save('Y_Resnet50_adv_FGSM.npy', predicted_labels_adv)"
      ],
      "metadata": {
        "id": "rP7KI0o0u-kZ"
      },
      "execution_count": 25,
      "outputs": []
    }
  ]
}