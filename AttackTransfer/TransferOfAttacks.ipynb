{
  "nbformat": 4,
  "nbformat_minor": 0,
  "metadata": {
    "colab": {
      "provenance": []
    },
    "kernelspec": {
      "name": "python3",
      "display_name": "Python 3"
    },
    "language_info": {
      "name": "python"
    }
  },
  "cells": [
    {
      "cell_type": "code",
      "execution_count": null,
      "metadata": {
        "id": "PS9I0IigV9SW"
      },
      "outputs": [],
      "source": [
        "import numpy as np\n",
        "from keras.models import load_model\n",
        "# Write the method to fetch the adversarial attack\n",
        "def get_attack(attack_file='default.npy'):\n",
        "  return np.load(attack_file)\n",
        "\n",
        "def get_model(model_file='default.h5'):\n",
        "  return load_model(model_file)"
      ]
    },
    {
      "cell_type": "code",
      "source": [
        "import tensorflow as tf\n",
        "from tensorflow.keras.datasets import cifar10\n",
        "from tensorflow.keras.utils import to_categorical\n",
        "(X_train, y_train), (X_test, y_test) = cifar10.load_data()\n",
        "\n",
        "print(f\"X_train shape: {X_train.shape}\")\n",
        "print(f\"y_train shape: {y_train.shape}\")\n",
        "print(f\"X_test shape: {X_test.shape}\")\n",
        "print(f\"y_test shape: {y_test.shape}\")"
      ],
      "metadata": {
        "colab": {
          "base_uri": "https://localhost:8080/"
        },
        "id": "4EbQExEdd8CD",
        "outputId": "64c24b4d-c2a1-4f15-b148-2fa8c66502b2"
      },
      "execution_count": null,
      "outputs": [
        {
          "output_type": "stream",
          "name": "stdout",
          "text": [
            "Downloading data from https://www.cs.toronto.edu/~kriz/cifar-10-python.tar.gz\n",
            "170498071/170498071 [==============================] - 2s 0us/step\n",
            "X_train shape: (50000, 32, 32, 3)\n",
            "y_train shape: (50000, 1)\n",
            "X_test shape: (10000, 32, 32, 3)\n",
            "y_test shape: (10000, 1)\n"
          ]
        }
      ]
    },
    {
      "cell_type": "code",
      "source": [
        "# Scale the data\n",
        "X_train = X_train / 255.0\n",
        "X_test = X_test / 255.0\n",
        "\n",
        "# Transform target variable into one-hotencoding\n",
        "y_train = to_categorical(y_train, 10)\n",
        "y_test = to_categorical(y_test, 10)"
      ],
      "metadata": {
        "id": "R8WTWMf9eFFY"
      },
      "execution_count": null,
      "outputs": []
    },
    {
      "cell_type": "code",
      "source": [
        "# Transfer the Hopskip Jump attacks on CNN onto the other models.\n",
        "x_adv = get_attack('/content/X_Resnet101_adv_Hopskip.npy')\n",
        "\n",
        "model_list = ['/content/cnn_20_epochs.h5', '/content/VGG_dropout.h5', '/content/VGG_dropout_augm_batch.h5']\n",
        "\n",
        "for model_file in model_list:\n",
        "  model = load_model(model_file)\n",
        "  print(f\"Testing for model: {model_file}\")\n",
        "  print(f\"Accuracy on adversarial images: {model.evaluate(x_adv, y_test, verbose=1)[1] * 100.0}\")"
      ],
      "metadata": {
        "colab": {
          "base_uri": "https://localhost:8080/"
        },
        "id": "o0vN_ZPMaiHf",
        "outputId": "f758887f-94b9-4e53-df51-631649277817"
      },
      "execution_count": null,
      "outputs": [
        {
          "output_type": "stream",
          "name": "stdout",
          "text": [
            "Testing for model: /content/cnn_20_epochs.h5\n",
            "313/313 [==============================] - 33s 103ms/step - loss: 4.2556 - accuracy: 0.3251 - precision: 0.3465 - recall: 0.3137\n",
            "Accuracy on adversarial images: 32.510000467300415\n",
            "Testing for model: /content/VGG_dropout.h5\n",
            "313/313 [==============================] - 23s 72ms/step - loss: 4.9820 - accuracy: 0.3624\n",
            "Accuracy on adversarial images: 36.239999532699585\n",
            "Testing for model: /content/VGG_dropout_augm_batch.h5\n",
            "313/313 [==============================] - 29s 91ms/step - loss: 4.4854 - accuracy: 0.2723\n",
            "Accuracy on adversarial images: 27.230000495910645\n"
          ]
        }
      ]
    },
    {
      "cell_type": "code",
      "source": [
        "# Transfer the PGD attacks on CNN onto the other models.\n",
        "x_adv = get_attack('/content/X_Resnet101_adv_PGD.npy')\n",
        "\n",
        "model_list = ['/content/cnn_20_epochs.h5', '/content/VGG_dropout.h5', '/content/VGG_dropout_augm_batch.h5']\n",
        "\n",
        "for model_file in model_list:\n",
        "  model = load_model(model_file)\n",
        "  print(f\"Testing for model: {model_file}\")\n",
        "  print(f\"Accuracy on adversarial images: {model.evaluate(x_adv, y_test, verbose=1)[1] * 100.0}\")"
      ],
      "metadata": {
        "id": "qOGdYjfcnbcD",
        "colab": {
          "base_uri": "https://localhost:8080/"
        },
        "outputId": "2fa28555-32d3-49d6-cff9-af220b988f99"
      },
      "execution_count": null,
      "outputs": [
        {
          "output_type": "stream",
          "name": "stdout",
          "text": [
            "Testing for model: /content/cnn_20_epochs.h5\n",
            "313/313 [==============================] - 27s 83ms/step - loss: 4.4757 - accuracy: 0.2335 - precision: 0.2628 - recall: 0.2103\n",
            "Accuracy on adversarial images: 23.350000381469727\n",
            "Testing for model: /content/VGG_dropout.h5\n",
            "313/313 [==============================] - 24s 77ms/step - loss: 7.7334 - accuracy: 0.2296\n",
            "Accuracy on adversarial images: 22.95999974012375\n",
            "Testing for model: /content/VGG_dropout_augm_batch.h5\n",
            "313/313 [==============================] - 30s 96ms/step - loss: 4.4966 - accuracy: 0.2032\n",
            "Accuracy on adversarial images: 20.319999754428864\n"
          ]
        }
      ]
    },
    {
      "cell_type": "code",
      "source": [
        "# Code for the resnet models\n",
        "from sklearn.metrics import accuracy_score\n",
        "x_adv = get_attack('/content/VGG_aug_x_adv_pgd.npy')\n",
        "\n",
        "model_list = ['/content/resnet101_keras_94.97.h5', '/content/resnet50_keras_94.08.h5']\n",
        "\n",
        "for model_file in model_list:\n",
        "  model = load_model(model_file)\n",
        "  predictions_adv = model.predict(x_adv)\n",
        "  predicted_labels_adv = np.argmax(predictions_adv, axis=1)\n",
        "  accuracy = accuracy_score(predicted_labels_adv, y_test)\n",
        "  print(f'Accuracy on Adversarial Examples from Resnet101 on Resnet50: {accuracy * 100}%')\n"
      ],
      "metadata": {
        "id": "nAk4eaf-s7pd"
      },
      "execution_count": null,
      "outputs": []
    }
  ]
}