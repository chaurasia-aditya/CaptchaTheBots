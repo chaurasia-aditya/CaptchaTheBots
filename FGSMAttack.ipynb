{
  "metadata": {
    "kernelspec": {
      "language": "python",
      "display_name": "Python 3",
      "name": "python3"
    },
    "language_info": {
      "name": "python",
      "version": "3.6.6",
      "mimetype": "text/x-python",
      "codemirror_mode": {
        "name": "ipython",
        "version": 3
      },
      "pygments_lexer": "ipython3",
      "nbconvert_exporter": "python",
      "file_extension": ".py"
    },
    "colab": {
      "provenance": []
    }
  },
  "nbformat_minor": 0,
  "nbformat": 4,
  "cells": [
    {
      "cell_type": "code",
      "source": [
        "!pip install adversarial-robustness-toolbox"
      ],
      "metadata": {
        "colab": {
          "base_uri": "https://localhost:8080/"
        },
        "id": "lC0OV3WPrAQv",
        "outputId": "b2e6f6fe-94a7-4483-cd40-c7f39025761f"
      },
      "execution_count": null,
      "outputs": [
        {
          "output_type": "stream",
          "name": "stdout",
          "text": [
            "Collecting adversarial-robustness-toolbox\n",
            "  Downloading adversarial_robustness_toolbox-1.16.0-py3-none-any.whl (1.6 MB)\n",
            "\u001b[2K     \u001b[90m━━━━━━━━━━━━━━━━━━━━━━━━━━━━━━━━━━━━━━━━\u001b[0m \u001b[32m1.6/1.6 MB\u001b[0m \u001b[31m16.1 MB/s\u001b[0m eta \u001b[36m0:00:00\u001b[0m\n",
            "\u001b[?25hRequirement already satisfied: numpy>=1.18.0 in /usr/local/lib/python3.10/dist-packages (from adversarial-robustness-toolbox) (1.23.5)\n",
            "Requirement already satisfied: scipy>=1.4.1 in /usr/local/lib/python3.10/dist-packages (from adversarial-robustness-toolbox) (1.11.3)\n",
            "Collecting scikit-learn<1.2.0,>=0.22.2 (from adversarial-robustness-toolbox)\n",
            "  Downloading scikit_learn-1.1.3-cp310-cp310-manylinux_2_17_x86_64.manylinux2014_x86_64.whl (30.5 MB)\n",
            "\u001b[2K     \u001b[90m━━━━━━━━━━━━━━━━━━━━━━━━━━━━━━━━━━━━━━━━\u001b[0m \u001b[32m30.5/30.5 MB\u001b[0m \u001b[31m30.2 MB/s\u001b[0m eta \u001b[36m0:00:00\u001b[0m\n",
            "\u001b[?25hRequirement already satisfied: six in /usr/local/lib/python3.10/dist-packages (from adversarial-robustness-toolbox) (1.16.0)\n",
            "Requirement already satisfied: setuptools in /usr/local/lib/python3.10/dist-packages (from adversarial-robustness-toolbox) (67.7.2)\n",
            "Requirement already satisfied: tqdm in /usr/local/lib/python3.10/dist-packages (from adversarial-robustness-toolbox) (4.66.1)\n",
            "Requirement already satisfied: joblib>=1.0.0 in /usr/local/lib/python3.10/dist-packages (from scikit-learn<1.2.0,>=0.22.2->adversarial-robustness-toolbox) (1.3.2)\n",
            "Requirement already satisfied: threadpoolctl>=2.0.0 in /usr/local/lib/python3.10/dist-packages (from scikit-learn<1.2.0,>=0.22.2->adversarial-robustness-toolbox) (3.2.0)\n",
            "Installing collected packages: scikit-learn, adversarial-robustness-toolbox\n",
            "  Attempting uninstall: scikit-learn\n",
            "    Found existing installation: scikit-learn 1.2.2\n",
            "    Uninstalling scikit-learn-1.2.2:\n",
            "      Successfully uninstalled scikit-learn-1.2.2\n",
            "\u001b[31mERROR: pip's dependency resolver does not currently take into account all the packages that are installed. This behaviour is the source of the following dependency conflicts.\n",
            "bigframes 0.13.0 requires scikit-learn>=1.2.2, but you have scikit-learn 1.1.3 which is incompatible.\u001b[0m\u001b[31m\n",
            "\u001b[0mSuccessfully installed adversarial-robustness-toolbox-1.16.0 scikit-learn-1.1.3\n"
          ]
        }
      ]
    },
    {
      "cell_type": "code",
      "source": [
        "from keras.models import load_model\n",
        "model = load_model('/content/cnn_20_epochs.h5')"
      ],
      "metadata": {
        "id": "Ed9cLjpEU4du"
      },
      "execution_count": null,
      "outputs": []
    },
    {
      "cell_type": "code",
      "source": [
        "# Importing required modules\n",
        "\n",
        "import tensorflow as tf\n",
        "from tensorflow.keras import Sequential\n",
        "from tensorflow.keras.callbacks import LambdaCallback\n",
        "import tensorflow.keras.layers as L\n",
        "from tensorflow.keras.datasets import mnist, cifar10\n",
        "\n",
        "import numpy as np\n",
        "import matplotlib.pyplot as plt\n",
        "from random import randint\n",
        "from tqdm import tqdm\n"
      ],
      "metadata": {
        "_uuid": "8f2839f25d086af736a60e9eeb907d3b93b6e0e5",
        "_cell_guid": "b1076dfc-b9ad-4769-8c92-a6c4dae69d19",
        "execution": {
          "iopub.status.busy": "2021-12-22T09:50:39.998011Z",
          "iopub.execute_input": "2021-12-22T09:50:39.998470Z",
          "iopub.status.idle": "2021-12-22T09:50:46.430807Z",
          "shell.execute_reply.started": "2021-12-22T09:50:39.998286Z",
          "shell.execute_reply": "2021-12-22T09:50:46.429998Z"
        },
        "trusted": true,
        "id": "ZTv4qU02UwFy"
      },
      "execution_count": null,
      "outputs": []
    },
    {
      "cell_type": "code",
      "source": [
        "import tensorflow as tf\n",
        "from tensorflow.keras.datasets import cifar10\n",
        "from tensorflow.keras.utils import to_categorical\n",
        "(X_train, y_train), (X_test, y_test) = cifar10.load_data()\n",
        "\n",
        "print(f\"X_train shape: {X_train.shape}\")\n",
        "print(f\"y_train shape: {y_train.shape}\")\n",
        "print(f\"X_test shape: {X_test.shape}\")\n",
        "print(f\"y_test shape: {y_test.shape}\")"
      ],
      "metadata": {
        "colab": {
          "base_uri": "https://localhost:8080/"
        },
        "id": "K9q1HHOpU_oY",
        "outputId": "364c27c1-cdf3-46f8-9457-529818ba7894"
      },
      "execution_count": null,
      "outputs": [
        {
          "output_type": "stream",
          "name": "stdout",
          "text": [
            "Downloading data from https://www.cs.toronto.edu/~kriz/cifar-10-python.tar.gz\n",
            "170498071/170498071 [==============================] - 2s 0us/step\n",
            "X_train shape: (50000, 32, 32, 3)\n",
            "y_train shape: (50000, 1)\n",
            "X_test shape: (10000, 32, 32, 3)\n",
            "y_test shape: (10000, 1)\n"
          ]
        }
      ]
    },
    {
      "cell_type": "code",
      "source": [
        "# Scale the data\n",
        "X_train = X_train / 255.0\n",
        "X_test = X_test / 255.0\n",
        "\n",
        "# Transform target variable into one-hotencoding\n",
        "y_train = to_categorical(y_train, 10)\n",
        "y_test = to_categorical(y_test, 10)"
      ],
      "metadata": {
        "id": "S48lpHRSVCPp"
      },
      "execution_count": null,
      "outputs": []
    },
    {
      "cell_type": "code",
      "source": [
        "# Utility functions\n",
        "def print_shapes(x_train, x_test, y_train, y_test):\n",
        "  print(f\"x_train: {x_train.shape}\\n\"\\\n",
        "      f\"x_test: {x_test.shape}\\n\"\\\n",
        "      f\"y_train: {y_train.shape}\\n\"\\\n",
        "      f\"y_test: {y_test.shape}\\n\")"
      ],
      "metadata": {
        "_uuid": "d629ff2d2480ee46fbb7e2d37f6b5fab8052498a",
        "_cell_guid": "79c7e3d0-c299-4dcb-8224-4455121ee9b0",
        "execution": {
          "iopub.status.busy": "2021-12-22T10:08:20.085034Z",
          "iopub.execute_input": "2021-12-22T10:08:20.085325Z",
          "iopub.status.idle": "2021-12-22T10:08:20.089982Z",
          "shell.execute_reply.started": "2021-12-22T10:08:20.085273Z",
          "shell.execute_reply": "2021-12-22T10:08:20.088876Z"
        },
        "trusted": true,
        "id": "ZOHWIfIRUwFz"
      },
      "execution_count": null,
      "outputs": []
    },
    {
      "cell_type": "code",
      "source": [
        "# loading the dataset\n",
        "(x_train, y_train), (x_test, y_test) = cifar10.load_data()\n",
        "print_shapes(x_train, x_test, y_train, y_test)"
      ],
      "metadata": {
        "execution": {
          "iopub.status.busy": "2021-12-22T10:08:24.096640Z",
          "iopub.execute_input": "2021-12-22T10:08:24.096968Z",
          "iopub.status.idle": "2021-12-22T10:08:33.680328Z",
          "shell.execute_reply.started": "2021-12-22T10:08:24.096917Z",
          "shell.execute_reply": "2021-12-22T10:08:33.679444Z"
        },
        "trusted": true,
        "colab": {
          "base_uri": "https://localhost:8080/"
        },
        "id": "TFImybg4UwFz",
        "outputId": "c09a31bf-5c73-4c54-fee1-dc79a7360948"
      },
      "execution_count": null,
      "outputs": [
        {
          "output_type": "stream",
          "name": "stdout",
          "text": [
            "x_train: (50000, 32, 32, 3)\n",
            "x_test: (10000, 32, 32, 3)\n",
            "y_train: (50000, 1)\n",
            "y_test: (10000, 1)\n",
            "\n"
          ]
        }
      ]
    },
    {
      "cell_type": "code",
      "source": [
        "# Preprocessing images and labels\n",
        "height, width, channels = 32, 32, 3\n",
        "nb_classes = 10\n",
        "label_names = ['airplane', 'automobile', 'bird', 'cat', 'deer', 'dog', 'frog',\n",
        "               'horse', 'ship', 'truck']\n",
        "\n",
        "x_train = x_train / 255\n",
        "x_test = x_test / 255\n",
        "\n",
        "x_train = x_train.reshape((-1, height, width, channels))\n",
        "x_test = x_test.reshape((-1, height, width, channels))\n",
        "\n",
        "y_train = tf.keras.utils.to_categorical(y_train, nb_classes)\n",
        "y_test = tf.keras.utils.to_categorical(y_test, nb_classes)\n",
        "\n",
        "print_shapes(x_train, x_test, y_train, y_test)"
      ],
      "metadata": {
        "execution": {
          "iopub.status.busy": "2021-12-22T10:08:43.660455Z",
          "iopub.execute_input": "2021-12-22T10:08:43.660770Z",
          "iopub.status.idle": "2021-12-22T10:08:44.143527Z",
          "shell.execute_reply.started": "2021-12-22T10:08:43.660714Z",
          "shell.execute_reply": "2021-12-22T10:08:44.142717Z"
        },
        "trusted": true,
        "colab": {
          "base_uri": "https://localhost:8080/"
        },
        "id": "-xojxB6QUwFz",
        "outputId": "ffac313f-a7aa-437f-dda6-bfd4c7a5aa86"
      },
      "execution_count": null,
      "outputs": [
        {
          "output_type": "stream",
          "name": "stdout",
          "text": [
            "x_train: (50000, 32, 32, 3)\n",
            "x_test: (10000, 32, 32, 3)\n",
            "y_train: (50000, 10)\n",
            "y_test: (10000, 10)\n",
            "\n"
          ]
        }
      ]
    },
    {
      "cell_type": "markdown",
      "source": [
        "### Fast Gradient Signed Method (FGSM) attack to generate noise."
      ],
      "metadata": {
        "id": "EZ0WZwJtUwF0"
      }
    },
    {
      "cell_type": "code",
      "source": [
        "# Function to calculate adversary noise\n",
        "def generate_adversary(image, label, epsilon=0.1):\n",
        "  image = tf.cast(image, tf.float32)\n",
        "\n",
        "  with tf.GradientTape() as tape:\n",
        "    tape.watch(image)\n",
        "    prediction = model(image)\n",
        "    loss = tf.keras.losses.MSE(label, prediction)\n",
        "  gradient = tape.gradient(loss, image)\n",
        "  sign_grad = tf.sign(gradient)\n",
        "  perturbation = epsilon * sign_grad  # Apply epsilon to the sign gradient\n",
        "\n",
        "  return perturbation\n",
        "\n",
        "  # return sign_grad"
      ],
      "metadata": {
        "execution": {
          "iopub.status.busy": "2021-12-22T10:11:48.168472Z",
          "iopub.execute_input": "2021-12-22T10:11:48.168782Z",
          "iopub.status.idle": "2021-12-22T10:11:48.174814Z",
          "shell.execute_reply.started": "2021-12-22T10:11:48.168725Z",
          "shell.execute_reply": "2021-12-22T10:11:48.173812Z"
        },
        "trusted": true,
        "id": "Glgg92wvUwF0"
      },
      "execution_count": null,
      "outputs": []
    },
    {
      "cell_type": "code",
      "source": [
        "height, width, channels = 32, 32, 3"
      ],
      "metadata": {
        "id": "H119dMfFVczl"
      },
      "execution_count": null,
      "outputs": []
    },
    {
      "cell_type": "code",
      "source": [
        "# Selecting random image for testing\n",
        "rand_idx = randint(0,49999)\n",
        "image = X_train[rand_idx].reshape((1, height, width, channels))\n",
        "label = y_train[rand_idx]\n",
        "\n",
        "print(f'Prediction from CNN: {label_names[np.where(label==1)[0][0]]}')\n",
        "plt.figure(figsize=(3,3))\n",
        "plt.imshow(image.reshape((height, width, channels)))\n",
        "plt.show()"
      ],
      "metadata": {
        "execution": {
          "iopub.status.busy": "2021-12-22T10:11:51.684855Z",
          "iopub.execute_input": "2021-12-22T10:11:51.685142Z",
          "iopub.status.idle": "2021-12-22T10:11:51.856249Z",
          "shell.execute_reply.started": "2021-12-22T10:11:51.685094Z",
          "shell.execute_reply": "2021-12-22T10:11:51.855501Z"
        },
        "trusted": true,
        "colab": {
          "base_uri": "https://localhost:8080/",
          "height": 311
        },
        "id": "dANo1HI9UwF0",
        "outputId": "530f7125-e8a7-41aa-e504-cd86d5b43822"
      },
      "execution_count": null,
      "outputs": [
        {
          "output_type": "stream",
          "name": "stdout",
          "text": [
            "Prediction from CNN: dog\n"
          ]
        },
        {
          "output_type": "display_data",
          "data": {
            "text/plain": [
              "<Figure size 300x300 with 1 Axes>"
            ],
            "image/png": "[encoded data removed]"
          },
          "metadata": {}
        }
      ]
    },
    {
      "cell_type": "code",
      "source": [
        "# Adding the adversary noise to image\n",
        "perturbations = generate_adversary(image,label,0.2).numpy()\n",
        "adversarial = image + (perturbations * 0.05)"
      ],
      "metadata": {
        "execution": {
          "iopub.status.busy": "2021-12-22T10:11:55.748796Z",
          "iopub.execute_input": "2021-12-22T10:11:55.749099Z",
          "iopub.status.idle": "2021-12-22T10:11:55.830174Z",
          "shell.execute_reply.started": "2021-12-22T10:11:55.749049Z",
          "shell.execute_reply": "2021-12-22T10:11:55.829524Z"
        },
        "trusted": true,
        "id": "gPofB-7jUwF0"
      },
      "execution_count": null,
      "outputs": []
    },
    {
      "cell_type": "code",
      "source": [
        "from art.estimators.classification import KerasClassifier\n",
        "# Comparing both images\n",
        "fig, (ax1,ax2) = plt.subplots(1, 2, sharey=True)\n",
        "print(f'Original Image Prediction: {label_names[model.predict(image).argmax()]}')\n",
        "ax1.imshow(image.reshape(height,width, channels))\n",
        "ax1.set_title(\"Original Image\")\n",
        "print(f\"Adversary Prediction: {label_names[model.predict(adversarial).argmax()]}\")\n",
        "ax2.imshow(adversarial.reshape(height,width, channels))\n",
        "ax2.set_title(\"Image with Adversary\")\n",
        "plt.show()"
      ],
      "metadata": {
        "execution": {
          "iopub.status.busy": "2021-12-22T10:12:02.246909Z",
          "iopub.execute_input": "2021-12-22T10:12:02.247193Z",
          "iopub.status.idle": "2021-12-22T10:12:02.545069Z",
          "shell.execute_reply.started": "2021-12-22T10:12:02.247144Z",
          "shell.execute_reply": "2021-12-22T10:12:02.544263Z"
        },
        "trusted": true,
        "colab": {
          "base_uri": "https://localhost:8080/",
          "height": 379
        },
        "id": "oo2M9r_bUwF0",
        "outputId": "31dd21d7-0e3c-4ca1-8369-65f5d4c148bf"
      },
      "execution_count": null,
      "outputs": [
        {
          "output_type": "stream",
          "name": "stdout",
          "text": [
            "1/1 [==============================] - 0s 59ms/step\n",
            "Original Image Prediction: dog\n",
            "1/1 [==============================] - 0s 96ms/step\n",
            "Adversary Prediction: frog\n"
          ]
        },
        {
          "output_type": "display_data",
          "data": {
            "text/plain": [
              "<Figure size 640x480 with 2 Axes>"
            ],
            "image/png": "[encoded data removed]"
          },
          "metadata": {}
        }
      ]
    },
    {
      "cell_type": "code",
      "source": [
        "# Comparing predictions\n",
        "print(f'Normal Image Prediction: {label_names[model.predict(image).argmax()]}')\n",
        "print(f\"Adversary Prediction: {label_names[model.predict(adversarial).argmax()]}\")"
      ],
      "metadata": {
        "execution": {
          "iopub.status.busy": "2021-12-22T10:12:08.072286Z",
          "iopub.execute_input": "2021-12-22T10:12:08.072797Z",
          "iopub.status.idle": "2021-12-22T10:12:08.189971Z",
          "shell.execute_reply.started": "2021-12-22T10:12:08.072587Z",
          "shell.execute_reply": "2021-12-22T10:12:08.188907Z"
        },
        "trusted": true,
        "colab": {
          "base_uri": "https://localhost:8080/"
        },
        "id": "ydmfnnFXUwF0",
        "outputId": "a8b10490-1c12-457f-eeb4-970994959efa"
      },
      "execution_count": null,
      "outputs": [
        {
          "output_type": "stream",
          "name": "stdout",
          "text": [
            "1/1 [==============================] - 0s 30ms/step\n",
            "Normal Image Prediction: dog\n",
            "1/1 [==============================] - 0s 26ms/step\n",
            "Adversary Prediction: frog\n"
          ]
        }
      ]
    },
    {
      "cell_type": "code",
      "source": [
        "# Function to generate batch of images with adversary\n",
        "def adversary_generator(batch_size):\n",
        "  while True:\n",
        "    images = []\n",
        "    labels = []\n",
        "    for batch in range(batch_size):\n",
        "      N = randint(0, 49999)\n",
        "      label = y_train[N]\n",
        "      image = x_train[N].reshape((1,height, width, channels))\n",
        "\n",
        "      perturbations = generate_adversary(image, label,0.2).numpy()\n",
        "      adversarial = image + (perturbations * 0.2)\n",
        "\n",
        "      images.append(adversarial)\n",
        "      labels.append(label)\n",
        "\n",
        "      if batch%1000 == 0:\n",
        "        print(f\"{batch} images generated\")\n",
        "\n",
        "    images = np.asarray(images).reshape((batch_size, height, width, channels))\n",
        "    labels = np.asarray(labels)\n",
        "\n",
        "    yield images, labels"
      ],
      "metadata": {
        "execution": {
          "iopub.status.busy": "2021-12-22T10:12:14.372434Z",
          "iopub.execute_input": "2021-12-22T10:12:14.372798Z",
          "iopub.status.idle": "2021-12-22T10:12:14.380591Z",
          "shell.execute_reply.started": "2021-12-22T10:12:14.372739Z",
          "shell.execute_reply": "2021-12-22T10:12:14.379787Z"
        },
        "trusted": true,
        "id": "xbLNnXk-UwF0"
      },
      "execution_count": null,
      "outputs": []
    },
    {
      "cell_type": "code",
      "source": [
        "# Testing model accuracy on adversarial examples\n",
        "x_adversarial, y_adversarial = next(adversary_generator(10000))\n",
        "ad_acc = model.evaluate(x_adversarial, y_adversarial, verbose=0)\n",
        "print(f\"Accuracy on Adversarial Examples: {ad_acc[1]*100}\")"
      ],
      "metadata": {
        "execution": {
          "iopub.status.busy": "2021-12-22T10:12:20.572993Z",
          "iopub.execute_input": "2021-12-22T10:12:20.573281Z",
          "iopub.status.idle": "2021-12-22T10:13:54.159188Z",
          "shell.execute_reply.started": "2021-12-22T10:12:20.573229Z",
          "shell.execute_reply": "2021-12-22T10:13:54.158347Z"
        },
        "trusted": true,
        "colab": {
          "base_uri": "https://localhost:8080/"
        },
        "id": "Bbzs0fK9UwF1",
        "outputId": "4227d1b2-23a9-414d-8b8c-1dbce52cb11f"
      },
      "execution_count": null,
      "outputs": [
        {
          "output_type": "stream",
          "name": "stdout",
          "text": [
            "0 images generated\n",
            "1000 images generated\n",
            "2000 images generated\n",
            "3000 images generated\n",
            "4000 images generated\n",
            "5000 images generated\n",
            "6000 images generated\n",
            "7000 images generated\n",
            "8000 images generated\n",
            "9000 images generated\n",
            "Accuracy on Adversarial Examples: 5.550000071525574\n"
          ]
        }
      ]
    },
    {
      "cell_type": "code",
      "source": [
        "import h5py\n",
        "with h5py.File('adversarial_data_cnn.h5', 'w') as f:\n",
        "    f.create_dataset('x_adversarial', data=x_adversarial)\n",
        "    f.create_dataset('y_adversarial', data=y_adversarial)"
      ],
      "metadata": {
        "id": "wXeeDDwm0MP4"
      },
      "execution_count": null,
      "outputs": []
    },
    {
      "cell_type": "markdown",
      "source": [
        "### For VGG Dropout Data Augmentation model"
      ],
      "metadata": {
        "id": "MQ5s5IdapMYC"
      }
    },
    {
      "cell_type": "code",
      "source": [
        "from keras.models import load_model\n",
        "model = load_model('/content/VGG_dropout_augm_batch.h5')"
      ],
      "metadata": {
        "id": "CsbWwMXBvePN"
      },
      "execution_count": null,
      "outputs": []
    },
    {
      "cell_type": "code",
      "source": [
        "# Function to calculate adversary noise\n",
        "def generate_adversary(image, label, epsilon=0.1):\n",
        "  image = tf.cast(image, tf.float32)\n",
        "\n",
        "  with tf.GradientTape() as tape:\n",
        "    tape.watch(image)\n",
        "    prediction = model(image)\n",
        "    loss = tf.keras.losses.MSE(label, prediction)\n",
        "  gradient = tape.gradient(loss, image)\n",
        "  sign_grad = tf.sign(gradient)\n",
        "  perturbation = epsilon * sign_grad  # Apply epsilon to the sign gradient\n",
        "\n",
        "  return perturbation\n",
        "\n",
        "  # return sign_grad"
      ],
      "metadata": {
        "id": "9gN4BOD-vle5"
      },
      "execution_count": null,
      "outputs": []
    },
    {
      "cell_type": "code",
      "source": [
        "# Selecting random image for testing\n",
        "rand_idx = randint(0,49999)\n",
        "image = X_train[rand_idx].reshape((1, height, width, channels))\n",
        "label = y_train[rand_idx]\n",
        "\n",
        "print(f'Prediction from VGG_droppout_augm_batch: {label_names[np.where(label==1)[0][0]]}')\n",
        "plt.figure(figsize=(3,3))\n",
        "plt.imshow(image.reshape((height, width, channels)))\n",
        "plt.show()"
      ],
      "metadata": {
        "colab": {
          "base_uri": "https://localhost:8080/",
          "height": 311
        },
        "id": "0UyGT7HovoVz",
        "outputId": "f301e9fe-2767-40ff-e650-31a018ae57bc"
      },
      "execution_count": null,
      "outputs": [
        {
          "output_type": "stream",
          "name": "stdout",
          "text": [
            "Prediction from VGG_droppout_augm_batch: truck\n"
          ]
        },
        {
          "output_type": "display_data",
          "data": {
            "text/plain": [
              "<Figure size 300x300 with 1 Axes>"
            ],
            "image/png": "[encoded data removed]"
          },
          "metadata": {}
        }
      ]
    },
    {
      "cell_type": "code",
      "source": [
        "# Adding the adversary noise to image\n",
        "perturbations = generate_adversary(image,label,0.2).numpy()\n",
        "adversarial = image + (perturbations * 0.05)"
      ],
      "metadata": {
        "id": "dP4uU4gfv5hL"
      },
      "execution_count": null,
      "outputs": []
    },
    {
      "cell_type": "code",
      "source": [
        "from art.estimators.classification import KerasClassifier\n",
        "# Comparing both images\n",
        "fig, (ax1,ax2) = plt.subplots(1, 2, sharey=True)\n",
        "print(f'Original Image Prediction: {label_names[model.predict(image).argmax()]}')\n",
        "ax1.imshow(image.reshape(height,width, channels))\n",
        "ax1.set_title(\"Original Image\")\n",
        "print(f\"Adversary Prediction: {label_names[model.predict(adversarial).argmax()]}\")\n",
        "ax2.imshow(adversarial.reshape(height,width, channels))\n",
        "ax2.set_title(\"Image with Adversary\")\n",
        "plt.show()"
      ],
      "metadata": {
        "colab": {
          "base_uri": "https://localhost:8080/",
          "height": 397
        },
        "id": "I_s2NlZOv9PT",
        "outputId": "3cbc6244-cc28-4e2c-ac44-0bc96809e6bb"
      },
      "execution_count": null,
      "outputs": [
        {
          "output_type": "stream",
          "name": "stdout",
          "text": [
            "1/1 [==============================] - 0s 23ms/step\n",
            "Original Image Prediction: truck\n",
            "1/1 [==============================] - 0s 26ms/step\n"
          ]
        },
        {
          "output_type": "stream",
          "name": "stderr",
          "text": [
            "WARNING:matplotlib.image:Clipping input data to the valid range for imshow with RGB data ([0..1] for floats or [0..255] for integers).\n"
          ]
        },
        {
          "output_type": "stream",
          "name": "stdout",
          "text": [
            "Adversary Prediction: automobile\n"
          ]
        },
        {
          "output_type": "display_data",
          "data": {
            "text/plain": [
              "<Figure size 640x480 with 2 Axes>"
            ],
            "image/png": "[encoded data removed]"
          },
          "metadata": {}
        }
      ]
    },
    {
      "cell_type": "code",
      "source": [
        "# Comparing predictions\n",
        "print(f'Normal Image Prediction: {label_names[model.predict(image).argmax()]}')\n",
        "print(f\"Adversary Prediction: {label_names[model.predict(adversarial).argmax()]}\")"
      ],
      "metadata": {
        "colab": {
          "base_uri": "https://localhost:8080/"
        },
        "id": "M_KHTUVewqZP",
        "outputId": "27112b34-885a-4df4-ff96-ee9ad656bffb"
      },
      "execution_count": null,
      "outputs": [
        {
          "output_type": "stream",
          "name": "stdout",
          "text": [
            "1/1 [==============================] - 0s 36ms/step\n",
            "Normal Image Prediction: truck\n",
            "1/1 [==============================] - 0s 96ms/step\n",
            "Adversary Prediction: automobile\n"
          ]
        }
      ]
    },
    {
      "cell_type": "code",
      "source": [
        "# Function to generate batch of images with adversary\n",
        "def adversary_generator(batch_size):\n",
        "  while True:\n",
        "    images = []\n",
        "    labels = []\n",
        "    for batch in range(batch_size):\n",
        "      N = randint(0, 49999)\n",
        "      label = y_train[N]\n",
        "      image = x_train[N].reshape((1,height, width, channels))\n",
        "\n",
        "      perturbations = generate_adversary(image, label,0.2).numpy()\n",
        "      adversarial = image + (perturbations * 0.2)\n",
        "\n",
        "      images.append(adversarial)\n",
        "      labels.append(label)\n",
        "\n",
        "      if batch%1000 == 0:\n",
        "        print(f\"{batch} images generated\")\n",
        "\n",
        "    images = np.asarray(images).reshape((batch_size, height, width, channels))\n",
        "    labels = np.asarray(labels)\n",
        "\n",
        "    yield images, labels"
      ],
      "metadata": {
        "id": "8tEXs_jUwuB_"
      },
      "execution_count": null,
      "outputs": []
    },
    {
      "cell_type": "code",
      "source": [
        "# Testing model accuracy on adversarial examples\n",
        "x_adversarial, y_adversarial = next(adversary_generator(10000))\n",
        "ad_acc = model.evaluate(x_adversarial, y_adversarial, verbose=0)\n",
        "print(f\"Accuracy on Adversarial Examples: {ad_acc[1]*100}\")"
      ],
      "metadata": {
        "colab": {
          "base_uri": "https://localhost:8080/"
        },
        "id": "0YdquyR7wxs6",
        "outputId": "83d87847-d593-40aa-f651-7d8b4f23234a"
      },
      "execution_count": null,
      "outputs": [
        {
          "output_type": "stream",
          "name": "stdout",
          "text": [
            "0 images generated\n",
            "1000 images generated\n",
            "2000 images generated\n",
            "3000 images generated\n",
            "4000 images generated\n",
            "5000 images generated\n",
            "6000 images generated\n",
            "7000 images generated\n",
            "8000 images generated\n",
            "9000 images generated\n",
            "Accuracy on Adversarial Examples: 4.919999837875366\n"
          ]
        }
      ]
    },
    {
      "cell_type": "code",
      "source": [
        "import h5py\n",
        "with h5py.File('adversarial_data_vgg_augm.h5', 'w') as f:\n",
        "    f.create_dataset('x_adversarial', data=x_adversarial)\n",
        "    f.create_dataset('y_adversarial', data=y_adversarial)"
      ],
      "metadata": {
        "id": "jLNYcugiw4dk"
      },
      "execution_count": null,
      "outputs": []
    },
    {
      "cell_type": "markdown",
      "source": [
        "### For VGG Dropout Batch Normalization Model"
      ],
      "metadata": {
        "id": "EYxZAOiGpjVR"
      }
    },
    {
      "cell_type": "code",
      "source": [],
      "metadata": {
        "id": "H_EAkJa0pjAO"
      },
      "execution_count": null,
      "outputs": []
    },
    {
      "cell_type": "code",
      "source": [
        "from keras.models import load_model\n",
        "model = load_model('/content/VGG_dropout.h5')"
      ],
      "metadata": {
        "id": "38PZe3_yxSGx"
      },
      "execution_count": null,
      "outputs": []
    },
    {
      "cell_type": "code",
      "source": [
        "# Function to calculate adversary noise\n",
        "def generate_adversary(image, label, epsilon=0.1):\n",
        "  image = tf.cast(image, tf.float32)\n",
        "\n",
        "  with tf.GradientTape() as tape:\n",
        "    tape.watch(image)\n",
        "    prediction = model(image)\n",
        "    loss = tf.keras.losses.MSE(label, prediction)\n",
        "  gradient = tape.gradient(loss, image)\n",
        "  sign_grad = tf.sign(gradient)\n",
        "  perturbation = epsilon * sign_grad  # Apply epsilon to the sign gradient\n",
        "\n",
        "  return perturbation\n",
        "\n",
        "  # return sign_grad"
      ],
      "metadata": {
        "id": "WZ-ESNizxW99"
      },
      "execution_count": null,
      "outputs": []
    },
    {
      "cell_type": "code",
      "source": [
        "# Selecting random image for testing\n",
        "rand_idx = randint(0,49999)\n",
        "image = X_train[rand_idx].reshape((1, height, width, channels))\n",
        "label = y_train[rand_idx]\n",
        "\n",
        "print(f'Prediction from VGG_droppout_augm_batch: {label_names[np.where(label==1)[0][0]]}')\n",
        "plt.figure(figsize=(3,3))\n",
        "plt.imshow(image.reshape((height, width, channels)))\n",
        "plt.show()"
      ],
      "metadata": {
        "colab": {
          "base_uri": "https://localhost:8080/",
          "height": 311
        },
        "id": "RmEWezaMxY8H",
        "outputId": "3b904602-902c-4c1a-9d57-16d2f2064c72"
      },
      "execution_count": null,
      "outputs": [
        {
          "output_type": "stream",
          "name": "stdout",
          "text": [
            "Prediction from VGG_droppout_augm_batch: airplane\n"
          ]
        },
        {
          "output_type": "display_data",
          "data": {
            "text/plain": [
              "<Figure size 300x300 with 1 Axes>"
            ],
            "image/png": "[encoded data removed]"
          },
          "metadata": {}
        }
      ]
    },
    {
      "cell_type": "code",
      "source": [
        "# Adding the adversary noise to image\n",
        "perturbations = generate_adversary(image,label,0.2).numpy()\n",
        "adversarial = image + (perturbations * 0.05)"
      ],
      "metadata": {
        "id": "F3fz0TKJxbH2"
      },
      "execution_count": null,
      "outputs": []
    },
    {
      "cell_type": "code",
      "source": [
        "from art.estimators.classification import KerasClassifier\n",
        "# Comparing both images\n",
        "fig, (ax1,ax2) = plt.subplots(1, 2, sharey=True)\n",
        "print(f'Original Image Prediction: {label_names[model.predict(image).argmax()]}')\n",
        "ax1.imshow(image.reshape(height,width, channels))\n",
        "ax1.set_title(\"Original Image\")\n",
        "print(f\"Adversary Prediction: {label_names[model.predict(adversarial).argmax()]}\")\n",
        "ax2.imshow(adversarial.reshape(height,width, channels))\n",
        "ax2.set_title(\"Image with Adversary\")\n",
        "plt.show()"
      ],
      "metadata": {
        "colab": {
          "base_uri": "https://localhost:8080/",
          "height": 379
        },
        "id": "65pH64ujxc2S",
        "outputId": "85619f47-9d9a-4118-a47f-fbc3a683a03a"
      },
      "execution_count": null,
      "outputs": [
        {
          "output_type": "stream",
          "name": "stdout",
          "text": [
            "1/1 [==============================] - 0s 25ms/step\n",
            "Original Image Prediction: airplane\n",
            "1/1 [==============================] - 0s 23ms/step\n",
            "Adversary Prediction: ship\n"
          ]
        },
        {
          "output_type": "display_data",
          "data": {
            "text/plain": [
              "<Figure size 640x480 with 2 Axes>"
            ],
            "image/png": "[encoded data removed]"
          },
          "metadata": {}
        }
      ]
    },
    {
      "cell_type": "code",
      "source": [
        "# Comparing predictions\n",
        "print(f'Normal Image Prediction: {label_names[model.predict(image).argmax()]}')\n",
        "print(f\"Adversary Prediction: {label_names[model.predict(adversarial).argmax()]}\")"
      ],
      "metadata": {
        "colab": {
          "base_uri": "https://localhost:8080/"
        },
        "id": "ikQ17Grrxfpe",
        "outputId": "ba6d2faa-5721-47d8-882c-76654275cad8"
      },
      "execution_count": null,
      "outputs": [
        {
          "output_type": "stream",
          "name": "stdout",
          "text": [
            "1/1 [==============================] - 0s 30ms/step\n",
            "Normal Image Prediction: airplane\n",
            "1/1 [==============================] - 0s 36ms/step\n",
            "Adversary Prediction: ship\n"
          ]
        }
      ]
    },
    {
      "cell_type": "code",
      "source": [
        "# Function to generate batch of images with adversary\n",
        "def adversary_generator(batch_size):\n",
        "  while True:\n",
        "    images = []\n",
        "    labels = []\n",
        "    for batch in range(batch_size):\n",
        "      N = randint(0, 49999)\n",
        "      label = y_train[N]\n",
        "      image = x_train[N].reshape((1,height, width, channels))\n",
        "\n",
        "      perturbations = generate_adversary(image, label,0.2).numpy()\n",
        "      adversarial = image + (perturbations * 0.2)\n",
        "\n",
        "      images.append(adversarial)\n",
        "      labels.append(label)\n",
        "\n",
        "      if batch%1000 == 0:\n",
        "        print(f\"{batch} images generated\")\n",
        "\n",
        "    images = np.asarray(images).reshape((batch_size, height, width, channels))\n",
        "    labels = np.asarray(labels)\n",
        "\n",
        "    yield images, labels"
      ],
      "metadata": {
        "id": "kNDpXMOoxiv6"
      },
      "execution_count": null,
      "outputs": []
    },
    {
      "cell_type": "code",
      "source": [
        "# Testing model accuracy on adversarial examples\n",
        "x_adversarial, y_adversarial = next(adversary_generator(10000))\n",
        "ad_acc = model.evaluate(x_adversarial, y_adversarial, verbose=0)\n",
        "print(f\"Accuracy on Adversarial Examples: {ad_acc[1]*100}\")"
      ],
      "metadata": {
        "colab": {
          "base_uri": "https://localhost:8080/"
        },
        "id": "dYWJh8R9xkjl",
        "outputId": "a63d2784-a9a6-40c1-8786-692a86f0148e"
      },
      "execution_count": null,
      "outputs": [
        {
          "output_type": "stream",
          "name": "stdout",
          "text": [
            "0 images generated\n",
            "1000 images generated\n",
            "2000 images generated\n",
            "3000 images generated\n",
            "4000 images generated\n",
            "5000 images generated\n",
            "6000 images generated\n",
            "7000 images generated\n",
            "8000 images generated\n",
            "9000 images generated\n",
            "Accuracy on Adversarial Examples: 17.84999966621399\n"
          ]
        }
      ]
    },
    {
      "cell_type": "code",
      "source": [
        "import h5py\n",
        "with h5py.File('adversarial_data_vgg.h5', 'w') as f:\n",
        "    f.create_dataset('x_adversarial', data=x_adversarial)\n",
        "    f.create_dataset('y_adversarial', data=y_adversarial)"
      ],
      "metadata": {
        "id": "Ofo0IfLByOsD"
      },
      "execution_count": null,
      "outputs": []
    }
  ]
}