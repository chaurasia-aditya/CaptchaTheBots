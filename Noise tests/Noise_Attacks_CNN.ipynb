{
  "nbformat": 4,
  "nbformat_minor": 0,
  "metadata": {
    "colab": {
      "provenance": []
    },
    "kernelspec": {
      "name": "python3",
      "display_name": "Python 3"
    },
    "language_info": {
      "name": "python"
    }
  },
  "cells": [
    {
      "cell_type": "markdown",
      "source": [
        "# Loading the trained Model"
      ],
      "metadata": {
        "id": "soYfLaiZgEQA"
      }
    },
    {
      "cell_type": "code",
      "source": [
        "from keras.models import load_model\n",
        "model = load_model('/content/cnn_20_epochs.h5')"
      ],
      "metadata": {
        "id": "N24Ig-YKjFt2"
      },
      "execution_count": null,
      "outputs": []
    },
    {
      "cell_type": "code",
      "source": [
        "import pandas as pd\n",
        "import numpy as np\n",
        "import matplotlib.pyplot as plt\n",
        "%matplotlib inline\n",
        "\n",
        "import tensorflow as tf\n",
        "from tensorflow.keras.datasets import cifar10\n",
        "from tensorflow.keras.utils import to_categorical\n",
        "\n",
        "from tensorflow.keras.models import Sequential\n",
        "from tensorflow.keras.layers import Dense, Conv2D, MaxPool2D, Flatten, Dropout, BatchNormalization\n",
        "from tensorflow.keras.callbacks import EarlyStopping\n",
        "from tensorflow.keras.preprocessing.image import ImageDataGenerator\n",
        "\n",
        "from sklearn.metrics import ConfusionMatrixDisplay\n",
        "from sklearn.metrics import classification_report, confusion_matrix"
      ],
      "metadata": {
        "id": "RjtE730U2RuA"
      },
      "execution_count": null,
      "outputs": []
    },
    {
      "cell_type": "code",
      "source": [
        "(X_train, y_train), (X_test, y_test) = cifar10.load_data()\n",
        "\n",
        "print(f\"X_train shape: {X_train.shape}\")\n",
        "print(f\"y_train shape: {y_train.shape}\")\n",
        "print(f\"X_test shape: {X_test.shape}\")\n",
        "print(f\"y_test shape: {y_test.shape}\")"
      ],
      "metadata": {
        "colab": {
          "base_uri": "https://localhost:8080/"
        },
        "id": "KzmRfD222TMF",
        "outputId": "583e4710-7444-4a97-d6ce-6ddd02aac517"
      },
      "execution_count": null,
      "outputs": [
        {
          "output_type": "stream",
          "name": "stdout",
          "text": [
            "Downloading data from https://www.cs.toronto.edu/~kriz/cifar-10-python.tar.gz\n",
            "170498071/170498071 [==============================] - 13s 0us/step\n",
            "X_train shape: (50000, 32, 32, 3)\n",
            "y_train shape: (50000, 1)\n",
            "X_test shape: (10000, 32, 32, 3)\n",
            "y_test shape: (10000, 1)\n"
          ]
        }
      ]
    },
    {
      "cell_type": "code",
      "source": [
        "# Scale the data\n",
        "X_train = X_train / 255.0\n",
        "X_test = X_test / 255.0\n",
        "\n",
        "# Transform target variable into one-hotencoding\n",
        "y_train = to_categorical(y_train, 10)\n",
        "y_test = to_categorical(y_test, 10)"
      ],
      "metadata": {
        "id": "pHa44bGn2Vi9"
      },
      "execution_count": null,
      "outputs": []
    },
    {
      "cell_type": "code",
      "source": [
        "loss, accuracy, *is_anything_else_being_returned = model.evaluate(X_test, y_test)\n",
        "print('Test Loss:', loss)\n",
        "print('Test Accuracy:', accuracy)"
      ],
      "metadata": {
        "colab": {
          "base_uri": "https://localhost:8080/"
        },
        "id": "IqTaHe1w8x7F",
        "outputId": "c4bc92f5-d51e-4423-9dc5-20a672b32281"
      },
      "execution_count": null,
      "outputs": [
        {
          "output_type": "stream",
          "name": "stdout",
          "text": [
            "313/313 [==============================] - 11s 8ms/step - loss: 0.3955 - accuracy: 0.8709 - precision: 0.8988 - recall: 0.8495\n",
            "Test Loss: 0.3954737186431885\n",
            "Test Accuracy: 0.8708999752998352\n"
          ]
        }
      ]
    },
    {
      "cell_type": "code",
      "source": [
        "n_train = len(X_train)\n",
        "index = np.random.randint(0, n_train)\n",
        "image = X_train[index, 1:]\n"
      ],
      "metadata": {
        "id": "D1OvaiQ_k1AU"
      },
      "execution_count": null,
      "outputs": []
    },
    {
      "cell_type": "markdown",
      "source": [
        "# Salt and Pepper Noise"
      ],
      "metadata": {
        "id": "tWz_LqNJgT93"
      }
    },
    {
      "cell_type": "code",
      "source": [
        "#adding noise in data\n",
        "noise_factor = 0.01\n",
        "\n",
        "from skimage.util import random_noise\n",
        "x_train_noisy = random_noise(X_train, mode=\"s&p\",clip=True, amount=noise_factor)\n",
        "x_test_noisy = random_noise(X_test, mode=\"s&p\",clip=True, amount=noise_factor)"
      ],
      "metadata": {
        "id": "YinS1_UQl89T"
      },
      "execution_count": null,
      "outputs": []
    },
    {
      "cell_type": "markdown",
      "source": [
        "# Accuracy Results"
      ],
      "metadata": {
        "id": "T3QUhcgugXQP"
      }
    },
    {
      "cell_type": "code",
      "source": [
        "loss, accuracy, *is_anything_else_being_returned = model.evaluate(x_test_noisy, y_test)\n",
        "print('Test Loss:', loss)\n",
        "print('Test Accuracy:', accuracy)"
      ],
      "metadata": {
        "colab": {
          "base_uri": "https://localhost:8080/"
        },
        "id": "7HfLec4mHHLv",
        "outputId": "471edbb5-d22e-445a-faf2-1f94128de933"
      },
      "execution_count": null,
      "outputs": [
        {
          "output_type": "stream",
          "name": "stdout",
          "text": [
            "313/313 [==============================] - 2s 7ms/step - loss: 0.7685 - accuracy: 0.7486 - precision: 0.8103 - recall: 0.6947\n",
            "Test Loss: 0.7684851288795471\n",
            "Test Accuracy: 0.7486000061035156\n"
          ]
        }
      ]
    },
    {
      "cell_type": "markdown",
      "source": [
        "# Poisson Noise"
      ],
      "metadata": {
        "id": "JyEf4vL9gc3k"
      }
    },
    {
      "cell_type": "code",
      "source": [
        "from skimage.util import random_noise\n",
        "x_train_noisy = random_noise(X_train, mode=\"poisson\",clip=True)\n",
        "x_test_noisy = random_noise(X_test, mode=\"poisson\",clip=True)"
      ],
      "metadata": {
        "id": "9Vy4g7KWb_kB"
      },
      "execution_count": null,
      "outputs": []
    },
    {
      "cell_type": "markdown",
      "source": [
        "# Accuracy Results"
      ],
      "metadata": {
        "id": "kFfynYl2gbXE"
      }
    },
    {
      "cell_type": "code",
      "source": [
        "loss, accuracy, *is_anything_else_being_returned = model.evaluate(x_test_noisy, y_test)\n",
        "print('Test Loss:', loss)\n",
        "print('Test Accuracy:', accuracy)"
      ],
      "metadata": {
        "colab": {
          "base_uri": "https://localhost:8080/"
        },
        "id": "uZ2ashJqcaOf",
        "outputId": "a82f577e-666c-4a79-c49c-003567c5ac69"
      },
      "execution_count": null,
      "outputs": [
        {
          "output_type": "stream",
          "name": "stdout",
          "text": [
            "313/313 [==============================] - 26s 82ms/step - loss: 1.7989 - accuracy: 0.5685 - precision: 0.6059 - recall: 0.5400\n",
            "Test Loss: 1.7988773584365845\n",
            "Test Accuracy: 0.5684999823570251\n"
          ]
        }
      ]
    },
    {
      "cell_type": "markdown",
      "source": [
        "# Gaussian Noise"
      ],
      "metadata": {
        "id": "dNnWBQrxgfcf"
      }
    },
    {
      "cell_type": "code",
      "source": [
        "from skimage.util import random_noise\n",
        "x_train_noisy = random_noise(X_train, mode=\"gaussian\",clip=True)\n",
        "x_test_noisy = random_noise(X_test, mode=\"gaussian\",clip=True)"
      ],
      "metadata": {
        "id": "KHX8P0sEc3PJ"
      },
      "execution_count": null,
      "outputs": []
    },
    {
      "cell_type": "markdown",
      "source": [
        "# Accuracy Results"
      ],
      "metadata": {
        "id": "ala_klLrgh-t"
      }
    },
    {
      "cell_type": "code",
      "source": [
        "loss, accuracy, *is_anything_else_being_returned = model.evaluate(x_test_noisy, y_test)\n",
        "print('Test Loss:', loss)\n",
        "print('Test Accuracy:', accuracy)"
      ],
      "metadata": {
        "colab": {
          "base_uri": "https://localhost:8080/"
        },
        "id": "qdsrILIkdJFQ",
        "outputId": "27aba018-a91e-4f4c-83f5-c7b38e7f8c37"
      },
      "execution_count": null,
      "outputs": [
        {
          "output_type": "stream",
          "name": "stdout",
          "text": [
            "313/313 [==============================] - 1s 5ms/step - loss: 5.4108 - accuracy: 0.1765 - precision: 0.1788 - recall: 0.1672\n",
            "Test Loss: 5.410796642303467\n",
            "Test Accuracy: 0.17649999260902405\n"
          ]
        }
      ]
    },
    {
      "cell_type": "markdown",
      "source": [
        "# Speckle Noise"
      ],
      "metadata": {
        "id": "qEgShcx0gkjl"
      }
    },
    {
      "cell_type": "code",
      "source": [
        "\n",
        "noise_factor = 0.02\n",
        "\n",
        "from skimage.util import random_noise\n",
        "x_train_noisy = random_noise(X_train, mode=\"speckle\",clip=True)\n",
        "x_test_noisy = random_noise(X_test, mode=\"speckle\",clip=True)"
      ],
      "metadata": {
        "id": "SC_1Mzb3dZNA"
      },
      "execution_count": null,
      "outputs": []
    },
    {
      "cell_type": "markdown",
      "source": [
        "# Accuracy Results"
      ],
      "metadata": {
        "id": "HtLlCTEfgjtD"
      }
    },
    {
      "cell_type": "code",
      "source": [
        "loss, accuracy, *is_anything_else_being_returned = model.evaluate(x_test_noisy, y_test)\n",
        "print('Test Loss:', loss)\n",
        "print('Test Accuracy:', accuracy)"
      ],
      "metadata": {
        "colab": {
          "base_uri": "https://localhost:8080/"
        },
        "id": "j4mAaikwdeDG",
        "outputId": "e77ecb83-3f9b-4af9-891a-84e72ed95bab"
      },
      "execution_count": null,
      "outputs": [
        {
          "output_type": "stream",
          "name": "stdout",
          "text": [
            "313/313 [==============================] - 22s 69ms/step - loss: 2.1459 - accuracy: 0.5234 - precision: 0.5597 - recall: 0.4930\n",
            "Test Loss: 2.14591121673584\n",
            "Test Accuracy: 0.5234000086784363\n"
          ]
        }
      ]
    },
    {
      "cell_type": "code",
      "source": [
        "x_test_final_noisy = x_test_noisy[-100:]\n",
        "x_test_noisy = x_test_noisy[:-100]\n",
        "\n",
        "x_test_final_original = X_test[-100:]\n",
        "x_test = X_test[:-100]"
      ],
      "metadata": {
        "id": "_u6Y1kmcm9Ja"
      },
      "execution_count": null,
      "outputs": []
    },
    {
      "cell_type": "code",
      "source": [
        "n=5"
      ],
      "metadata": {
        "id": "_QmnXYWonA2u"
      },
      "execution_count": null,
      "outputs": []
    },
    {
      "cell_type": "code",
      "source": [
        "plt.figure(figsize=(20, 20))\n",
        "for i in range(n):\n",
        "    ax = plt.subplot(1, n, i+1)\n",
        "    plt.imshow(x_train_noisy[i])\n",
        "    ax.get_xaxis().set_visible(False)\n",
        "    ax.get_yaxis().set_visible(False)\n",
        "plt.show()"
      ],
      "metadata": {
        "id": "tgjLidS6dozl",
        "outputId": "fd927905-5c3c-4383-e5ef-a83fc916b76d",
        "colab": {
          "base_uri": "https://localhost:8080/",
          "height": 252
        }
      },
      "execution_count": null,
      "outputs": [
        {
          "output_type": "display_data",
          "data": {
            "text/plain": [
              "<Figure size 2000x2000 with 5 Axes>"
            ],
            "image/png": "[encoded data removed]"
          },
          "metadata": {}
        }
      ]
    },
    {
      "cell_type": "code",
      "source": [
        "my_image = x_test_noisy[100]\n",
        "plt.imshow(my_image)\n",
        "\n",
        "# that's a Deer\n",
        "print(f\" Image 100 is {y_test[100]}\")\n",
        "\n",
        "# correctly predicted as a Deer\n",
        "pred_100 = np.argmax(model.predict(my_image.reshape(1, 32, 32, 3)))\n",
        "print(f\"The model predict that image 100 is {pred_100}\")"
      ],
      "metadata": {
        "colab": {
          "base_uri": "https://localhost:8080/",
          "height": 484
        },
        "id": "PZNNpEfHnlmZ",
        "outputId": "97b37b18-d446-4449-df45-edf6252e4d14"
      },
      "execution_count": null,
      "outputs": [
        {
          "output_type": "stream",
          "name": "stdout",
          "text": [
            " Image 100 is [4]\n",
            "1/1 [==============================] - 7s 7s/step\n",
            "The model predict that image 100 is 6\n"
          ]
        },
        {
          "output_type": "display_data",
          "data": {
            "text/plain": [
              "<Figure size 640x480 with 1 Axes>"
            ],
            "image/png": "[encoded data removed]"
          },
          "metadata": {}
        }
      ]
    }
  ]
}