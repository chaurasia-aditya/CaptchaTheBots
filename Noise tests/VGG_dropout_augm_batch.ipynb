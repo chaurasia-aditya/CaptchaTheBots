{
  "nbformat": 4,
  "nbformat_minor": 0,
  "metadata": {
    "colab": {
      "provenance": []
    },
    "kernelspec": {
      "name": "python3",
      "display_name": "Python 3"
    },
    "language_info": {
      "name": "python"
    }
  },
  "cells": [
    {
      "cell_type": "code",
      "execution_count": null,
      "metadata": {
        "id": "-6pPMooR-Bi_"
      },
      "outputs": [],
      "source": [
        "from keras.models import load_model\n",
        "model = load_model('/content/VGG_dropout_augm_batch.h5')"
      ]
    },
    {
      "cell_type": "code",
      "source": [
        "import pandas as pd\n",
        "import numpy as np\n",
        "import matplotlib.pyplot as plt\n",
        "%matplotlib inline\n",
        "\n",
        "import tensorflow as tf\n",
        "from tensorflow.keras.datasets import cifar10\n",
        "from tensorflow.keras.utils import to_categorical\n",
        "\n",
        "from tensorflow.keras.models import Sequential\n",
        "from tensorflow.keras.layers import Dense, Conv2D, MaxPool2D, Flatten, Dropout, BatchNormalization\n",
        "from tensorflow.keras.callbacks import EarlyStopping\n",
        "from tensorflow.keras.preprocessing.image import ImageDataGenerator\n",
        "\n",
        "from sklearn.metrics import ConfusionMatrixDisplay\n",
        "from sklearn.metrics import classification_report, confusion_matrix"
      ],
      "metadata": {
        "id": "zWCcZ_xz-y47"
      },
      "execution_count": null,
      "outputs": []
    },
    {
      "cell_type": "code",
      "source": [
        "(X_train, y_train), (X_test, y_test) = cifar10.load_data()\n",
        "\n",
        "print(f\"X_train shape: {X_train.shape}\")\n",
        "print(f\"y_train shape: {y_train.shape}\")\n",
        "print(f\"X_test shape: {X_test.shape}\")\n",
        "print(f\"y_test shape: {y_test.shape}\")"
      ],
      "metadata": {
        "colab": {
          "base_uri": "https://localhost:8080/"
        },
        "id": "cFN5XrWi-09_",
        "outputId": "3be9ece3-a00c-470a-ace5-6e522be49bf2"
      },
      "execution_count": null,
      "outputs": [
        {
          "output_type": "stream",
          "name": "stdout",
          "text": [
            "Downloading data from https://www.cs.toronto.edu/~kriz/cifar-10-python.tar.gz\n",
            "170498071/170498071 [==============================] - 4s 0us/step\n",
            "X_train shape: (50000, 32, 32, 3)\n",
            "y_train shape: (50000, 1)\n",
            "X_test shape: (10000, 32, 32, 3)\n",
            "y_test shape: (10000, 1)\n"
          ]
        }
      ]
    },
    {
      "cell_type": "code",
      "source": [
        "# Scale the data\n",
        "X_train = X_train / 255.0\n",
        "X_test = X_test / 255.0\n",
        "\n",
        "# Transform target variable into one-hotencoding\n",
        "y_train = to_categorical(y_train, 10)\n",
        "y_test = to_categorical(y_test, 10)"
      ],
      "metadata": {
        "id": "JNZBGIit-3hG"
      },
      "execution_count": null,
      "outputs": []
    },
    {
      "cell_type": "code",
      "source": [
        "loss, accuracy = model.evaluate(X_test, y_test)\n",
        "print('Test Loss:', loss)\n",
        "print('Test Accuracy:', accuracy)"
      ],
      "metadata": {
        "colab": {
          "base_uri": "https://localhost:8080/"
        },
        "id": "z5d-9QYS-56c",
        "outputId": "0e3c8e6d-d522-4816-cdce-16b6dacaaf81"
      },
      "execution_count": null,
      "outputs": [
        {
          "output_type": "stream",
          "name": "stdout",
          "text": [
            "313/313 [==============================] - 26s 80ms/step - loss: 0.3429 - accuracy: 0.8901\n",
            "Test Loss: 0.3429308831691742\n",
            "Test Accuracy: 0.8901000022888184\n"
          ]
        }
      ]
    },
    {
      "cell_type": "code",
      "source": [
        "n_train = len(X_train)\n",
        "index = np.random.randint(0, n_train)\n",
        "    # read the image with the selected index\n",
        "image = X_train[index, 1:]"
      ],
      "metadata": {
        "id": "vZQXc3pa-_XF"
      },
      "execution_count": null,
      "outputs": []
    },
    {
      "cell_type": "code",
      "source": [
        "#adding noise in data\n",
        "noise_factor = 0.02\n",
        "\n",
        "from skimage.util import random_noise\n",
        "\n",
        "#noisy = random_noise(img, mode=\"poisson\")\n",
        "#just change the mode pf the noise to-->'gaussain',\n",
        "x_train_noisy = random_noise(X_train, mode=\"s&p\",clip=True, amount=noise_factor)\n",
        "x_test_noisy = random_noise(X_test, mode=\"s&p\",clip=True, amount=noise_factor)\n"
      ],
      "metadata": {
        "id": "exYOWoqJ_E0B"
      },
      "execution_count": null,
      "outputs": []
    },
    {
      "cell_type": "code",
      "source": [
        "loss, accuracy = model.evaluate(x_test_noisy, y_test)\n",
        "print('Test Loss:', loss)\n",
        "print('Test Accuracy:', accuracy)"
      ],
      "metadata": {
        "colab": {
          "base_uri": "https://localhost:8080/"
        },
        "id": "qkCQ071j_ICp",
        "outputId": "031585d5-017d-4818-c291-6597e734c771"
      },
      "execution_count": null,
      "outputs": [
        {
          "output_type": "stream",
          "name": "stdout",
          "text": [
            "313/313 [==============================] - 25s 81ms/step - loss: 1.3890 - accuracy: 0.6025\n",
            "Test Loss: 1.3889544010162354\n",
            "Test Accuracy: 0.6025000214576721\n"
          ]
        }
      ]
    },
    {
      "cell_type": "code",
      "source": [
        "#adding noise in data\n",
        "noise_factor = 0.02\n",
        "\n",
        "from skimage.util import random_noise\n",
        "\n",
        "#noisy = random_noise(img, mode=\"poisson\")\n",
        "#just change the mode pf the noise to-->'gaussain',\n",
        "x_train_noisy = random_noise(X_train, mode=\"Poisson\",clip=True)\n",
        "x_test_noisy = random_noise(X_test, mode=\"Poisson\",clip=True)"
      ],
      "metadata": {
        "id": "wfBvFY1V_J1w"
      },
      "execution_count": null,
      "outputs": []
    },
    {
      "cell_type": "code",
      "source": [
        "loss, accuracy = model.evaluate(x_test_noisy, y_test)\n",
        "print('Test Loss:', loss)\n",
        "print('Test Accuracy:', accuracy)"
      ],
      "metadata": {
        "colab": {
          "base_uri": "https://localhost:8080/"
        },
        "id": "NimrfRYU_L6f",
        "outputId": "21ee7c0e-c472-46c9-8134-e4c975d58dea"
      },
      "execution_count": null,
      "outputs": [
        {
          "output_type": "stream",
          "name": "stdout",
          "text": [
            "313/313 [==============================] - 24s 77ms/step - loss: 2.0516 - accuracy: 0.5299\n",
            "Test Loss: 2.0515694618225098\n",
            "Test Accuracy: 0.5299000144004822\n"
          ]
        }
      ]
    },
    {
      "cell_type": "code",
      "source": [
        "#adding noise in data\n",
        "noise_factor = 0.02\n",
        "\n",
        "from skimage.util import random_noise\n",
        "\n",
        "#noisy = random_noise(img, mode=\"poisson\")\n",
        "#just change the mode pf the noise to-->'gaussain',\n",
        "x_train_noisy = random_noise(X_train, mode=\"gaussian\",clip=True)\n",
        "x_test_noisy = random_noise(X_test, mode=\"gaussian\",clip=True)"
      ],
      "metadata": {
        "id": "uHCRwTeG_OaX"
      },
      "execution_count": null,
      "outputs": []
    },
    {
      "cell_type": "code",
      "source": [
        "loss, accuracy = model.evaluate(x_test_noisy, y_test)\n",
        "print('Test Loss:', loss)\n",
        "print('Test Accuracy:', accuracy)"
      ],
      "metadata": {
        "colab": {
          "base_uri": "https://localhost:8080/"
        },
        "id": "m42XpAoJ_Qe7",
        "outputId": "4646aad8-b906-4451-ba42-6c29e7a6b5fd"
      },
      "execution_count": null,
      "outputs": [
        {
          "output_type": "stream",
          "name": "stdout",
          "text": [
            "313/313 [==============================] - 24s 77ms/step - loss: 4.6681 - accuracy: 0.2049\n",
            "Test Loss: 4.668144226074219\n",
            "Test Accuracy: 0.20489999651908875\n"
          ]
        }
      ]
    },
    {
      "cell_type": "code",
      "source": [
        "#adding noise in data\n",
        "noise_factor = 0.02\n",
        "\n",
        "from skimage.util import random_noise\n",
        "\n",
        "#noisy = random_noise(img, mode=\"poisson\")\n",
        "#just change the mode pf the noise to-->'gaussain',\n",
        "x_train_noisy = random_noise(X_train, mode=\"speckle\",clip=True)\n",
        "x_test_noisy = random_noise(X_test, mode=\"speckle\",clip=True)"
      ],
      "metadata": {
        "id": "msi3Qapf_U_N"
      },
      "execution_count": null,
      "outputs": []
    },
    {
      "cell_type": "code",
      "source": [
        "loss, accuracy = model.evaluate(x_test_noisy, y_test)\n",
        "print('Test Loss:', loss)\n",
        "print('Test Accuracy:', accuracy)"
      ],
      "metadata": {
        "colab": {
          "base_uri": "https://localhost:8080/"
        },
        "id": "dh7yDdBw_Xoz",
        "outputId": "75f379c8-c3d5-4f5f-bec1-46eb68df3360"
      },
      "execution_count": null,
      "outputs": [
        {
          "output_type": "stream",
          "name": "stdout",
          "text": [
            "313/313 [==============================] - 22s 70ms/step - loss: 2.2478 - accuracy: 0.5052\n",
            "Test Loss: 2.247845411300659\n",
            "Test Accuracy: 0.5052000284194946\n"
          ]
        }
      ]
    }
  ]
}