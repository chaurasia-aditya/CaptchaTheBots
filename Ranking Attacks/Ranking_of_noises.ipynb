{
  "cells": [
    {
      "cell_type": "code",
      "execution_count": 94,
      "metadata": {
        "id": "FuQTJakvu3pK"
      },
      "outputs": [],
      "source": [
        "import numpy as np\n",
        "from sklearn.metrics import accuracy_score"
      ]
    },
    {
      "cell_type": "code",
      "execution_count": 95,
      "metadata": {},
      "outputs": [],
      "source": [
        "num_classes = 10"
      ]
    },
    {
      "cell_type": "code",
      "execution_count": 96,
      "metadata": {
        "id": "cUUk7BpiIE5b"
      },
      "outputs": [],
      "source": [
        "base_predictions_path = f'./datasets/base_predictions/'\n",
        "noisy_predictions_path = f'./datasets/noisy_predictions/'\n",
        "results_path = f'./results/attack_rankings/'"
      ]
    },
    {
      "cell_type": "code",
      "execution_count": 97,
      "metadata": {
        "id": "WOADG_UPvtlK"
      },
      "outputs": [],
      "source": [
        "# Choose attack methods\n",
        "attacks = [\"fgsm\", \"hopskip\", \"pgd\"]"
      ]
    },
    {
      "cell_type": "code",
      "execution_count": 98,
      "metadata": {
        "id": "x6AUqUXeIo6j"
      },
      "outputs": [],
      "source": [
        "models = [\"Resnet50\",\"CNN\",\"VGG\",\"VGG_aug\",\"Resnet101\"]"
      ]
    },
    {
      "cell_type": "code",
      "execution_count": 99,
      "metadata": {
        "id": "kLHq5yvvC5Xt"
      },
      "outputs": [],
      "source": [
        "classes = ['airplane', 'automobile', 'bird', 'cat', 'deer', 'dog', 'frog', 'horse', 'ship', 'truck']"
      ]
    },
    {
      "cell_type": "markdown",
      "metadata": {},
      "source": [
        "# Test single file"
      ]
    },
    {
      "cell_type": "code",
      "execution_count": 146,
      "metadata": {},
      "outputs": [],
      "source": [
        "# Load correct labels and predicted labels from .npy files\n",
        "correct_labels = np.load('correct_labels.npy')\n",
        "# predicted_labels = np.load('predicted_labels.npy')\n"
      ]
    },
    {
      "cell_type": "code",
      "execution_count": 155,
      "metadata": {},
      "outputs": [],
      "source": [
        "predicted_labels = np.load('./datasets/noisy/hopskip/Resnet50.npy')"
      ]
    },
    {
      "cell_type": "code",
      "execution_count": 148,
      "metadata": {},
      "outputs": [],
      "source": [
        "correct_labels = np.argmax(correct_labels, axis=1)"
      ]
    },
    {
      "cell_type": "code",
      "execution_count": 149,
      "metadata": {},
      "outputs": [
        {
          "data": {
            "text/plain": [
              "(10000,)"
            ]
          },
          "execution_count": 149,
          "metadata": {},
          "output_type": "execute_result"
        }
      ],
      "source": [
        "correct_labels.shape"
      ]
    },
    {
      "cell_type": "code",
      "execution_count": 156,
      "metadata": {},
      "outputs": [
        {
          "name": "stdout",
          "output_type": "stream",
          "text": [
            "Class 0 Accuracy: 1.10%\n",
            "Class 1 Accuracy: 0.10%\n",
            "Class 2 Accuracy: 0.90%\n",
            "Class 3 Accuracy: 86.70%\n",
            "Class 4 Accuracy: 2.00%\n",
            "Class 5 Accuracy: 0.30%\n",
            "Class 6 Accuracy: 0.70%\n",
            "Class 7 Accuracy: 0.00%\n",
            "Class 8 Accuracy: 0.60%\n",
            "Class 9 Accuracy: 0.70%\n"
          ]
        }
      ],
      "source": [
        "# Calculate class-wise accuracy\n",
        "class_accuracies = {}\n",
        "\n",
        "for class_label in range(num_classes):\n",
        "    # Identify indices where correct labels match the current class\n",
        "    class_indices = correct_labels == class_label\n",
        "    # print(type(class_indices))\n",
        "    # Extract predicted labels corresponding to the current class\n",
        "    class_predicted_labels = predicted_labels[class_indices]\n",
        "    # print(correct_labels.shape)\n",
        "    # Calculate accuracy for the current class\n",
        "    class_accuracy = accuracy_score(correct_labels[class_indices], class_predicted_labels)\n",
        "    \n",
        "    class_accuracies[class_label] = class_accuracy\n",
        "\n",
        "# Print class-wise accuracies\n",
        "for class_label, class_accuracy in class_accuracies.items():\n",
        "    print(f\"Class {class_label} Accuracy: {class_accuracy * 100:.2f}%\")"
      ]
    },
    {
      "cell_type": "code",
      "execution_count": 60,
      "metadata": {
        "id": "CTPssAMIvjdp"
      },
      "outputs": [
        {
          "name": "stdout",
          "output_type": "stream",
          "text": [
            "Overall Accuracy: 10.88%\n"
          ]
        }
      ],
      "source": [
        "# Calculate overall accuracy\n",
        "overall_accuracy = accuracy_score(correct_labels, predicted_labels)\n",
        "print(f\"Overall Accuracy: {overall_accuracy * 100:.2f}%\")"
      ]
    },
    {
      "cell_type": "code",
      "execution_count": 61,
      "metadata": {},
      "outputs": [
        {
          "name": "stdout",
          "output_type": "stream",
          "text": [
            "Accuracy on Adversarial Examples: 10.88%\n"
          ]
        }
      ],
      "source": [
        "print(f\"Accuracy on Adversarial Examples: {overall_accuracy * 100:.2f}%\")"
      ]
    },
    {
      "cell_type": "markdown",
      "metadata": {},
      "source": [
        "# Generate Accuracy Dict!"
      ]
    },
    {
      "cell_type": "code",
      "execution_count": 100,
      "metadata": {},
      "outputs": [],
      "source": [
        "import os\n",
        "import json"
      ]
    },
    {
      "cell_type": "code",
      "execution_count": 101,
      "metadata": {},
      "outputs": [],
      "source": [
        "# Load correct labels and predicted labels from .npy files\n",
        "correct_labels = np.load('correct_labels.npy')\n",
        "correct_labels = np.argmax(correct_labels, axis=1)"
      ]
    },
    {
      "cell_type": "code",
      "execution_count": 102,
      "metadata": {},
      "outputs": [],
      "source": [
        "accuracy = {}"
      ]
    },
    {
      "cell_type": "code",
      "execution_count": 103,
      "metadata": {},
      "outputs": [],
      "source": [
        "noise_dir = \"./datasets/noisy/\"\n",
        "base_dir = \"./datasets/base/\""
      ]
    },
    {
      "cell_type": "code",
      "execution_count": 104,
      "metadata": {},
      "outputs": [
        {
          "name": "stdout",
          "output_type": "stream",
          "text": [
            "(10000,)\n"
          ]
        }
      ],
      "source": [
        "print(correct_labels.shape)"
      ]
    },
    {
      "cell_type": "code",
      "execution_count": 105,
      "metadata": {
        "id": "_C4XR9f_u7k8"
      },
      "outputs": [
        {
          "name": "stdout",
          "output_type": "stream",
          "text": [
            "airplane\n",
            "automobile\n",
            "bird\n",
            "cat\n",
            "deer\n",
            "dog\n",
            "frog\n",
            "horse\n",
            "ship\n",
            "truck\n"
          ]
        }
      ],
      "source": [
        "for i in range(num_classes):\n",
        "    print(classes[i])\n",
        "    accuracy[classes[i]] = {}\n",
        "    for model in models:\n",
        "        accuracy[classes[i]][model] = {}\n",
        "\n",
        "        #base\n",
        "        predictions_file = f'{base_dir}{model}.npy'\n",
        "        if os.path.exists(predictions_file):\n",
        "            predicted_labels = np.load(predictions_file)\n",
        "            class_indices = correct_labels == i\n",
        "            class_predicted_labels = predicted_labels[class_indices]\n",
        "            base_accuracy = accuracy_score(correct_labels[class_indices], class_predicted_labels)\n",
        "            accuracy[classes[i]][model][\"base\"] = base_accuracy\n",
        "        else:\n",
        "            print(f'The path {predictions_file} does not exist.')\n",
        "\n",
        "        for attack in attacks:\n",
        "            # Load predicted labels from numpy files\n",
        "            predictions_file = f'{noise_dir}{attack}/{model}.npy'\n",
        "            if not os.path.exists(predictions_file):\n",
        "                print(f'The path {predictions_file} does not exist.')\n",
        "                continue\n",
        "\n",
        "            predicted_labels = np.load(predictions_file)\n",
        "            class_indices = correct_labels == i\n",
        "            class_predicted_labels = predicted_labels[class_indices]\n",
        "\n",
        "            overall_accuracy = accuracy_score(correct_labels[class_indices], class_predicted_labels)\n",
        "            accuracy[classes[i]][model][attack] = overall_accuracy"
      ]
    },
    {
      "cell_type": "code",
      "execution_count": 106,
      "metadata": {},
      "outputs": [
        {
          "name": "stdout",
          "output_type": "stream",
          "text": [
            "{'airplane': {'Resnet50': {'base': 0.939, 'fgsm': 0.781, 'hopskip': 0.011, 'pgd': 0.393}, 'CNN': {'base': 0.87, 'fgsm': 0.012, 'hopskip': 0.031, 'pgd': 0.197}, 'VGG': {'base': 0.776, 'fgsm': 0.132, 'hopskip': 0.087, 'pgd': 0.314}, 'VGG_aug': {'base': 0.849, 'fgsm': 0.0, 'hopskip': 0.039, 'pgd': 0.122}, 'Resnet101': {'base': 0.972, 'fgsm': 0.891, 'hopskip': 0.01, 'pgd': 0.695}}, 'automobile': {'Resnet50': {'base': 0.978, 'fgsm': 0.761, 'hopskip': 0.001, 'pgd': 0.385}, 'CNN': {'base': 0.966, 'fgsm': 0.016, 'hopskip': 0.015, 'pgd': 0.434}, 'VGG': {'base': 0.918, 'fgsm': 0.128, 'hopskip': 0.027, 'pgd': 0.567}, 'VGG_aug': {'base': 0.964, 'fgsm': 0.007, 'hopskip': 0.01, 'pgd': 0.307}, 'Resnet101': {'base': 0.975, 'fgsm': 0.82, 'hopskip': 0.001, 'pgd': 0.312}}, 'bird': {'Resnet50': {'base': 0.906, 'fgsm': 0.625, 'hopskip': 0.009, 'pgd': 0.306}, 'CNN': {'base': 0.834, 'fgsm': 0.067, 'hopskip': 0.072, 'pgd': 0.287}, 'VGG': {'base': 0.749, 'fgsm': 0.103, 'hopskip': 0.108, 'pgd': 0.349}, 'VGG_aug': {'base': 0.83, 'fgsm': 0.11, 'hopskip': 0.098, 'pgd': 0.224}, 'Resnet101': {'base': 0.945, 'fgsm': 0.84, 'hopskip': 0.015, 'pgd': 0.191}}, 'cat': {'Resnet50': {'base': 0.864, 'fgsm': 0.636, 'hopskip': 0.867, 'pgd': 0.606}, 'CNN': {'base': 0.706, 'fgsm': 0.009, 'hopskip': 0.184, 'pgd': 0.18}, 'VGG': {'base': 0.627, 'fgsm': 0.058, 'hopskip': 0.138, 'pgd': 0.22}, 'VGG_aug': {'base': 0.772, 'fgsm': 0.013, 'hopskip': 0.095, 'pgd': 0.151}, 'Resnet101': {'base': 0.932, 'fgsm': 0.856, 'hopskip': 0.055, 'pgd': 0.365}}, 'deer': {'Resnet50': {'base': 0.928, 'fgsm': 0.778, 'hopskip': 0.02, 'pgd': 0.209}, 'CNN': {'base': 0.861, 'fgsm': 0.048, 'hopskip': 0.05, 'pgd': 0.249}, 'VGG': {'base': 0.802, 'fgsm': 0.154, 'hopskip': 0.109, 'pgd': 0.305}, 'VGG_aug': {'base': 0.906, 'fgsm': 0.047, 'hopskip': 0.053, 'pgd': 0.213}, 'Resnet101': {'base': 0.956, 'fgsm': 0.841, 'hopskip': 0.003, 'pgd': 0.078}}, 'dog': {'Resnet50': {'base': 0.936, 'fgsm': 0.557, 'hopskip': 0.003, 'pgd': 0.359}, 'CNN': {'base': 0.731, 'fgsm': 0.004, 'hopskip': 0.059, 'pgd': 0.196}, 'VGG': {'base': 0.734, 'fgsm': 0.024, 'hopskip': 0.078, 'pgd': 0.254}, 'VGG_aug': {'base': 0.799, 'fgsm': 0.001, 'hopskip': 0.05, 'pgd': 0.164}, 'Resnet101': {'base': 0.881, 'fgsm': 0.543, 'hopskip': 0.0, 'pgd': 0.083}}, 'frog': {'Resnet50': {'base': 0.962, 'fgsm': 0.973, 'hopskip': 0.007, 'pgd': 0.609}, 'CNN': {'base': 0.962, 'fgsm': 0.345, 'hopskip': 0.028, 'pgd': 0.524}, 'VGG': {'base': 0.921, 'fgsm': 0.424, 'hopskip': 0.058, 'pgd': 0.51}, 'VGG_aug': {'base': 0.971, 'fgsm': 0.226, 'hopskip': 0.024, 'pgd': 0.468}, 'Resnet101': {'base': 0.955, 'fgsm': 0.953, 'hopskip': 0.011, 'pgd': 0.714}}, 'horse': {'Resnet50': {'base': 0.973, 'fgsm': 0.764, 'hopskip': 0.0, 'pgd': 0.652}, 'CNN': {'base': 0.913, 'fgsm': 0.014, 'hopskip': 0.008, 'pgd': 0.192}, 'VGG': {'base': 0.825, 'fgsm': 0.061, 'hopskip': 0.043, 'pgd': 0.361}, 'VGG_aug': {'base': 0.927, 'fgsm': 0.002, 'hopskip': 0.009, 'pgd': 0.142}, 'Resnet101': {'base': 0.968, 'fgsm': 0.759, 'hopskip': 0.976, 'pgd': 0.179}}, 'ship': {'Resnet50': {'base': 0.965, 'fgsm': 0.868, 'hopskip': 0.006, 'pgd': 0.286}, 'CNN': {'base': 0.932, 'fgsm': 0.035, 'hopskip': 0.04, 'pgd': 0.379}, 'VGG': {'base': 0.908, 'fgsm': 0.31, 'hopskip': 0.052, 'pgd': 0.596}, 'VGG_aug': {'base': 0.945, 'fgsm': 0.028, 'hopskip': 0.022, 'pgd': 0.304}, 'Resnet101': {'base': 0.963, 'fgsm': 0.866, 'hopskip': 0.015, 'pgd': 0.752}}, 'truck': {'Resnet50': {'base': 0.957, 'fgsm': 0.793, 'hopskip': 0.007, 'pgd': 0.146}, 'CNN': {'base': 0.934, 'fgsm': 0.041, 'hopskip': 0.023, 'pgd': 0.382}, 'VGG': {'base': 0.887, 'fgsm': 0.173, 'hopskip': 0.058, 'pgd': 0.456}, 'VGG_aug': {'base': 0.938, 'fgsm': 0.017, 'hopskip': 0.326, 'pgd': 0.294}, 'Resnet101': {'base': 0.95, 'fgsm': 0.709, 'hopskip': 0.002, 'pgd': 0.069}}}\n"
          ]
        }
      ],
      "source": [
        "print(accuracy)"
      ]
    },
    {
      "cell_type": "code",
      "execution_count": 107,
      "metadata": {},
      "outputs": [],
      "source": [
        "with open('./results/accuracy.json', 'w') as json_file:\n",
        "    json.dump(accuracy, json_file)"
      ]
    },
    {
      "cell_type": "markdown",
      "metadata": {},
      "source": [
        "# Ranking"
      ]
    },
    {
      "cell_type": "code",
      "execution_count": 8,
      "metadata": {},
      "outputs": [],
      "source": [
        "import os\n",
        "import json"
      ]
    },
    {
      "cell_type": "code",
      "execution_count": 108,
      "metadata": {},
      "outputs": [],
      "source": [
        "# Load the JSON data\n",
        "with open('./results/accuracy.json', 'r') as file:\n",
        "    data = json.load(file)"
      ]
    },
    {
      "cell_type": "code",
      "execution_count": 109,
      "metadata": {},
      "outputs": [
        {
          "data": {
            "text/plain": [
              "{'airplane': {'Resnet50': {'base': 0.939,\n",
              "   'fgsm': 0.781,\n",
              "   'hopskip': 0.011,\n",
              "   'pgd': 0.393},\n",
              "  'CNN': {'base': 0.87, 'fgsm': 0.012, 'hopskip': 0.031, 'pgd': 0.197},\n",
              "  'VGG': {'base': 0.776, 'fgsm': 0.132, 'hopskip': 0.087, 'pgd': 0.314},\n",
              "  'VGG_aug': {'base': 0.849, 'fgsm': 0.0, 'hopskip': 0.039, 'pgd': 0.122},\n",
              "  'Resnet101': {'base': 0.972, 'fgsm': 0.891, 'hopskip': 0.01, 'pgd': 0.695}},\n",
              " 'automobile': {'Resnet50': {'base': 0.978,\n",
              "   'fgsm': 0.761,\n",
              "   'hopskip': 0.001,\n",
              "   'pgd': 0.385},\n",
              "  'CNN': {'base': 0.966, 'fgsm': 0.016, 'hopskip': 0.015, 'pgd': 0.434},\n",
              "  'VGG': {'base': 0.918, 'fgsm': 0.128, 'hopskip': 0.027, 'pgd': 0.567},\n",
              "  'VGG_aug': {'base': 0.964, 'fgsm': 0.007, 'hopskip': 0.01, 'pgd': 0.307},\n",
              "  'Resnet101': {'base': 0.975, 'fgsm': 0.82, 'hopskip': 0.001, 'pgd': 0.312}},\n",
              " 'bird': {'Resnet50': {'base': 0.906,\n",
              "   'fgsm': 0.625,\n",
              "   'hopskip': 0.009,\n",
              "   'pgd': 0.306},\n",
              "  'CNN': {'base': 0.834, 'fgsm': 0.067, 'hopskip': 0.072, 'pgd': 0.287},\n",
              "  'VGG': {'base': 0.749, 'fgsm': 0.103, 'hopskip': 0.108, 'pgd': 0.349},\n",
              "  'VGG_aug': {'base': 0.83, 'fgsm': 0.11, 'hopskip': 0.098, 'pgd': 0.224},\n",
              "  'Resnet101': {'base': 0.945, 'fgsm': 0.84, 'hopskip': 0.015, 'pgd': 0.191}},\n",
              " 'cat': {'Resnet50': {'base': 0.864,\n",
              "   'fgsm': 0.636,\n",
              "   'hopskip': 0.867,\n",
              "   'pgd': 0.606},\n",
              "  'CNN': {'base': 0.706, 'fgsm': 0.009, 'hopskip': 0.184, 'pgd': 0.18},\n",
              "  'VGG': {'base': 0.627, 'fgsm': 0.058, 'hopskip': 0.138, 'pgd': 0.22},\n",
              "  'VGG_aug': {'base': 0.772, 'fgsm': 0.013, 'hopskip': 0.095, 'pgd': 0.151},\n",
              "  'Resnet101': {'base': 0.932, 'fgsm': 0.856, 'hopskip': 0.055, 'pgd': 0.365}},\n",
              " 'deer': {'Resnet50': {'base': 0.928,\n",
              "   'fgsm': 0.778,\n",
              "   'hopskip': 0.02,\n",
              "   'pgd': 0.209},\n",
              "  'CNN': {'base': 0.861, 'fgsm': 0.048, 'hopskip': 0.05, 'pgd': 0.249},\n",
              "  'VGG': {'base': 0.802, 'fgsm': 0.154, 'hopskip': 0.109, 'pgd': 0.305},\n",
              "  'VGG_aug': {'base': 0.906, 'fgsm': 0.047, 'hopskip': 0.053, 'pgd': 0.213},\n",
              "  'Resnet101': {'base': 0.956, 'fgsm': 0.841, 'hopskip': 0.003, 'pgd': 0.078}},\n",
              " 'dog': {'Resnet50': {'base': 0.936,\n",
              "   'fgsm': 0.557,\n",
              "   'hopskip': 0.003,\n",
              "   'pgd': 0.359},\n",
              "  'CNN': {'base': 0.731, 'fgsm': 0.004, 'hopskip': 0.059, 'pgd': 0.196},\n",
              "  'VGG': {'base': 0.734, 'fgsm': 0.024, 'hopskip': 0.078, 'pgd': 0.254},\n",
              "  'VGG_aug': {'base': 0.799, 'fgsm': 0.001, 'hopskip': 0.05, 'pgd': 0.164},\n",
              "  'Resnet101': {'base': 0.881, 'fgsm': 0.543, 'hopskip': 0.0, 'pgd': 0.083}},\n",
              " 'frog': {'Resnet50': {'base': 0.962,\n",
              "   'fgsm': 0.973,\n",
              "   'hopskip': 0.007,\n",
              "   'pgd': 0.609},\n",
              "  'CNN': {'base': 0.962, 'fgsm': 0.345, 'hopskip': 0.028, 'pgd': 0.524},\n",
              "  'VGG': {'base': 0.921, 'fgsm': 0.424, 'hopskip': 0.058, 'pgd': 0.51},\n",
              "  'VGG_aug': {'base': 0.971, 'fgsm': 0.226, 'hopskip': 0.024, 'pgd': 0.468},\n",
              "  'Resnet101': {'base': 0.955, 'fgsm': 0.953, 'hopskip': 0.011, 'pgd': 0.714}},\n",
              " 'horse': {'Resnet50': {'base': 0.973,\n",
              "   'fgsm': 0.764,\n",
              "   'hopskip': 0.0,\n",
              "   'pgd': 0.652},\n",
              "  'CNN': {'base': 0.913, 'fgsm': 0.014, 'hopskip': 0.008, 'pgd': 0.192},\n",
              "  'VGG': {'base': 0.825, 'fgsm': 0.061, 'hopskip': 0.043, 'pgd': 0.361},\n",
              "  'VGG_aug': {'base': 0.927, 'fgsm': 0.002, 'hopskip': 0.009, 'pgd': 0.142},\n",
              "  'Resnet101': {'base': 0.968, 'fgsm': 0.759, 'hopskip': 0.976, 'pgd': 0.179}},\n",
              " 'ship': {'Resnet50': {'base': 0.965,\n",
              "   'fgsm': 0.868,\n",
              "   'hopskip': 0.006,\n",
              "   'pgd': 0.286},\n",
              "  'CNN': {'base': 0.932, 'fgsm': 0.035, 'hopskip': 0.04, 'pgd': 0.379},\n",
              "  'VGG': {'base': 0.908, 'fgsm': 0.31, 'hopskip': 0.052, 'pgd': 0.596},\n",
              "  'VGG_aug': {'base': 0.945, 'fgsm': 0.028, 'hopskip': 0.022, 'pgd': 0.304},\n",
              "  'Resnet101': {'base': 0.963, 'fgsm': 0.866, 'hopskip': 0.015, 'pgd': 0.752}},\n",
              " 'truck': {'Resnet50': {'base': 0.957,\n",
              "   'fgsm': 0.793,\n",
              "   'hopskip': 0.007,\n",
              "   'pgd': 0.146},\n",
              "  'CNN': {'base': 0.934, 'fgsm': 0.041, 'hopskip': 0.023, 'pgd': 0.382},\n",
              "  'VGG': {'base': 0.887, 'fgsm': 0.173, 'hopskip': 0.058, 'pgd': 0.456},\n",
              "  'VGG_aug': {'base': 0.938, 'fgsm': 0.017, 'hopskip': 0.326, 'pgd': 0.294},\n",
              "  'Resnet101': {'base': 0.95, 'fgsm': 0.709, 'hopskip': 0.002, 'pgd': 0.069}}}"
            ]
          },
          "execution_count": 109,
          "metadata": {},
          "output_type": "execute_result"
        }
      ],
      "source": [
        "data"
      ]
    },
    {
      "cell_type": "code",
      "execution_count": 110,
      "metadata": {},
      "outputs": [],
      "source": [
        "# Define a function to calculate attack effectiveness\n",
        "def calculate_effectiveness(base_accuracy, attack_accuracy):\n",
        "    return base_accuracy - attack_accuracy"
      ]
    },
    {
      "cell_type": "code",
      "execution_count": 112,
      "metadata": {},
      "outputs": [
        {
          "name": "stdout",
          "output_type": "stream",
          "text": [
            "airplane\n",
            "Resnet50\n",
            "{'base': 0.939, 'fgsm': 0.781, 'hopskip': 0.011, 'pgd': 0.393}\n",
            "base\n",
            "0.939\n",
            "CNN\n",
            "{'base': 0.87, 'fgsm': 0.012, 'hopskip': 0.031, 'pgd': 0.197}\n",
            "base\n",
            "0.87\n",
            "VGG\n",
            "{'base': 0.776, 'fgsm': 0.132, 'hopskip': 0.087, 'pgd': 0.314}\n",
            "base\n",
            "0.776\n",
            "VGG_aug\n",
            "{'base': 0.849, 'fgsm': 0.0, 'hopskip': 0.039, 'pgd': 0.122}\n",
            "base\n",
            "0.849\n",
            "Resnet101\n",
            "{'base': 0.972, 'fgsm': 0.891, 'hopskip': 0.01, 'pgd': 0.695}\n",
            "base\n",
            "0.972\n"
          ]
        }
      ],
      "source": [
        "for class_name, class_data in data.items():\n",
        "    print(class_name)\n",
        "    # print(class_data)\n",
        "    for model_name, model_data in class_data.items():\n",
        "        print(model_name)\n",
        "        print(model_data)\n",
        "        for attack_name, attack_accuracy in model_data.items():\n",
        "            if attack_name == \"base\":\n",
        "                print(attack_name)\n",
        "                print(attack_accuracy)\n",
        "    break"
      ]
    },
    {
      "cell_type": "code",
      "execution_count": 113,
      "metadata": {},
      "outputs": [
        {
          "name": "stdout",
          "output_type": "stream",
          "text": [
            "{'fgsm': 2.5900000000000003, 'hopskip': 4.228, 'pgd': 2.685}\n",
            "{'fgsm': 3.069, 'hopskip': 4.747, 'pgd': 2.7960000000000003}\n",
            "{'fgsm': 2.5189999999999997, 'hopskip': 3.9619999999999997, 'pgd': 2.907}\n",
            "{'fgsm': 2.3289999999999997, 'hopskip': 2.5620000000000003, 'pgd': 2.379}\n",
            "{'fgsm': 2.585, 'hopskip': 4.218, 'pgd': 3.399}\n",
            "{'fgsm': 2.952, 'hopskip': 3.891, 'pgd': 3.0250000000000004}\n",
            "{'fgsm': 1.8499999999999999, 'hopskip': 4.643, 'pgd': 1.9459999999999997}\n",
            "{'fgsm': 3.0060000000000002, 'hopskip': 3.5700000000000003, 'pgd': 3.08}\n",
            "{'fgsm': 2.606, 'hopskip': 4.577999999999999, 'pgd': 2.3960000000000004}\n",
            "{'fgsm': 2.933, 'hopskip': 4.25, 'pgd': 3.319}\n"
          ]
        }
      ],
      "source": [
        "# Initialize a dictionary to store results\n",
        "attack_rankings = {}\n",
        "\n",
        "for class_name, class_data in data.items():\n",
        "    class_rankings = {}\n",
        "\n",
        "\n",
        "    for attack in attacks:\n",
        "\n",
        "        for model in models:\n",
        "\n",
        "            if attack not in class_data[model]:\n",
        "                continue\n",
        "            effectiveness = calculate_effectiveness(class_data[model]['base'], class_data[model][attack])\n",
        "\n",
        "            if attack not in class_rankings:\n",
        "                class_rankings[attack] = effectiveness\n",
        "            else:\n",
        "                class_rankings[attack] += effectiveness\n",
        "\n",
        "    print(class_rankings)\n",
        "\n",
        "    # Rank the attacks for the current class\n",
        "    ranked_attacks = sorted(class_rankings.items(), key=lambda x: x[1], reverse=True)\n",
        "\n",
        "    # Store the ranked attacks in the overall dictionary\n",
        "    attack_rankings[class_name] = ranked_attacks\n",
        "    # break\n"
      ]
    },
    {
      "cell_type": "code",
      "execution_count": 114,
      "metadata": {},
      "outputs": [
        {
          "name": "stdout",
          "output_type": "stream",
          "text": [
            "Class: airplane\n",
            "1. hopskip: 4.228\n",
            "2. pgd: 2.685\n",
            "3. fgsm: 2.590\n",
            "\n",
            "\n",
            "Class: automobile\n",
            "1. hopskip: 4.747\n",
            "2. fgsm: 3.069\n",
            "3. pgd: 2.796\n",
            "\n",
            "\n",
            "Class: bird\n",
            "1. hopskip: 3.962\n",
            "2. pgd: 2.907\n",
            "3. fgsm: 2.519\n",
            "\n",
            "\n",
            "Class: cat\n",
            "1. hopskip: 2.562\n",
            "2. pgd: 2.379\n",
            "3. fgsm: 2.329\n",
            "\n",
            "\n",
            "Class: deer\n",
            "1. hopskip: 4.218\n",
            "2. pgd: 3.399\n",
            "3. fgsm: 2.585\n",
            "\n",
            "\n",
            "Class: dog\n",
            "1. hopskip: 3.891\n",
            "2. pgd: 3.025\n",
            "3. fgsm: 2.952\n",
            "\n",
            "\n",
            "Class: frog\n",
            "1. hopskip: 4.643\n",
            "2. pgd: 1.946\n",
            "3. fgsm: 1.850\n",
            "\n",
            "\n",
            "Class: horse\n",
            "1. hopskip: 3.570\n",
            "2. pgd: 3.080\n",
            "3. fgsm: 3.006\n",
            "\n",
            "\n",
            "Class: ship\n",
            "1. hopskip: 4.578\n",
            "2. fgsm: 2.606\n",
            "3. pgd: 2.396\n",
            "\n",
            "\n",
            "Class: truck\n",
            "1. hopskip: 4.250\n",
            "2. pgd: 3.319\n",
            "3. fgsm: 2.933\n",
            "\n",
            "\n"
          ]
        }
      ],
      "source": [
        "# Print the results\n",
        "for class_name, ranked_attacks in attack_rankings.items():\n",
        "    print(f\"Class: {class_name}\")\n",
        "    for rank, (attack_name, effectiveness) in enumerate(ranked_attacks, start=1):\n",
        "        print(f\"{rank}. {attack_name}: {effectiveness:.3f}\")\n",
        "    print(\"\\n\")"
      ]
    },
    {
      "cell_type": "markdown",
      "metadata": {},
      "source": [
        "# Ranking one by one"
      ]
    },
    {
      "cell_type": "code",
      "execution_count": 189,
      "metadata": {},
      "outputs": [],
      "source": [
        "# Load the JSON data\n",
        "with open('./results/accuracy.json', 'r') as file:\n",
        "    data = json.load(file)"
      ]
    },
    {
      "cell_type": "code",
      "execution_count": 190,
      "metadata": {},
      "outputs": [],
      "source": [
        "attack_rankings = {}"
      ]
    },
    {
      "cell_type": "code",
      "execution_count": 191,
      "metadata": {},
      "outputs": [],
      "source": [
        "def print_rankings():\n",
        "    for class_name, ranked_attacks in attack_rankings.items():\n",
        "        print(f\"Class: {class_name}\")\n",
        "        for rank, (attack_name, effectiveness) in enumerate(ranked_attacks, start=1):\n",
        "            print(f\"{rank}. {attack_name}: {effectiveness:.3f}\")\n",
        "        print(\"\\n\")"
      ]
    },
    {
      "cell_type": "code",
      "execution_count": 192,
      "metadata": {},
      "outputs": [],
      "source": [
        "def print_class_rankings(cls):\n",
        "    for class_name, ranked_attacks in attack_rankings.items():\n",
        "        if cls!=class_name:\n",
        "            continue\n",
        "        print(f\"Class: {class_name}\")\n",
        "        for rank, (attack_name, effectiveness) in enumerate(ranked_attacks, start=1):\n",
        "            print(f\"{rank}. {attack_name}: {effectiveness:.3f}\")\n",
        "        print(\"\\n\")"
      ]
    },
    {
      "cell_type": "code",
      "execution_count": 193,
      "metadata": {},
      "outputs": [],
      "source": [
        "def update_ranking(model_name):\n",
        "    print(f'Updating rankings with model: {model_name}')\n",
        "    for class_name, class_data in data.items():\n",
        "        if class_name in attack_rankings:\n",
        "            class_rankings = dict(attack_rankings[class_name])\n",
        "        else:\n",
        "            class_rankings = {}\n",
        "        for attack in attacks:\n",
        "            # for model in models:\n",
        "            if model_name not in class_data:\n",
        "                continue\n",
        "            if attack not in class_data[model_name]:\n",
        "                continue\n",
        "            \n",
        "            effectiveness = calculate_effectiveness(class_data[model_name]['base'], class_data[model_name][attack])\n",
        "\n",
        "            if attack not in class_rankings:\n",
        "                class_rankings[attack] = effectiveness\n",
        "            else:\n",
        "                class_rankings[attack] += effectiveness\n",
        "\n",
        "        # Rank the attacks for the current class\n",
        "        ranked_attacks = sorted(class_rankings.items(), key=lambda x: x[1], reverse=True)\n",
        "\n",
        "        # Store the ranked attacks in the overall dictionary\n",
        "        attack_rankings[class_name] = ranked_attacks\n",
        "        # break\n",
        "    # print_rankings()\n"
      ]
    },
    {
      "cell_type": "code",
      "execution_count": 194,
      "metadata": {},
      "outputs": [
        {
          "name": "stdout",
          "output_type": "stream",
          "text": [
            "{}\n"
          ]
        }
      ],
      "source": [
        "print(attack_rankings)"
      ]
    },
    {
      "cell_type": "code",
      "execution_count": 195,
      "metadata": {},
      "outputs": [],
      "source": [
        "print_class_rankings(\"cat\")"
      ]
    },
    {
      "cell_type": "code",
      "execution_count": 196,
      "metadata": {},
      "outputs": [
        {
          "name": "stdout",
          "output_type": "stream",
          "text": [
            "Updating rankings with model: Resnet50\n"
          ]
        }
      ],
      "source": [
        "update_ranking(models[0])"
      ]
    },
    {
      "cell_type": "code",
      "execution_count": 197,
      "metadata": {},
      "outputs": [
        {
          "name": "stdout",
          "output_type": "stream",
          "text": [
            "Class: cat\n",
            "1. pgd: 0.258\n",
            "2. fgsm: 0.228\n",
            "3. hopskip: -0.003\n",
            "\n",
            "\n"
          ]
        }
      ],
      "source": [
        "print_class_rankings(\"cat\")"
      ]
    },
    {
      "cell_type": "code",
      "execution_count": 198,
      "metadata": {},
      "outputs": [
        {
          "name": "stdout",
          "output_type": "stream",
          "text": [
            "Updating rankings with model: CNN\n"
          ]
        }
      ],
      "source": [
        "update_ranking(models[1])"
      ]
    },
    {
      "cell_type": "code",
      "execution_count": 199,
      "metadata": {},
      "outputs": [
        {
          "name": "stdout",
          "output_type": "stream",
          "text": [
            "Class: cat\n",
            "1. fgsm: 0.925\n",
            "2. pgd: 0.784\n",
            "3. hopskip: 0.519\n",
            "\n",
            "\n"
          ]
        }
      ],
      "source": [
        "print_class_rankings(\"cat\")"
      ]
    },
    {
      "cell_type": "code",
      "execution_count": 200,
      "metadata": {},
      "outputs": [
        {
          "name": "stdout",
          "output_type": "stream",
          "text": [
            "Updating rankings with model: VGG\n"
          ]
        }
      ],
      "source": [
        "update_ranking(models[2])"
      ]
    },
    {
      "cell_type": "code",
      "execution_count": 201,
      "metadata": {},
      "outputs": [
        {
          "name": "stdout",
          "output_type": "stream",
          "text": [
            "Class: cat\n",
            "1. fgsm: 1.494\n",
            "2. pgd: 1.191\n",
            "3. hopskip: 1.008\n",
            "\n",
            "\n"
          ]
        }
      ],
      "source": [
        "print_class_rankings(\"cat\")"
      ]
    },
    {
      "cell_type": "code",
      "execution_count": 202,
      "metadata": {},
      "outputs": [
        {
          "name": "stdout",
          "output_type": "stream",
          "text": [
            "Updating rankings with model: VGG_aug\n"
          ]
        }
      ],
      "source": [
        "update_ranking(models[3])"
      ]
    },
    {
      "cell_type": "code",
      "execution_count": 203,
      "metadata": {},
      "outputs": [
        {
          "name": "stdout",
          "output_type": "stream",
          "text": [
            "Class: cat\n",
            "1. fgsm: 2.253\n",
            "2. pgd: 1.812\n",
            "3. hopskip: 1.685\n",
            "\n",
            "\n"
          ]
        }
      ],
      "source": [
        "print_class_rankings(\"cat\")"
      ]
    },
    {
      "cell_type": "code",
      "execution_count": 204,
      "metadata": {},
      "outputs": [
        {
          "name": "stdout",
          "output_type": "stream",
          "text": [
            "Updating rankings with model: Resnet101\n"
          ]
        }
      ],
      "source": [
        "update_ranking(models[4])"
      ]
    },
    {
      "cell_type": "code",
      "execution_count": 205,
      "metadata": {},
      "outputs": [
        {
          "name": "stdout",
          "output_type": "stream",
          "text": [
            "Class: cat\n",
            "1. hopskip: 2.562\n",
            "2. pgd: 2.379\n",
            "3. fgsm: 2.329\n",
            "\n",
            "\n"
          ]
        }
      ],
      "source": [
        "print_class_rankings(\"cat\")"
      ]
    },
    {
      "cell_type": "code",
      "execution_count": 207,
      "metadata": {},
      "outputs": [
        {
          "name": "stdout",
          "output_type": "stream",
          "text": [
            "Class: airplane\n",
            "1. hopskip: 4.228\n",
            "2. pgd: 2.685\n",
            "3. fgsm: 2.590\n",
            "\n",
            "\n",
            "Class: automobile\n",
            "1. hopskip: 4.747\n",
            "2. fgsm: 3.069\n",
            "3. pgd: 2.796\n",
            "\n",
            "\n",
            "Class: bird\n",
            "1. hopskip: 3.962\n",
            "2. pgd: 2.907\n",
            "3. fgsm: 2.519\n",
            "\n",
            "\n",
            "Class: cat\n",
            "1. hopskip: 2.562\n",
            "2. pgd: 2.379\n",
            "3. fgsm: 2.329\n",
            "\n",
            "\n",
            "Class: deer\n",
            "1. hopskip: 4.218\n",
            "2. pgd: 3.399\n",
            "3. fgsm: 2.585\n",
            "\n",
            "\n",
            "Class: dog\n",
            "1. hopskip: 3.891\n",
            "2. pgd: 3.025\n",
            "3. fgsm: 2.952\n",
            "\n",
            "\n",
            "Class: frog\n",
            "1. hopskip: 4.643\n",
            "2. pgd: 1.946\n",
            "3. fgsm: 1.850\n",
            "\n",
            "\n",
            "Class: horse\n",
            "1. hopskip: 3.570\n",
            "2. pgd: 3.080\n",
            "3. fgsm: 3.006\n",
            "\n",
            "\n",
            "Class: ship\n",
            "1. hopskip: 4.578\n",
            "2. fgsm: 2.606\n",
            "3. pgd: 2.396\n",
            "\n",
            "\n",
            "Class: truck\n",
            "1. hopskip: 4.250\n",
            "2. pgd: 3.319\n",
            "3. fgsm: 2.933\n",
            "\n",
            "\n"
          ]
        }
      ],
      "source": [
        "print_rankings()"
      ]
    },
    {
      "cell_type": "code",
      "execution_count": 145,
      "metadata": {},
      "outputs": [],
      "source": [
        "with open('./results/final_rankings.json', 'w') as json_file:\n",
        "    json.dump(attack_rankings, json_file)"
      ]
    }
  ],
  "metadata": {
    "colab": {
      "provenance": []
    },
    "kernelspec": {
      "display_name": "Python 3",
      "name": "python3"
    },
    "language_info": {
      "codemirror_mode": {
        "name": "ipython",
        "version": 3
      },
      "file_extension": ".py",
      "mimetype": "text/x-python",
      "name": "python",
      "nbconvert_exporter": "python",
      "pygments_lexer": "ipython3",
      "version": "3.11.4"
    }
  },
  "nbformat": 4,
  "nbformat_minor": 0
}
