{
  "nbformat": 4,
  "nbformat_minor": 0,
  "metadata": {
    "colab": {
      "provenance": [],
      "gpuType": "T4"
    },
    "kernelspec": {
      "name": "python3",
      "display_name": "Python 3"
    },
    "language_info": {
      "name": "python"
    },
    "accelerator": "GPU"
  },
  "cells": [
    {
      "cell_type": "code",
      "execution_count": null,
      "metadata": {
        "id": "7lnLd2H9SWeG"
      },
      "outputs": [],
      "source": [
        "from keras.models import load_model\n",
        "model = load_model('/content/resnet101_keras_94.97.h5')"
      ]
    },
    {
      "cell_type": "code",
      "source": [
        "import pandas as pd\n",
        "import numpy as np\n",
        "import matplotlib.pyplot as plt\n",
        "%matplotlib inline\n",
        "\n",
        "import tensorflow as tf\n",
        "from tensorflow.keras.datasets import cifar10\n",
        "from tensorflow.keras.utils import to_categorical\n",
        "\n",
        "from tensorflow.keras.models import Sequential\n",
        "from tensorflow.keras.layers import Dense, Conv2D, MaxPool2D, Flatten, Dropout, BatchNormalization\n",
        "from tensorflow.keras.callbacks import EarlyStopping\n",
        "from tensorflow.keras.preprocessing.image import ImageDataGenerator\n",
        "\n",
        "from sklearn.metrics import ConfusionMatrixDisplay\n",
        "from sklearn.metrics import classification_report, confusion_matrix"
      ],
      "metadata": {
        "id": "SfEMh8tOS-oA"
      },
      "execution_count": null,
      "outputs": []
    },
    {
      "cell_type": "code",
      "source": [
        "(X_train, y_train), (X_test, y_test) = cifar10.load_data()\n",
        "\n",
        "print(f\"X_train shape: {X_train.shape}\")\n",
        "print(f\"y_train shape: {y_train.shape}\")\n",
        "print(f\"X_test shape: {X_test.shape}\")\n",
        "print(f\"y_test shape: {y_test.shape}\")\n",
        "y_true_label = y_test\n",
        "y_true_label = y_test.reshape(-1)\n",
        "print(y_true_label)"
      ],
      "metadata": {
        "colab": {
          "base_uri": "https://localhost:8080/"
        },
        "id": "lXyv97lzSgsq",
        "outputId": "f9f17202-7166-444f-df4b-557fc69cccdd"
      },
      "execution_count": null,
      "outputs": [
        {
          "output_type": "stream",
          "name": "stdout",
          "text": [
            "X_train shape: (50000, 32, 32, 3)\n",
            "y_train shape: (50000, 1)\n",
            "X_test shape: (10000, 32, 32, 3)\n",
            "y_test shape: (10000, 1)\n",
            "[3 8 8 ... 5 1 7]\n"
          ]
        }
      ]
    },
    {
      "cell_type": "code",
      "source": [
        "# Scale the data\n",
        "X_train = X_train / 255.0\n",
        "X_test = X_test / 255.0\n",
        "\n",
        "# Transform target variable into one-hotencoding\n",
        "y_train = to_categorical(y_train, 10)\n",
        "y_test = to_categorical(y_test, 10)"
      ],
      "metadata": {
        "id": "UoIMklpOS7YE"
      },
      "execution_count": null,
      "outputs": []
    },
    {
      "cell_type": "code",
      "source": [
        "print(f\"X_test shape: {X_test.shape}\")\n",
        "print(f\"y_test shape: {y_test.shape}\")"
      ],
      "metadata": {
        "colab": {
          "base_uri": "https://localhost:8080/"
        },
        "id": "UR1_LsMbTEYG",
        "outputId": "b373e9a0-4820-4539-b064-7b023dc89258"
      },
      "execution_count": null,
      "outputs": [
        {
          "output_type": "stream",
          "name": "stdout",
          "text": [
            "X_test shape: (10000, 32, 32, 3)\n",
            "y_test shape: (10000, 10)\n"
          ]
        }
      ]
    },
    {
      "cell_type": "code",
      "source": [
        "from google.colab import drive\n",
        "drive.mount('/content/drive')"
      ],
      "metadata": {
        "id": "cJFERNWccE0m"
      },
      "execution_count": null,
      "outputs": []
    },
    {
      "cell_type": "code",
      "source": [
        "print(model.evaluate(X_test, y_test))\n",
        "#print('Test Loss:', loss)\n",
        "#print('Test Accuracy:', accuracy)"
      ],
      "metadata": {
        "id": "hu3webFqTGqp"
      },
      "execution_count": null,
      "outputs": []
    },
    {
      "cell_type": "code",
      "source": [
        "y_pred = model.predict(X_test)"
      ],
      "metadata": {
        "colab": {
          "base_uri": "https://localhost:8080/"
        },
        "id": "vIodfDdrV1o8",
        "outputId": "c7498a16-f2c7-463d-d517-e21f0062bad1"
      },
      "execution_count": null,
      "outputs": [
        {
          "output_type": "stream",
          "name": "stdout",
          "text": [
            "313/313 [==============================] - 58s 178ms/step\n"
          ]
        }
      ]
    },
    {
      "cell_type": "code",
      "source": [
        "y_pred_t = np.argmax(y_pred, axis=-1)\n",
        "print(y_pred_t)"
      ],
      "metadata": {
        "colab": {
          "base_uri": "https://localhost:8080/"
        },
        "id": "B6FyIuJ4XOe2",
        "outputId": "96a74e3b-bb9b-4b46-f001-287cf7510468"
      },
      "execution_count": null,
      "outputs": [
        {
          "output_type": "stream",
          "name": "stdout",
          "text": [
            "[3 8 8 ... 5 1 7]\n"
          ]
        }
      ]
    },
    {
      "cell_type": "code",
      "source": [
        "# Calculate base accuracy by hand\n",
        "success = 0\n",
        "samples = float(len(y_pred_t))\n",
        "for ii in range(len(y_pred_t)):\n",
        "  if y_pred_t[ii] == y_true_label[ii]:\n",
        "    success+=1\n",
        "print(f\"Accuracy: {success/samples}\")"
      ],
      "metadata": {
        "colab": {
          "base_uri": "https://localhost:8080/"
        },
        "id": "7pu5Y3C6ZMnN",
        "outputId": "b3ff9f10-f80b-40fd-97d9-04a99f572fc2"
      },
      "execution_count": null,
      "outputs": [
        {
          "output_type": "stream",
          "name": "stdout",
          "text": [
            "Accuracy: 0.9497\n"
          ]
        }
      ]
    },
    {
      "cell_type": "markdown",
      "source": [
        "Code for simulating 9 GRID on base images"
      ],
      "metadata": {
        "id": "lZF0jp1DUgd8"
      }
    },
    {
      "cell_type": "code",
      "source": [
        "success=0\n",
        "samples=0\n",
        "for ii in range(0, len(y_pred_t)-1, 9):\n",
        "  hits=0\n",
        "  for jj in range(ii, ii+9):\n",
        "    if(y_pred_t[jj] == y_true_label[jj]):\n",
        "      hits += 1\n",
        "  if hits >= 6:\n",
        "    success += 1\n",
        "  samples += 1\n",
        "\n",
        "print(f\"Accuracy: {success/samples}\")"
      ],
      "metadata": {
        "colab": {
          "base_uri": "https://localhost:8080/"
        },
        "id": "1zBqR7i8fSZD",
        "outputId": "ec4b28ba-4997-45c1-a2cf-c3e466579878"
      },
      "execution_count": null,
      "outputs": [
        {
          "output_type": "stream",
          "name": "stdout",
          "text": [
            "Accuracy: 0.9945994599459946\n"
          ]
        }
      ]
    },
    {
      "cell_type": "code",
      "source": [
        "# Generate adversarial attacks\n",
        "import numpy as np\n",
        "\n",
        "x_adv_fgsm = np.load('/content/X_Resnet101_adv_FGSM.npy')\n",
        "x_adv_hopskip = np.load('/content/X_Resnet101_adv_Hopskip.npy')\n",
        "x_adv_pgd = np.load('/content/X_Resnet101_adv_PGD.npy')\n",
        "print(f\"{x_adv_fgsm.shape}\")\n",
        "print(f\"{x_adv_hopskip.shape}\")\n",
        "print(f\"{x_adv_pgd.shape}\")"
      ],
      "metadata": {
        "colab": {
          "base_uri": "https://localhost:8080/"
        },
        "id": "ozDQMYIpgBb2",
        "outputId": "bcd0cb65-0e4e-4b88-cff7-cb63dd76ba61"
      },
      "execution_count": null,
      "outputs": [
        {
          "output_type": "stream",
          "name": "stdout",
          "text": [
            "(10000, 32, 32, 3)\n",
            "(10000, 32, 32, 3)\n",
            "(10000, 32, 32, 3)\n"
          ]
        }
      ]
    },
    {
      "cell_type": "code",
      "source": [
        "# Generate labels for noise x_test\n",
        "y_adv_fgsm = model.predict(x_adv_fgsm)\n",
        "y_adv_fgsm = np.argmax(y_adv_fgsm, axis=-1)\n",
        "print(y_adv_fgsm)\n",
        "\n",
        "y_adv_hopskip = model.predict(x_adv_hopskip)\n",
        "y_adv_hopskip = np.argmax(y_adv_hopskip, axis=-1)\n",
        "print(y_adv_hopskip)\n",
        "\n",
        "y_adv_pgd = model.predict(x_adv_pgd)\n",
        "y_adv_pgd = np.argmax(y_adv_pgd, axis=-1)\n",
        "print(y_adv_pgd)"
      ],
      "metadata": {
        "colab": {
          "base_uri": "https://localhost:8080/"
        },
        "id": "nQ90CSxEgY7f",
        "outputId": "656b1bd4-8390-4374-ca4b-663ce5e81066"
      },
      "execution_count": null,
      "outputs": [
        {
          "output_type": "stream",
          "name": "stdout",
          "text": [
            "313/313 [==============================] - 56s 178ms/step\n",
            "[3 8 8 ... 5 1 7]\n",
            "313/313 [==============================] - 56s 178ms/step\n",
            "[7 3 3 ... 3 0 7]\n",
            "313/313 [==============================] - 55s 177ms/step\n",
            "[8 8 8 ... 8 0 6]\n"
          ]
        }
      ]
    },
    {
      "cell_type": "markdown",
      "source": [
        "## Code for simulating ensemble of adversarial attacks on CIFAR test images"
      ],
      "metadata": {
        "id": "NN4-LRLfUqAg"
      }
    },
    {
      "cell_type": "code",
      "source": [
        "success = 0\n",
        "samples = len(y_pred_t)\n",
        "for ii in range(0, len(y_pred_t)-1):\n",
        "  if ii%3==0:\n",
        "      if y_adv_fgsm[ii] == y_true_label[ii]:\n",
        "        success += 1\n",
        "  elif ii%3==1:\n",
        "      if y_adv_hopskip[ii] == y_true_label[ii]:\n",
        "        success += 1\n",
        "  else:\n",
        "      if y_adv_pgd[ii] == y_true_label[ii]:\n",
        "        success += 1\n",
        "\n",
        "print(f\"Accuracy: {success/samples * 100}%\")"
      ],
      "metadata": {
        "colab": {
          "base_uri": "https://localhost:8080/"
        },
        "id": "i6hxqArdhpMK",
        "outputId": "d5ea1a53-d1f9-423c-d6fa-eddc56c528c4"
      },
      "execution_count": null,
      "outputs": [
        {
          "output_type": "stream",
          "name": "stdout",
          "text": [
            "Accuracy: 41.959999999999994%\n"
          ]
        }
      ]
    },
    {
      "cell_type": "markdown",
      "source": [
        "## Getting the adversarial diffs"
      ],
      "metadata": {
        "id": "hoZjyoW4csfs"
      }
    },
    {
      "cell_type": "code",
      "source": [
        "import numpy as np\n",
        "x_adv = np.load('/content/X_Resnet101_adv_PGD.npy')\n",
        "fsgm_diff = x_adv[10] - X_test[10]"
      ],
      "metadata": {
        "id": "N6EWoExyUr9w"
      },
      "execution_count": null,
      "outputs": []
    },
    {
      "cell_type": "code",
      "source": [
        "plt.imshow(X_test[14])"
      ],
      "metadata": {
        "colab": {
          "base_uri": "https://localhost:8080/",
          "height": 447
        },
        "id": "fJ1_e7gMdQvJ",
        "outputId": "74bb935d-0c94-46d2-d24a-aafbbe9bc5d7"
      },
      "execution_count": null,
      "outputs": [
        {
          "output_type": "execute_result",
          "data": {
            "text/plain": [
              "<matplotlib.image.AxesImage at 0x7aa88f10dab0>"
            ]
          },
          "metadata": {},
          "execution_count": 19
        },
        {
          "output_type": "display_data",
          "data": {
            "text/plain": [
              "<Figure size 640x480 with 1 Axes>"
            ],
            "image/png": "[encoded data removed]"
          },
          "metadata": {}
        }
      ]
    },
    {
      "cell_type": "code",
      "source": [
        "plt.imshow(X_test[14] + fsgm_diff)"
      ],
      "metadata": {
        "colab": {
          "base_uri": "https://localhost:8080/",
          "height": 465
        },
        "id": "AI2awNOfdj67",
        "outputId": "6068086d-a4cd-4905-969f-277c8e05bcca"
      },
      "execution_count": null,
      "outputs": [
        {
          "output_type": "stream",
          "name": "stderr",
          "text": [
            "WARNING:matplotlib.image:Clipping input data to the valid range for imshow with RGB data ([0..1] for floats or [0..255] for integers).\n"
          ]
        },
        {
          "output_type": "execute_result",
          "data": {
            "text/plain": [
              "<matplotlib.image.AxesImage at 0x7aa88cce2c20>"
            ]
          },
          "metadata": {},
          "execution_count": 20
        },
        {
          "output_type": "display_data",
          "data": {
            "text/plain": [
              "<Figure size 640x480 with 1 Axes>"
            ],
            "image/png": "[encoded data removed]"
          },
          "metadata": {}
        }
      ]
    },
    {
      "cell_type": "code",
      "source": [
        "np.save('pgd_attack_diff.npy', fsgm_diff)"
      ],
      "metadata": {
        "id": "t6Lq3aoxdsPm"
      },
      "execution_count": null,
      "outputs": []
    }
  ]
}