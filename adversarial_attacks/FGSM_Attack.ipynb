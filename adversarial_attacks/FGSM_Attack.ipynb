{
  "metadata": {
    "kernelspec": {
      "language": "python",
      "display_name": "Python 3",
      "name": "python3"
    },
    "language_info": {
      "name": "python",
      "version": "3.6.6",
      "mimetype": "text/x-python",
      "codemirror_mode": {
        "name": "ipython",
        "version": 3
      },
      "pygments_lexer": "ipython3",
      "nbconvert_exporter": "python",
      "file_extension": ".py"
    },
    "colab": {
      "provenance": []
    }
  },
  "nbformat_minor": 0,
  "nbformat": 4,
  "cells": [
    {
      "cell_type": "code",
      "source": [
        "!pip install adversarial-robustness-toolbox"
      ],
      "metadata": {
        "colab": {
          "base_uri": "https://localhost:8080/"
        },
        "id": "lC0OV3WPrAQv",
        "outputId": "96902f4c-92a6-4700-85ad-56c7b927af58"
      },
      "execution_count": null,
      "outputs": [
        {
          "output_type": "stream",
          "name": "stdout",
          "text": [
            "Requirement already satisfied: adversarial-robustness-toolbox in /usr/local/lib/python3.10/dist-packages (1.16.0)\n",
            "Requirement already satisfied: numpy>=1.18.0 in /usr/local/lib/python3.10/dist-packages (from adversarial-robustness-toolbox) (1.23.5)\n",
            "Requirement already satisfied: scipy>=1.4.1 in /usr/local/lib/python3.10/dist-packages (from adversarial-robustness-toolbox) (1.11.3)\n",
            "Requirement already satisfied: scikit-learn<1.2.0,>=0.22.2 in /usr/local/lib/python3.10/dist-packages (from adversarial-robustness-toolbox) (1.1.3)\n",
            "Requirement already satisfied: six in /usr/local/lib/python3.10/dist-packages (from adversarial-robustness-toolbox) (1.16.0)\n",
            "Requirement already satisfied: setuptools in /usr/local/lib/python3.10/dist-packages (from adversarial-robustness-toolbox) (67.7.2)\n",
            "Requirement already satisfied: tqdm in /usr/local/lib/python3.10/dist-packages (from adversarial-robustness-toolbox) (4.66.1)\n",
            "Requirement already satisfied: joblib>=1.0.0 in /usr/local/lib/python3.10/dist-packages (from scikit-learn<1.2.0,>=0.22.2->adversarial-robustness-toolbox) (1.3.2)\n",
            "Requirement already satisfied: threadpoolctl>=2.0.0 in /usr/local/lib/python3.10/dist-packages (from scikit-learn<1.2.0,>=0.22.2->adversarial-robustness-toolbox) (3.2.0)\n"
          ]
        }
      ]
    },
    {
      "cell_type": "markdown",
      "source": [
        "### FGSM Attack on CNN Model"
      ],
      "metadata": {
        "id": "XCi3jaO-1yeL"
      }
    },
    {
      "cell_type": "code",
      "source": [
        "from keras.models import load_model\n",
        "model = load_model('/content/cnn_20_epochs.h5')"
      ],
      "metadata": {
        "id": "Ed9cLjpEU4du"
      },
      "execution_count": null,
      "outputs": []
    },
    {
      "cell_type": "code",
      "source": [
        "import tensorflow as tf\n",
        "from tensorflow.keras import Sequential\n",
        "from tensorflow.keras.callbacks import LambdaCallback\n",
        "import tensorflow.keras.layers as L\n",
        "from tensorflow.keras.datasets import mnist, cifar10\n",
        "\n",
        "import numpy as np\n",
        "import matplotlib.pyplot as plt\n",
        "from random import randint\n",
        "from tqdm import tqdm\n",
        "import time"
      ],
      "metadata": {
        "_uuid": "8f2839f25d086af736a60e9eeb907d3b93b6e0e5",
        "_cell_guid": "b1076dfc-b9ad-4769-8c92-a6c4dae69d19",
        "execution": {
          "iopub.status.busy": "2021-12-22T09:50:39.998011Z",
          "iopub.execute_input": "2021-12-22T09:50:39.998470Z",
          "iopub.status.idle": "2021-12-22T09:50:46.430807Z",
          "shell.execute_reply.started": "2021-12-22T09:50:39.998286Z",
          "shell.execute_reply": "2021-12-22T09:50:46.429998Z"
        },
        "trusted": true,
        "id": "ZTv4qU02UwFy"
      },
      "execution_count": null,
      "outputs": []
    },
    {
      "cell_type": "code",
      "source": [
        "import tensorflow as tf\n",
        "from tensorflow.keras.datasets import cifar10\n",
        "from tensorflow.keras.utils import to_categorical\n",
        "(X_train, y_train), (X_test, y_test) = cifar10.load_data()\n",
        "\n",
        "print(f\"X_train shape: {X_train.shape}\")\n",
        "print(f\"y_train shape: {y_train.shape}\")\n",
        "print(f\"X_test shape: {X_test.shape}\")\n",
        "print(f\"y_test shape: {y_test.shape}\")"
      ],
      "metadata": {
        "colab": {
          "base_uri": "https://localhost:8080/"
        },
        "id": "K9q1HHOpU_oY",
        "outputId": "4dbc20a0-92e3-456c-f5a6-33e8922f5f48"
      },
      "execution_count": null,
      "outputs": [
        {
          "output_type": "stream",
          "name": "stdout",
          "text": [
            "X_train shape: (50000, 32, 32, 3)\n",
            "y_train shape: (50000, 1)\n",
            "X_test shape: (10000, 32, 32, 3)\n",
            "y_test shape: (10000, 1)\n"
          ]
        }
      ]
    },
    {
      "cell_type": "code",
      "source": [
        "X_train = X_train / 255.0\n",
        "X_test = X_test / 255.0\n",
        "\n",
        "y_train = to_categorical(y_train, 10)\n",
        "y_test = to_categorical(y_test, 10)"
      ],
      "metadata": {
        "id": "S48lpHRSVCPp"
      },
      "execution_count": null,
      "outputs": []
    },
    {
      "cell_type": "code",
      "source": [
        "height, width, channels = 32, 32, 3\n",
        "nb_classes = 10\n",
        "label_names = ['airplane', 'automobile', 'bird', 'cat', 'deer', 'dog', 'frog',\n",
        "               'horse', 'ship', 'truck']\n",
        "\n",
        "\n",
        "\n",
        "X_train = X_train.reshape((-1, height, width, channels))\n",
        "X_test = X_test.reshape((-1, height, width, channels))\n",
        "\n",
        "y_train = tf.keras.utils.to_categorical(y_train, nb_classes)\n",
        "y_test = tf.keras.utils.to_categorical(y_test, nb_classes)\n"
      ],
      "metadata": {
        "execution": {
          "iopub.status.busy": "2021-12-22T10:08:43.660455Z",
          "iopub.execute_input": "2021-12-22T10:08:43.660770Z",
          "iopub.status.idle": "2021-12-22T10:08:44.143527Z",
          "shell.execute_reply.started": "2021-12-22T10:08:43.660714Z",
          "shell.execute_reply": "2021-12-22T10:08:44.142717Z"
        },
        "trusted": true,
        "id": "-xojxB6QUwFz"
      },
      "execution_count": null,
      "outputs": []
    },
    {
      "cell_type": "markdown",
      "source": [
        "### Fast Gradient Signed Method (FGSM) attack to perturb images"
      ],
      "metadata": {
        "id": "EZ0WZwJtUwF0"
      }
    },
    {
      "cell_type": "code",
      "source": [
        "def generate_adversary(image, label, epsilon=0.1):\n",
        "  image = tf.cast(image, tf.float32)\n",
        "\n",
        "  with tf.GradientTape() as tape:\n",
        "    tape.watch(image)\n",
        "    prediction = model(image)\n",
        "    loss = tf.keras.losses.MSE(label, prediction)\n",
        "  gradient = tape.gradient(loss, image)\n",
        "  sign_grad = tf.sign(gradient)\n",
        "  perturbation = epsilon * sign_grad  # Apply epsilon to the sign gradient\n",
        "\n",
        "  return perturbation"
      ],
      "metadata": {
        "execution": {
          "iopub.status.busy": "2021-12-22T10:11:48.168472Z",
          "iopub.execute_input": "2021-12-22T10:11:48.168782Z",
          "iopub.status.idle": "2021-12-22T10:11:48.174814Z",
          "shell.execute_reply.started": "2021-12-22T10:11:48.168725Z",
          "shell.execute_reply": "2021-12-22T10:11:48.173812Z"
        },
        "trusted": true,
        "id": "Glgg92wvUwF0"
      },
      "execution_count": null,
      "outputs": []
    },
    {
      "cell_type": "code",
      "source": [
        "height, width, channels = 32, 32, 3"
      ],
      "metadata": {
        "id": "H119dMfFVczl"
      },
      "execution_count": null,
      "outputs": []
    },
    {
      "cell_type": "code",
      "source": [
        "# Testing on random image\n",
        "rand_idx = randint(0,49999)\n",
        "image = X_train[rand_idx].reshape((1, height, width, channels))\n",
        "label = y_train[rand_idx]\n",
        "\n",
        "print(f'Prediction from CNN: {label_names[np.where(label==1)[0][0]]}')\n",
        "plt.figure(figsize=(3,3))\n",
        "plt.imshow(image.reshape((height, width, channels)))\n",
        "plt.show()"
      ],
      "metadata": {
        "execution": {
          "iopub.status.busy": "2021-12-22T10:11:51.684855Z",
          "iopub.execute_input": "2021-12-22T10:11:51.685142Z",
          "iopub.status.idle": "2021-12-22T10:11:51.856249Z",
          "shell.execute_reply.started": "2021-12-22T10:11:51.685094Z",
          "shell.execute_reply": "2021-12-22T10:11:51.855501Z"
        },
        "trusted": true,
        "colab": {
          "base_uri": "https://localhost:8080/",
          "height": 311
        },
        "id": "dANo1HI9UwF0",
        "outputId": "3ed17a04-bdb2-4773-e0b6-faa64ac4d8b8"
      },
      "execution_count": null,
      "outputs": [
        {
          "output_type": "stream",
          "name": "stdout",
          "text": [
            "Prediction from CNN: ship\n"
          ]
        },
        {
          "output_type": "display_data",
          "data": {
            "text/plain": [
              "<Figure size 300x300 with 1 Axes>"
            ],
            "image/png": "[encoded data removed]"
          },
          "metadata": {}
        }
      ]
    },
    {
      "cell_type": "code",
      "source": [
        "# Adding perturbations\n",
        "perturbations = generate_adversary(image,label,0.2).numpy()\n",
        "adversarial = image + (perturbations * 0.05)"
      ],
      "metadata": {
        "execution": {
          "iopub.status.busy": "2021-12-22T10:11:55.748796Z",
          "iopub.execute_input": "2021-12-22T10:11:55.749099Z",
          "iopub.status.idle": "2021-12-22T10:11:55.830174Z",
          "shell.execute_reply.started": "2021-12-22T10:11:55.749049Z",
          "shell.execute_reply": "2021-12-22T10:11:55.829524Z"
        },
        "trusted": true,
        "id": "gPofB-7jUwF0"
      },
      "execution_count": null,
      "outputs": []
    },
    {
      "cell_type": "code",
      "source": [
        "from art.estimators.classification import KerasClassifier\n",
        "# Comparing images\n",
        "fig, (ax1,ax2) = plt.subplots(1, 2, sharey=True)\n",
        "print(f'Original Image Prediction: {label_names[model.predict(image).argmax()]}')\n",
        "ax1.imshow(image.reshape(height,width, channels))\n",
        "ax1.set_title(\"Original Image\")\n",
        "print(f\"Adversary Prediction: {label_names[model.predict(adversarial).argmax()]}\")\n",
        "ax2.imshow(adversarial.reshape(height,width, channels))\n",
        "ax2.set_title(\"Image with Adversary\")\n",
        "plt.show()"
      ],
      "metadata": {
        "execution": {
          "iopub.status.busy": "2021-12-22T10:12:02.246909Z",
          "iopub.execute_input": "2021-12-22T10:12:02.247193Z",
          "iopub.status.idle": "2021-12-22T10:12:02.545069Z",
          "shell.execute_reply.started": "2021-12-22T10:12:02.247144Z",
          "shell.execute_reply": "2021-12-22T10:12:02.544263Z"
        },
        "trusted": true,
        "colab": {
          "base_uri": "https://localhost:8080/",
          "height": 379
        },
        "id": "oo2M9r_bUwF0",
        "outputId": "0a25bc35-11c9-4b1b-9cae-1a936c2b4df5"
      },
      "execution_count": null,
      "outputs": [
        {
          "output_type": "stream",
          "name": "stdout",
          "text": [
            "1/1 [==============================] - 0s 39ms/step\n",
            "Original Image Prediction: ship\n",
            "1/1 [==============================] - 0s 45ms/step\n",
            "Adversary Prediction: airplane\n"
          ]
        },
        {
          "output_type": "display_data",
          "data": {
            "text/plain": [
              "<Figure size 640x480 with 2 Axes>"
            ],
            "image/png": "[encoded data removed]"
          },
          "metadata": {}
        }
      ]
    },
    {
      "cell_type": "code",
      "source": [
        "print(f'Normal Image Prediction: {label_names[model.predict(image).argmax()]}')\n",
        "print(f\"Adversary Prediction: {label_names[model.predict(adversarial).argmax()]}\")"
      ],
      "metadata": {
        "execution": {
          "iopub.status.busy": "2021-12-22T10:12:08.072286Z",
          "iopub.execute_input": "2021-12-22T10:12:08.072797Z",
          "iopub.status.idle": "2021-12-22T10:12:08.189971Z",
          "shell.execute_reply.started": "2021-12-22T10:12:08.072587Z",
          "shell.execute_reply": "2021-12-22T10:12:08.188907Z"
        },
        "trusted": true,
        "colab": {
          "base_uri": "https://localhost:8080/"
        },
        "id": "ydmfnnFXUwF0",
        "outputId": "e31cc672-5125-4f52-b4f1-1000e055a545"
      },
      "execution_count": null,
      "outputs": [
        {
          "output_type": "stream",
          "name": "stdout",
          "text": [
            "1/1 [==============================] - 0s 33ms/step\n",
            "Normal Image Prediction: bird\n",
            "1/1 [==============================] - 0s 31ms/step\n",
            "Adversary Prediction: frog\n"
          ]
        }
      ]
    },
    {
      "cell_type": "code",
      "source": [
        "def adversary_generator(batch_size):\n",
        "  while True:\n",
        "    images = []\n",
        "    labels = []\n",
        "    for batch in range(batch_size):\n",
        "      label = y_test[batch]\n",
        "      image = X_test[batch].reshape((1,height, width, channels))\n",
        "\n",
        "      perturbations = generate_adversary(image, label,0.2).numpy()\n",
        "      adversarial = image + (perturbations * 0.2)\n",
        "\n",
        "      images.append(adversarial)\n",
        "      labels.append(label)\n",
        "\n",
        "      if batch%1000 == 0:\n",
        "        print(f\"{batch} images generated\")\n",
        "\n",
        "    images = np.asarray(images).reshape((batch_size, height, width, channels))\n",
        "    labels = np.asarray(labels)\n",
        "\n",
        "    yield images, labels"
      ],
      "metadata": {
        "execution": {
          "iopub.status.busy": "2021-12-22T10:12:14.372434Z",
          "iopub.execute_input": "2021-12-22T10:12:14.372798Z",
          "iopub.status.idle": "2021-12-22T10:12:14.380591Z",
          "shell.execute_reply.started": "2021-12-22T10:12:14.372739Z",
          "shell.execute_reply": "2021-12-22T10:12:14.379787Z"
        },
        "trusted": true,
        "id": "xbLNnXk-UwF0"
      },
      "execution_count": null,
      "outputs": []
    },
    {
      "cell_type": "code",
      "source": [
        "# Testing model accuracy on perturbed images\n",
        "start = time.time()\n",
        "x_adversarial_1, y_adversarial_1 = next(adversary_generator(10000))\n",
        "ad_acc = model.evaluate(x_adversarial_1, y_adversarial_1, verbose=0)\n",
        "print(f\"Accuracy on Adversarial Examples: {ad_acc[1]*100}\")\n",
        "print(\"Total time: \", time.time() - start, \"seconds\")"
      ],
      "metadata": {
        "execution": {
          "iopub.status.busy": "2021-12-22T10:12:20.572993Z",
          "iopub.execute_input": "2021-12-22T10:12:20.573281Z",
          "iopub.status.idle": "2021-12-22T10:13:54.159188Z",
          "shell.execute_reply.started": "2021-12-22T10:12:20.573229Z",
          "shell.execute_reply": "2021-12-22T10:13:54.158347Z"
        },
        "trusted": true,
        "colab": {
          "base_uri": "https://localhost:8080/"
        },
        "id": "Bbzs0fK9UwF1",
        "outputId": "f2228149-c15a-499d-8500-669afc6a5ece"
      },
      "execution_count": null,
      "outputs": [
        {
          "output_type": "stream",
          "name": "stdout",
          "text": [
            "0 images generated\n",
            "1000 images generated\n",
            "2000 images generated\n",
            "3000 images generated\n",
            "4000 images generated\n",
            "5000 images generated\n",
            "6000 images generated\n",
            "7000 images generated\n",
            "8000 images generated\n",
            "9000 images generated\n",
            "Accuracy on Adversarial Examples: 5.909999832510948\n",
            "Total time:  415.5088949203491 seconds\n"
          ]
        }
      ]
    },
    {
      "cell_type": "markdown",
      "source": [
        "# Checking transferability of perturbed images on VGG Dropout,VGG Augm,Resnet 50, Resnet 101 on CNN"
      ],
      "metadata": {
        "id": "LM72NfLI7JRd"
      }
    },
    {
      "cell_type": "code",
      "source": [
        "x_adversarial_v1=np.load('/content/X_VGG_adv_FGSM.npy')"
      ],
      "metadata": {
        "id": "X-Kl7gph8jRb"
      },
      "execution_count": null,
      "outputs": []
    },
    {
      "cell_type": "code",
      "source": [
        "ad_acc = model.evaluate(x_adversarial_v1, y_test, verbose=0)\n",
        "print(f\"Accuracy on Adversarial Examples from VGG Dropout on CNN: {ad_acc[1]*100}\")"
      ],
      "metadata": {
        "colab": {
          "base_uri": "https://localhost:8080/"
        },
        "id": "s_h3HpQp7UPU",
        "outputId": "5d3a86d3-a86b-4aaf-a7b9-b41e6ec9869f"
      },
      "execution_count": null,
      "outputs": [
        {
          "output_type": "stream",
          "name": "stdout",
          "text": [
            "Accuracy on Adversarial Examples from VGG Dropout on CNN: 35.08999943733215\n"
          ]
        }
      ]
    },
    {
      "cell_type": "code",
      "source": [
        "x_adversarial_va1=np.load('/content/X_VGG_augm_adv_FGSM.npy')"
      ],
      "metadata": {
        "id": "IGkcxsfV9MOS"
      },
      "execution_count": null,
      "outputs": []
    },
    {
      "cell_type": "code",
      "source": [
        "ad_acc = model.evaluate(x_adversarial_va1, y_test, verbose=0)\n",
        "print(f\"Accuracy on Adversarial Examples from VGG data augm on CNN: {ad_acc[1]*100}\")"
      ],
      "metadata": {
        "id": "NnBl-Qp39OEH",
        "colab": {
          "base_uri": "https://localhost:8080/"
        },
        "outputId": "59a942ba-a8a5-4dd0-e663-24d76ef3bf7d"
      },
      "execution_count": null,
      "outputs": [
        {
          "output_type": "stream",
          "name": "stdout",
          "text": [
            "Accuracy on Adversarial Examples from VGG data augm on CNN: 20.720000565052032\n"
          ]
        }
      ]
    },
    {
      "cell_type": "code",
      "source": [
        "np.shape(x_adversarial_res50_1)"
      ],
      "metadata": {
        "colab": {
          "base_uri": "https://localhost:8080/"
        },
        "id": "mbPj_q-VgOI3",
        "outputId": "c8dce883-416f-44d7-b13b-056800a3a55a"
      },
      "execution_count": null,
      "outputs": [
        {
          "output_type": "execute_result",
          "data": {
            "text/plain": [
              "(10000, 32, 32, 3)"
            ]
          },
          "metadata": {},
          "execution_count": 8
        }
      ]
    },
    {
      "cell_type": "code",
      "source": [
        "x_adversarial_res50_1=np.load('/content/X_Resnet50_adv_FGSM.npy')\n",
        "ad_acc = model.evaluate(x_adversarial_res50_1, y_test, verbose=0)\n",
        "print(f\"Accuracy on Adversarial Examples from Resnet 50 on CNN: {ad_acc[1]*100}\")"
      ],
      "metadata": {
        "colab": {
          "base_uri": "https://localhost:8080/"
        },
        "id": "raLoHH2JfJAm",
        "outputId": "b3b126ba-842f-4ff2-a7d7-0a7e69533ade"
      },
      "execution_count": null,
      "outputs": [
        {
          "output_type": "stream",
          "name": "stdout",
          "text": [
            "Accuracy on Adversarial Examples from Resnet 50 on CNN: 48.44000041484833\n"
          ]
        }
      ]
    },
    {
      "cell_type": "code",
      "source": [
        "x_adversarial_res101_1=np.load('/content/X_Resnet101_adv_FGSM.npy')\n",
        "ad_acc = model.evaluate(x_adversarial_res101_1, y_test, verbose=0)\n",
        "print(f\"Accuracy on Adversarial Examples from Resnet 101 on CNN: {ad_acc[1]*100}\")"
      ],
      "metadata": {
        "colab": {
          "base_uri": "https://localhost:8080/"
        },
        "id": "WLfexl6CfR8o",
        "outputId": "8049a2da-e92a-4aa1-b549-525c0a4e55df"
      },
      "execution_count": null,
      "outputs": [
        {
          "output_type": "stream",
          "name": "stdout",
          "text": [
            "Accuracy on Adversarial Examples from Resnet 101 on CNN: 48.010000586509705\n"
          ]
        }
      ]
    },
    {
      "cell_type": "code",
      "source": [
        "np.save('X_CNN_adv_FGSM.npy', x_adversarial_1)\n",
        "np.save('Y_CNN_adv_FGSMl.npy', y_adversarial_1)"
      ],
      "metadata": {
        "id": "zH8VDkelHQDk"
      },
      "execution_count": null,
      "outputs": []
    },
    {
      "cell_type": "code",
      "source": [
        "x_adversarial_1=np.load('/content/X_CNN_adv_FGSM.npy')"
      ],
      "metadata": {
        "id": "M40nInne3peD"
      },
      "execution_count": null,
      "outputs": []
    },
    {
      "cell_type": "code",
      "source": [
        "predictions_1 = model.predict(x_adversarial_1)\n",
        "predicted_labels_1 = np.argmax(predictions_1, axis=1)\n",
        "np.save('Y_CNN_adv_FGSM_predicted_labels.npy', predicted_labels_1)"
      ],
      "metadata": {
        "colab": {
          "base_uri": "https://localhost:8080/"
        },
        "id": "qg522OVJ2KYG",
        "outputId": "60bc2cc3-8e44-440b-b764-ea7200b3d797"
      },
      "execution_count": null,
      "outputs": [
        {
          "output_type": "stream",
          "name": "stdout",
          "text": [
            "313/313 [==============================] - 13s 43ms/step\n"
          ]
        }
      ]
    },
    {
      "cell_type": "markdown",
      "source": [
        "### For VGG Dropout Data Augmentation model"
      ],
      "metadata": {
        "id": "MQ5s5IdapMYC"
      }
    },
    {
      "cell_type": "code",
      "source": [
        "from keras.models import load_model\n",
        "model = load_model('/content/VGG_dropout_augm_batch.h5')"
      ],
      "metadata": {
        "id": "CsbWwMXBvePN"
      },
      "execution_count": null,
      "outputs": []
    },
    {
      "cell_type": "code",
      "source": [
        "def generate_adversary(image, label, epsilon=0.1):\n",
        "  image = tf.cast(image, tf.float32)\n",
        "\n",
        "  with tf.GradientTape() as tape:\n",
        "    tape.watch(image)\n",
        "    prediction = model(image)\n",
        "    loss = tf.keras.losses.MSE(label, prediction)\n",
        "  gradient = tape.gradient(loss, image)\n",
        "  sign_grad = tf.sign(gradient)\n",
        "  perturbation = epsilon * sign_grad  # Apply epsilon to the sign gradient\n",
        "\n",
        "  return perturbation"
      ],
      "metadata": {
        "id": "9gN4BOD-vle5"
      },
      "execution_count": null,
      "outputs": []
    },
    {
      "cell_type": "code",
      "source": [
        "# Testing on random image\n",
        "rand_idx = randint(0,49999)\n",
        "image = X_train[rand_idx].reshape((1, height, width, channels))\n",
        "label = y_train[rand_idx]\n",
        "\n",
        "print(f'Prediction from VGG_droppout_augm_batch: {label_names[np.where(label==1)[0][0]]}')\n",
        "plt.figure(figsize=(3,3))\n",
        "plt.imshow(image.reshape((height, width, channels)))\n",
        "plt.show()"
      ],
      "metadata": {
        "colab": {
          "base_uri": "https://localhost:8080/",
          "height": 311
        },
        "id": "0UyGT7HovoVz",
        "outputId": "a3bc0825-276b-4dcd-a821-8c344dc7b034"
      },
      "execution_count": null,
      "outputs": [
        {
          "output_type": "stream",
          "name": "stdout",
          "text": [
            "Prediction from VGG_droppout_augm_batch: bird\n"
          ]
        },
        {
          "output_type": "display_data",
          "data": {
            "text/plain": [
              "<Figure size 300x300 with 1 Axes>"
            ],
            "image/png": "[encoded data removed]"
          },
          "metadata": {}
        }
      ]
    },
    {
      "cell_type": "code",
      "source": [
        "# Adding perturbations\n",
        "perturbations = generate_adversary(image,label,0.2).numpy()\n",
        "adversarial = image + (perturbations * 0.05)"
      ],
      "metadata": {
        "id": "dP4uU4gfv5hL"
      },
      "execution_count": null,
      "outputs": []
    },
    {
      "cell_type": "code",
      "source": [
        "from art.estimators.classification import KerasClassifier\n",
        "fig, (ax1,ax2) = plt.subplots(1, 2, sharey=True)\n",
        "print(f'Original Image Prediction: {label_names[model.predict(image).argmax()]}')\n",
        "ax1.imshow(image.reshape(height,width, channels))\n",
        "ax1.set_title(\"Original Image\")\n",
        "print(f\"Adversary Prediction: {label_names[model.predict(adversarial).argmax()]}\")\n",
        "ax2.imshow(adversarial.reshape(height,width, channels))\n",
        "ax2.set_title(\"Image with Adversary\")\n",
        "plt.show()"
      ],
      "metadata": {
        "colab": {
          "base_uri": "https://localhost:8080/",
          "height": 379
        },
        "id": "I_s2NlZOv9PT",
        "outputId": "1ff176f9-fa57-426e-a237-a6eb9b779099"
      },
      "execution_count": null,
      "outputs": [
        {
          "output_type": "stream",
          "name": "stdout",
          "text": [
            "1/1 [==============================] - 0s 28ms/step\n",
            "Original Image Prediction: bird\n",
            "1/1 [==============================] - 0s 25ms/step\n",
            "Adversary Prediction: airplane\n"
          ]
        },
        {
          "output_type": "display_data",
          "data": {
            "text/plain": [
              "<Figure size 640x480 with 2 Axes>"
            ],
            "image/png": "[encoded data removed]"
          },
          "metadata": {}
        }
      ]
    },
    {
      "cell_type": "code",
      "source": [
        "print(f'Normal Image Prediction: {label_names[model.predict(image).argmax()]}')\n",
        "print(f\"Adversary Prediction: {label_names[model.predict(adversarial).argmax()]}\")"
      ],
      "metadata": {
        "colab": {
          "base_uri": "https://localhost:8080/"
        },
        "id": "M_KHTUVewqZP",
        "outputId": "7a447f35-e98a-4e85-abfc-3669ce701504"
      },
      "execution_count": null,
      "outputs": [
        {
          "output_type": "stream",
          "name": "stdout",
          "text": [
            "1/1 [==============================] - 0s 35ms/step\n",
            "Normal Image Prediction: truck\n",
            "1/1 [==============================] - 0s 32ms/step\n",
            "Adversary Prediction: automobile\n"
          ]
        }
      ]
    },
    {
      "cell_type": "code",
      "source": [
        "def adversary_generator(batch_size):\n",
        "  while True:\n",
        "    images = []\n",
        "    labels = []\n",
        "    for batch in range(batch_size):\n",
        "      label = y_test[batch]\n",
        "      image = x_test[batch].reshape((1,height, width, channels))\n",
        "\n",
        "      perturbations = generate_adversary(image, label,0.2).numpy()\n",
        "      adversarial = image + (perturbations * 0.2)\n",
        "\n",
        "      images.append(adversarial)\n",
        "      labels.append(label)\n",
        "\n",
        "      if batch%1000 == 0:\n",
        "        print(f\"{batch} images generated\")\n",
        "\n",
        "    images = np.asarray(images).reshape((batch_size, height, width, channels))\n",
        "    labels = np.asarray(labels)\n",
        "\n",
        "    yield images, labels"
      ],
      "metadata": {
        "id": "8tEXs_jUwuB_"
      },
      "execution_count": null,
      "outputs": []
    },
    {
      "cell_type": "code",
      "source": [
        "x_adversarial_2, y_adversarial_2 = next(adversary_generator(10000))\n",
        "ad_acc = model.evaluate(x_adversarial_2, y_adversarial_2, verbose=0)\n",
        "print(f\"Accuracy on Adversarial Examples: {ad_acc[1]*100}\")"
      ],
      "metadata": {
        "colab": {
          "base_uri": "https://localhost:8080/"
        },
        "id": "0YdquyR7wxs6",
        "outputId": "8f7a5424-7b3b-47f3-f257-30ae3ecfcebc"
      },
      "execution_count": null,
      "outputs": [
        {
          "output_type": "stream",
          "name": "stdout",
          "text": [
            "0 images generated\n",
            "1000 images generated\n",
            "2000 images generated\n",
            "3000 images generated\n",
            "4000 images generated\n",
            "5000 images generated\n",
            "6000 images generated\n",
            "7000 images generated\n",
            "8000 images generated\n",
            "9000 images generated\n",
            "Accuracy on Adversarial Examples: 4.509999975562096\n"
          ]
        }
      ]
    },
    {
      "cell_type": "markdown",
      "source": [
        "# Checking transferability of perturbed images on CNN, VGG Dropout, Resnet 50, Resnet 101 on VGG augm"
      ],
      "metadata": {
        "id": "itYlqnXcDs5y"
      }
    },
    {
      "cell_type": "code",
      "source": [
        "x_adversarial_c1=np.load('/content/X_CNN_adv_FGSM.npy')"
      ],
      "metadata": {
        "id": "0hS77mN4DsRn"
      },
      "execution_count": null,
      "outputs": []
    },
    {
      "cell_type": "code",
      "source": [
        "ad_acc = model.evaluate(x_adversarial_c1, y_test, verbose=0)\n",
        "print(f\"Accuracy on Adversarial Examples from CNN on VGG data augm: {ad_acc[1]*100}\")"
      ],
      "metadata": {
        "colab": {
          "base_uri": "https://localhost:8080/"
        },
        "id": "Xf0DytebEK6Z",
        "outputId": "e39b9b1d-ba64-4d22-e88a-9bc0cdbffac7"
      },
      "execution_count": null,
      "outputs": [
        {
          "output_type": "stream",
          "name": "stdout",
          "text": [
            "Accuracy on Adversarial Examples from CNN on VGG data augm: 18.790000677108765\n"
          ]
        }
      ]
    },
    {
      "cell_type": "code",
      "source": [
        "x_adversarial_v2=np.load('/content/X_VGG_adv_FGSM.npy')"
      ],
      "metadata": {
        "id": "-HQXDJlBEO9u"
      },
      "execution_count": null,
      "outputs": []
    },
    {
      "cell_type": "code",
      "source": [
        "ad_acc = model.evaluate(x_adversarial_v2, y_test, verbose=0)\n",
        "print(f\"Accuracy on Adversarial Examples from VGG Dropout on VGG data augm: {ad_acc[1]*100}\")"
      ],
      "metadata": {
        "colab": {
          "base_uri": "https://localhost:8080/"
        },
        "id": "0EpDVD6_EPOq",
        "outputId": "04044684-2604-4eac-b7a6-376dbe6f5b6f"
      },
      "execution_count": null,
      "outputs": [
        {
          "output_type": "stream",
          "name": "stdout",
          "text": [
            "Accuracy on Adversarial Examples from VGG Dropout on VGG data augm: 31.549999117851257\n"
          ]
        }
      ]
    },
    {
      "cell_type": "code",
      "source": [
        "x_adversarial_res50_2=np.load('/content/X_Resnet50_adv_FGSM.npy')\n",
        "ad_acc = model.evaluate(x_adversarial_res50_2, y_test, verbose=0)\n",
        "print(f\"Accuracy on Adversarial Examples from Resnet 50 on VGG data augm: {ad_acc[1]*100}\")"
      ],
      "metadata": {
        "colab": {
          "base_uri": "https://localhost:8080/"
        },
        "id": "HLIPEvKRhDRx",
        "outputId": "06d73930-c739-48eb-cf05-7a878130b4ce"
      },
      "execution_count": null,
      "outputs": [
        {
          "output_type": "stream",
          "name": "stdout",
          "text": [
            "Accuracy on Adversarial Examples from Resnet 50 on VGG data augm: 43.23999881744385\n"
          ]
        }
      ]
    },
    {
      "cell_type": "code",
      "source": [
        "x_adversarial_res101_2=np.load('/content/X_Resnet101_adv_FGSM.npy')\n",
        "ad_acc = model.evaluate(x_adversarial_res101_2, y_test, verbose=0)\n",
        "print(f\"Accuracy on Adversarial Examples from Resnet 101 on VGG data augm: {ad_acc[1]*100}\")"
      ],
      "metadata": {
        "colab": {
          "base_uri": "https://localhost:8080/"
        },
        "id": "vdEbhTo_hF1G",
        "outputId": "f70de583-9755-439f-e7cd-d529ea846c1b"
      },
      "execution_count": null,
      "outputs": [
        {
          "output_type": "stream",
          "name": "stdout",
          "text": [
            "Accuracy on Adversarial Examples from Resnet 101 on VGG data augm: 42.16000139713287\n"
          ]
        }
      ]
    },
    {
      "cell_type": "code",
      "source": [
        "np.save('X_VGG_augm_adv_FGSM.npy', x_adversarial_2)\n",
        "np.save('Y_VGG_augm_adv_FGSM.npy', y_adversarial_2)"
      ],
      "metadata": {
        "id": "mOjmfXzbHnfT"
      },
      "execution_count": null,
      "outputs": []
    },
    {
      "cell_type": "code",
      "source": [
        "x_adversarial_2=np.load('/content/X_VGG_augm_adv_FGSM.npy')"
      ],
      "metadata": {
        "id": "Nu9-T3D_3_Lx"
      },
      "execution_count": null,
      "outputs": []
    },
    {
      "cell_type": "code",
      "source": [
        "predictions_2 = model.predict(x_adversarial_2)\n",
        "predicted_labels_2 = np.argmax(predictions_2, axis=1)\n",
        "np.save('Y_VGG_augm_adv_FGSM_predicted_labels.npy', predicted_labels_2)"
      ],
      "metadata": {
        "colab": {
          "base_uri": "https://localhost:8080/"
        },
        "id": "qMTooYr929Ig",
        "outputId": "3939e7a6-9777-4028-9be5-e654eba848a2"
      },
      "execution_count": null,
      "outputs": [
        {
          "output_type": "stream",
          "name": "stdout",
          "text": [
            "313/313 [==============================] - 16s 51ms/step\n"
          ]
        }
      ]
    },
    {
      "cell_type": "markdown",
      "source": [
        "### For VGG Dropout Batch Normalization Model"
      ],
      "metadata": {
        "id": "EYxZAOiGpjVR"
      }
    },
    {
      "cell_type": "code",
      "source": [
        "from keras.models import load_model\n",
        "model = load_model('/content/VGG_dropout.h5')"
      ],
      "metadata": {
        "id": "38PZe3_yxSGx"
      },
      "execution_count": null,
      "outputs": []
    },
    {
      "cell_type": "code",
      "source": [
        "def generate_adversary(image, label, epsilon=0.1):\n",
        "  image = tf.cast(image, tf.float32)\n",
        "\n",
        "  with tf.GradientTape() as tape:\n",
        "    tape.watch(image)\n",
        "    prediction = model(image)\n",
        "    loss = tf.keras.losses.MSE(label, prediction)\n",
        "  gradient = tape.gradient(loss, image)\n",
        "  sign_grad = tf.sign(gradient)\n",
        "  perturbation = epsilon * sign_grad  # Apply epsilon to the sign gradient\n",
        "\n",
        "  return perturbation"
      ],
      "metadata": {
        "id": "WZ-ESNizxW99"
      },
      "execution_count": null,
      "outputs": []
    },
    {
      "cell_type": "code",
      "source": [
        "# Testing on random image\n",
        "rand_idx = randint(0,49999)\n",
        "image = X_train[rand_idx].reshape((1, height, width, channels))\n",
        "label = y_train[rand_idx]\n",
        "\n",
        "print(f'Prediction from VGG_droppout_augm_batch: {label_names[np.where(label==1)[0][0]]}')\n",
        "plt.figure(figsize=(3,3))\n",
        "plt.imshow(image.reshape((height, width, channels)))\n",
        "plt.show()"
      ],
      "metadata": {
        "colab": {
          "base_uri": "https://localhost:8080/",
          "height": 311
        },
        "id": "RmEWezaMxY8H",
        "outputId": "c714e765-601c-4039-e006-e1c0d1e70643"
      },
      "execution_count": null,
      "outputs": [
        {
          "output_type": "stream",
          "name": "stdout",
          "text": [
            "Prediction from VGG_droppout_augm_batch: automobile\n"
          ]
        },
        {
          "output_type": "display_data",
          "data": {
            "text/plain": [
              "<Figure size 300x300 with 1 Axes>"
            ],
            "image/png": "[encoded data removed]"
          },
          "metadata": {}
        }
      ]
    },
    {
      "cell_type": "code",
      "source": [
        "# Adding perturbations\n",
        "perturbations = generate_adversary(image,label,0.2).numpy()\n",
        "adversarial = image + (perturbations * 0.05)"
      ],
      "metadata": {
        "id": "F3fz0TKJxbH2"
      },
      "execution_count": null,
      "outputs": []
    },
    {
      "cell_type": "code",
      "source": [
        "from art.estimators.classification import KerasClassifier\n",
        "fig, (ax1,ax2) = plt.subplots(1, 2, sharey=True)\n",
        "print(f'Original Image Prediction: {label_names[model.predict(image).argmax()]}')\n",
        "ax1.imshow(image.reshape(height,width, channels))\n",
        "ax1.set_title(\"Original Image\")\n",
        "print(f\"Adversary Prediction: {label_names[model.predict(adversarial).argmax()]}\")\n",
        "ax2.imshow(adversarial.reshape(height,width, channels))\n",
        "ax2.set_title(\"Image with Adversary\")\n",
        "plt.show()"
      ],
      "metadata": {
        "colab": {
          "base_uri": "https://localhost:8080/",
          "height": 379
        },
        "id": "65pH64ujxc2S",
        "outputId": "584338c2-af44-4896-96da-2fffe4eb33ae"
      },
      "execution_count": null,
      "outputs": [
        {
          "output_type": "stream",
          "name": "stdout",
          "text": [
            "1/1 [==============================] - 0s 27ms/step\n",
            "Original Image Prediction: automobile\n",
            "1/1 [==============================] - 0s 28ms/step\n",
            "Adversary Prediction: truck\n"
          ]
        },
        {
          "output_type": "display_data",
          "data": {
            "text/plain": [
              "<Figure size 640x480 with 2 Axes>"
            ],
            "image/png": "[encoded data removed]"
          },
          "metadata": {}
        }
      ]
    },
    {
      "cell_type": "code",
      "source": [
        "print(f'Normal Image Prediction: {label_names[model.predict(image).argmax()]}')\n",
        "print(f\"Adversary Prediction: {label_names[model.predict(adversarial).argmax()]}\")"
      ],
      "metadata": {
        "colab": {
          "base_uri": "https://localhost:8080/"
        },
        "id": "ikQ17Grrxfpe",
        "outputId": "92c0e1c0-7629-4eab-a368-a58aef2bc38d"
      },
      "execution_count": null,
      "outputs": [
        {
          "output_type": "stream",
          "name": "stdout",
          "text": [
            "1/1 [==============================] - 0s 23ms/step\n",
            "Normal Image Prediction: horse\n",
            "1/1 [==============================] - 0s 20ms/step\n",
            "Adversary Prediction: cat\n"
          ]
        }
      ]
    },
    {
      "cell_type": "code",
      "source": [
        "def adversary_generator(batch_size):\n",
        "  while True:\n",
        "    images = []\n",
        "    labels = []\n",
        "    for batch in range(batch_size):\n",
        "      label = y_test[batch]\n",
        "      image = x_test[batch].reshape((1,height, width, channels))\n",
        "\n",
        "      perturbations = generate_adversary(image, label,0.2).numpy()\n",
        "      adversarial = image + (perturbations * 0.2)\n",
        "\n",
        "      images.append(adversarial)\n",
        "      labels.append(label)\n",
        "\n",
        "      if batch%1000 == 0:\n",
        "        print(f\"{batch} images generated\")\n",
        "\n",
        "    images = np.asarray(images).reshape((batch_size, height, width, channels))\n",
        "    labels = np.asarray(labels)\n",
        "\n",
        "    yield images, labels\n"
      ],
      "metadata": {
        "id": "kNDpXMOoxiv6"
      },
      "execution_count": null,
      "outputs": []
    },
    {
      "cell_type": "code",
      "source": [
        "x_adversarial, y_adversarial = next(adversary_generator(10000))\n",
        "ad_acc = model.evaluate(x_adversarial, y_adversarial, verbose=0)\n",
        "print(f\"Accuracy on Adversarial Examples: {ad_acc[1]*100}\")"
      ],
      "metadata": {
        "colab": {
          "base_uri": "https://localhost:8080/"
        },
        "id": "dYWJh8R9xkjl",
        "outputId": "fb9600f5-3aee-4c7d-f3ac-585f5f290d7e"
      },
      "execution_count": null,
      "outputs": [
        {
          "output_type": "stream",
          "name": "stdout",
          "text": [
            "0 images generated\n",
            "1000 images generated\n",
            "2000 images generated\n",
            "3000 images generated\n",
            "4000 images generated\n",
            "5000 images generated\n",
            "6000 images generated\n",
            "7000 images generated\n",
            "8000 images generated\n",
            "9000 images generated\n",
            "Accuracy on Adversarial Examples: 15.6700000166893\n"
          ]
        }
      ]
    },
    {
      "cell_type": "markdown",
      "source": [
        "# Checking transferability of perturbed images on CNN and VGG Data augm on VGG Dropout"
      ],
      "metadata": {
        "id": "LZpfQ0PkGTzO"
      }
    },
    {
      "cell_type": "code",
      "source": [
        "x_adversarial_c2=np.load('/content/X_CNN_adv_FGSM.npy')"
      ],
      "metadata": {
        "id": "cRP6qVCfGNqQ"
      },
      "execution_count": null,
      "outputs": []
    },
    {
      "cell_type": "code",
      "source": [
        "ad_acc = model.evaluate(x_adversarial_c1, y_test, verbose=0)\n",
        "print(f\"Accuracy on Adversarial Examples from CNN on VGG Dropout: {ad_acc[1]*100}\")"
      ],
      "metadata": {
        "colab": {
          "base_uri": "https://localhost:8080/"
        },
        "id": "1TUD452KGRL0",
        "outputId": "084656ff-1830-404a-9743-b8d98962484b"
      },
      "execution_count": null,
      "outputs": [
        {
          "output_type": "stream",
          "name": "stdout",
          "text": [
            "Accuracy on Adversarial Examples from CNN on VGG Dropout: 34.00000035762787\n"
          ]
        }
      ]
    },
    {
      "cell_type": "code",
      "source": [
        "x_adversarial_va2=np.load('/content/X_VGG_augm_adv_FGSM.npy')"
      ],
      "metadata": {
        "id": "GkRcLPpNGj9i"
      },
      "execution_count": null,
      "outputs": []
    },
    {
      "cell_type": "code",
      "source": [
        "ad_acc = model.evaluate(x_adversarial_va2, y_test, verbose=0)\n",
        "print(f\"Accuracy on Adversarial Examples from VGG Data augm on VGG Dropout: {ad_acc[1]*100}\")"
      ],
      "metadata": {
        "colab": {
          "base_uri": "https://localhost:8080/"
        },
        "id": "T4ftLjnjGnVr",
        "outputId": "fde1a8a7-eb4a-4802-983f-038fa7c129fe"
      },
      "execution_count": null,
      "outputs": [
        {
          "output_type": "stream",
          "name": "stdout",
          "text": [
            "Accuracy on Adversarial Examples from VGG Data augm on VGG Dropout: 36.23000085353851\n"
          ]
        }
      ]
    },
    {
      "cell_type": "code",
      "source": [
        "x_adversarial_res50_3=np.load('/content/X_Resnet50_adv_FGSM.npy')\n",
        "ad_acc = model.evaluate(x_adversarial_res50_3, y_test, verbose=0)\n",
        "print(f\"Accuracy on Adversarial Examples from Resnet 50 on VGG Dropout: {ad_acc[1]*100}\")"
      ],
      "metadata": {
        "colab": {
          "base_uri": "https://localhost:8080/"
        },
        "id": "NzecVV54nZOT",
        "outputId": "3b8511d8-6517-43cc-c88f-57d5cf356280"
      },
      "execution_count": null,
      "outputs": [
        {
          "output_type": "stream",
          "name": "stdout",
          "text": [
            "Accuracy on Adversarial Examples from Resnet 50 on VGG Dropout: 66.3100004196167\n"
          ]
        }
      ]
    },
    {
      "cell_type": "code",
      "source": [
        "x_adversarial_res101_3=np.load('/content/X_Resnet101_adv_FGSM.npy')\n",
        "ad_acc = model.evaluate(x_adversarial_res101_3, y_test, verbose=0)\n",
        "print(f\"Accuracy on Adversarial Examples from Resnet 101 on VGG Dropout: {ad_acc[1]*100}\")"
      ],
      "metadata": {
        "colab": {
          "base_uri": "https://localhost:8080/"
        },
        "id": "gKy-F-XYnZ1T",
        "outputId": "81f04a24-09c6-448f-ade7-2846fe74345a"
      },
      "execution_count": null,
      "outputs": [
        {
          "output_type": "stream",
          "name": "stdout",
          "text": [
            "Accuracy on Adversarial Examples from Resnet 101 on VGG Dropout: 64.37000036239624\n"
          ]
        }
      ]
    },
    {
      "cell_type": "code",
      "source": [
        "predictions = model.predict(x_adversarial)\n",
        "predicted_labels = np.argmax(predictions, axis=1)\n",
        "np.save('Y_Resnet50_adv_FGSM.npy', predicted_labels)"
      ],
      "metadata": {
        "id": "1Mqpw9ft1M-j"
      },
      "execution_count": null,
      "outputs": []
    },
    {
      "cell_type": "code",
      "source": [
        "np.save('X_VGG_adv_FGSM.npy', x_adversarial)\n",
        "np.save('Y_VGG_adv_FGSM.npy', y_adversarial)"
      ],
      "metadata": {
        "id": "DM4OTDqGH1Ji"
      },
      "execution_count": null,
      "outputs": []
    },
    {
      "cell_type": "code",
      "source": [
        "x_adversarial_3=np.load('/content/X_VGG_adv_FGSM.npy')"
      ],
      "metadata": {
        "id": "7MNWKSEn4JE7"
      },
      "execution_count": null,
      "outputs": []
    },
    {
      "cell_type": "code",
      "source": [
        "predictions_3 = model.predict(x_adversarial_3)\n",
        "predicted_labels_3 = np.argmax(predictions_3, axis=1)\n",
        "np.save('Y_VGG_adv_FGSM_predicted_labels.npy', predicted_labels_3)"
      ],
      "metadata": {
        "colab": {
          "base_uri": "https://localhost:8080/"
        },
        "id": "bM-pT9BT4Ng1",
        "outputId": "60367da3-72ba-40cf-8a55-184c5b40beb4"
      },
      "execution_count": null,
      "outputs": [
        {
          "output_type": "stream",
          "name": "stdout",
          "text": [
            "313/313 [==============================] - 12s 38ms/step\n"
          ]
        }
      ]
    }
  ]
}