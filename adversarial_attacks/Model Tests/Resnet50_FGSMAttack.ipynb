{
  "cells": [
    {
      "cell_type": "code",
      "execution_count": null,
      "metadata": {
        "colab": {
          "base_uri": "https://localhost:8080/"
        },
        "id": "lC0OV3WPrAQv",
        "outputId": "4d676668-4cc0-43d4-cfaa-4b358ca124b4"
      },
      "outputs": [
        {
          "name": "stdout",
          "output_type": "stream",
          "text": [
            "Collecting adversarial-robustness-toolbox\n",
            "  Downloading adversarial_robustness_toolbox-1.16.0-py3-none-any.whl (1.6 MB)\n",
            "\u001b[?25l     \u001b[90m━━━━━━━━━━━━━━━━━━━━━━━━━━━━━━━━━━━━━━━━\u001b[0m \u001b[32m0.0/1.6 MB\u001b[0m \u001b[31m?\u001b[0m eta \u001b[36m-:--:--\u001b[0m\r\u001b[2K     \u001b[91m━━━━━\u001b[0m\u001b[91m╸\u001b[0m\u001b[90m━━━━━━━━━━━━━━━━━━━━━━━━━━━━━━━━━━\u001b[0m \u001b[32m0.2/1.6 MB\u001b[0m \u001b[31m6.9 MB/s\u001b[0m eta \u001b[36m0:00:01\u001b[0m\r\u001b[2K     \u001b[91m━━━━━━━━━━━━━━━━━━\u001b[0m\u001b[90m╺\u001b[0m\u001b[90m━━━━━━━━━━━━━━━━━━━━━\u001b[0m \u001b[32m0.7/1.6 MB\u001b[0m \u001b[31m11.1 MB/s\u001b[0m eta \u001b[36m0:00:01\u001b[0m\r\u001b[2K     \u001b[91m━━━━━━━━━━━━━━━━━━━━━━━━━\u001b[0m\u001b[91m╸\u001b[0m\u001b[90m━━━━━━━━━━━━━━\u001b[0m \u001b[32m1.0/1.6 MB\u001b[0m \u001b[31m12.7 MB/s\u001b[0m eta \u001b[36m0:00:01\u001b[0m\r\u001b[2K     \u001b[91m━━━━━━━━━━━━━━━━━━━━━━━━━\u001b[0m\u001b[91m╸\u001b[0m\u001b[90m━━━━━━━━━━━━━━\u001b[0m \u001b[32m1.0/1.6 MB\u001b[0m \u001b[31m12.7 MB/s\u001b[0m eta \u001b[36m0:00:01\u001b[0m\r\u001b[2K     \u001b[91m━━━━━━━━━━━━━━━━━━━━━━━━━━━━━━━━━━━━━━━\u001b[0m\u001b[91m╸\u001b[0m \u001b[32m1.6/1.6 MB\u001b[0m \u001b[31m9.4 MB/s\u001b[0m eta \u001b[36m0:00:01\u001b[0m\r\u001b[2K     \u001b[90m━━━━━━━━━━━━━━━━━━━━━━━━━━━━━━━━━━━━━━━━\u001b[0m \u001b[32m1.6/1.6 MB\u001b[0m \u001b[31m8.7 MB/s\u001b[0m eta \u001b[36m0:00:00\u001b[0m\n",
            "\u001b[?25hRequirement already satisfied: numpy>=1.18.0 in /usr/local/lib/python3.10/dist-packages (from adversarial-robustness-toolbox) (1.23.5)\n",
            "Requirement already satisfied: scipy>=1.4.1 in /usr/local/lib/python3.10/dist-packages (from adversarial-robustness-toolbox) (1.11.3)\n",
            "Collecting scikit-learn<1.2.0,>=0.22.2 (from adversarial-robustness-toolbox)\n",
            "  Downloading scikit_learn-1.1.3-cp310-cp310-manylinux_2_17_x86_64.manylinux2014_x86_64.whl (30.5 MB)\n",
            "\u001b[2K     \u001b[90m━━━━━━━━━━━━━━━━━━━━━━━━━━━━━━━━━━━━━━━━\u001b[0m \u001b[32m30.5/30.5 MB\u001b[0m \u001b[31m21.7 MB/s\u001b[0m eta \u001b[36m0:00:00\u001b[0m\n",
            "\u001b[?25hRequirement already satisfied: six in /usr/local/lib/python3.10/dist-packages (from adversarial-robustness-toolbox) (1.16.0)\n",
            "Requirement already satisfied: setuptools in /usr/local/lib/python3.10/dist-packages (from adversarial-robustness-toolbox) (67.7.2)\n",
            "Requirement already satisfied: tqdm in /usr/local/lib/python3.10/dist-packages (from adversarial-robustness-toolbox) (4.66.1)\n",
            "Requirement already satisfied: joblib>=1.0.0 in /usr/local/lib/python3.10/dist-packages (from scikit-learn<1.2.0,>=0.22.2->adversarial-robustness-toolbox) (1.3.2)\n",
            "Requirement already satisfied: threadpoolctl>=2.0.0 in /usr/local/lib/python3.10/dist-packages (from scikit-learn<1.2.0,>=0.22.2->adversarial-robustness-toolbox) (3.2.0)\n",
            "Installing collected packages: scikit-learn, adversarial-robustness-toolbox\n",
            "  Attempting uninstall: scikit-learn\n",
            "    Found existing installation: scikit-learn 1.2.2\n",
            "    Uninstalling scikit-learn-1.2.2:\n",
            "      Successfully uninstalled scikit-learn-1.2.2\n",
            "\u001b[31mERROR: pip's dependency resolver does not currently take into account all the packages that are installed. This behaviour is the source of the following dependency conflicts.\n",
            "bigframes 0.13.0 requires scikit-learn>=1.2.2, but you have scikit-learn 1.1.3 which is incompatible.\u001b[0m\u001b[31m\n",
            "\u001b[0mSuccessfully installed adversarial-robustness-toolbox-1.16.0 scikit-learn-1.1.3\n"
          ]
        }
      ],
      "source": [
        "!pip install adversarial-robustness-toolbox"
      ]
    },
    {
      "cell_type": "code",
      "execution_count": null,
      "metadata": {
        "id": "Ed9cLjpEU4du"
      },
      "outputs": [],
      "source": [
        "from keras.models import load_model\n",
        "model = load_model('/content/cnn_20_epochs.h5')"
      ]
    },
    {
      "cell_type": "code",
      "execution_count": null,
      "metadata": {
        "_cell_guid": "b1076dfc-b9ad-4769-8c92-a6c4dae69d19",
        "_uuid": "8f2839f25d086af736a60e9eeb907d3b93b6e0e5",
        "execution": {
          "iopub.execute_input": "2021-12-22T09:50:39.998470Z",
          "iopub.status.busy": "2021-12-22T09:50:39.998011Z",
          "iopub.status.idle": "2021-12-22T09:50:46.430807Z",
          "shell.execute_reply": "2021-12-22T09:50:46.429998Z",
          "shell.execute_reply.started": "2021-12-22T09:50:39.998286Z"
        },
        "id": "ZTv4qU02UwFy",
        "trusted": true
      },
      "outputs": [],
      "source": [
        "# Importing required modules\n",
        "\n",
        "import tensorflow as tf\n",
        "from tensorflow.keras import Sequential\n",
        "from tensorflow.keras.callbacks import LambdaCallback\n",
        "import tensorflow.keras.layers as L\n",
        "from tensorflow.keras.datasets import mnist, cifar10\n",
        "\n",
        "import numpy as np\n",
        "import matplotlib.pyplot as plt\n",
        "from random import randint\n",
        "from tqdm import tqdm\n"
      ]
    },
    {
      "cell_type": "code",
      "execution_count": null,
      "metadata": {
        "colab": {
          "base_uri": "https://localhost:8080/"
        },
        "id": "K9q1HHOpU_oY",
        "outputId": "96ff4c92-29b1-4f73-aade-3e4a9d55a0ca"
      },
      "outputs": [
        {
          "name": "stdout",
          "output_type": "stream",
          "text": [
            "Downloading data from https://www.cs.toronto.edu/~kriz/cifar-10-python.tar.gz\n",
            "170498071/170498071 [==============================] - 8s 0us/step\n",
            "X_train shape: (50000, 32, 32, 3)\n",
            "y_train shape: (50000, 1)\n",
            "X_test shape: (10000, 32, 32, 3)\n",
            "y_test shape: (10000, 1)\n"
          ]
        }
      ],
      "source": [
        "import tensorflow as tf\n",
        "from tensorflow.keras.datasets import cifar10\n",
        "from tensorflow.keras.utils import to_categorical\n",
        "(X_train, y_train), (X_test, y_test) = cifar10.load_data()\n",
        "\n",
        "print(f\"X_train shape: {X_train.shape}\")\n",
        "print(f\"y_train shape: {y_train.shape}\")\n",
        "print(f\"X_test shape: {X_test.shape}\")\n",
        "print(f\"y_test shape: {y_test.shape}\")"
      ]
    },
    {
      "cell_type": "markdown",
      "metadata": {
        "id": "40W3R_vkMchl"
      },
      "source": [
        "# Resnet50"
      ]
    },
    {
      "cell_type": "code",
      "execution_count": null,
      "metadata": {
        "id": "hMdSHFFuNR2J"
      },
      "outputs": [],
      "source": [
        "# scaling the data\n",
        "\n",
        "X_train_scaled = X_train/255\n",
        "\n",
        "X_test_scaled = X_test/255"
      ]
    },
    {
      "cell_type": "code",
      "execution_count": null,
      "metadata": {
        "id": "iz0ubdCPPFQv"
      },
      "outputs": [],
      "source": [
        "nb_classes = 10\n",
        "label_names = ['airplane', 'automobile', 'bird', 'cat', 'deer', 'dog', 'frog',\n",
        "               'horse', 'ship', 'truck']"
      ]
    },
    {
      "cell_type": "code",
      "execution_count": null,
      "metadata": {
        "id": "zpOf0igNiAee"
      },
      "outputs": [],
      "source": [
        "height, width, channels = 32, 32, 3"
      ]
    },
    {
      "cell_type": "code",
      "execution_count": null,
      "metadata": {
        "id": "tKogncGTMgcj"
      },
      "outputs": [],
      "source": [
        "from keras.models import load_model\n",
        "model = load_model('resnet50_keras_94.08.h5')"
      ]
    },
    {
      "cell_type": "code",
      "execution_count": null,
      "metadata": {
        "id": "Z0uX4VWYMgcj"
      },
      "outputs": [],
      "source": [
        "# Function to calculate adversary noise\n",
        "def generate_adversary(image, label, epsilon=0.1):\n",
        "  image = tf.cast(image, tf.float32)\n",
        "\n",
        "  with tf.GradientTape() as tape:\n",
        "    tape.watch(image)\n",
        "    prediction = model(image)\n",
        "    loss = tf.keras.losses.MSE(label, prediction)\n",
        "  gradient = tape.gradient(loss, image)\n",
        "  sign_grad = tf.sign(gradient)\n",
        "  perturbation = epsilon * sign_grad  # Apply epsilon to the sign gradient\n",
        "\n",
        "  return perturbation\n",
        "\n",
        "  # return sign_grad"
      ]
    },
    {
      "cell_type": "code",
      "execution_count": null,
      "metadata": {
        "colab": {
          "base_uri": "https://localhost:8080/",
          "height": 328
        },
        "id": "x6oXlir5Mgck",
        "outputId": "39e5c8f2-3b83-42e5-88e4-6a451d29ba78"
      },
      "outputs": [
        {
          "name": "stdout",
          "output_type": "stream",
          "text": [
            "[4]\n",
            "True prediction: deer\n"
          ]
        },
        {
          "data": {
            "image/png": "[encoded data removed]",
            "text/plain": [
              "<Figure size 300x300 with 1 Axes>"
            ]
          },
          "metadata": {},
          "output_type": "display_data"
        }
      ],
      "source": [
        "# Selecting random image for testing\n",
        "rand_idx = randint(0,10000)\n",
        "image = X_test_scaled[rand_idx].reshape((1, height, width, channels))\n",
        "label = y_test[rand_idx]\n",
        "print(label)\n",
        "\n",
        "print(f'True prediction: {label_names[label[0]]}')\n",
        "plt.figure(figsize=(3,3))\n",
        "plt.imshow(image.reshape((height, width, channels)))\n",
        "plt.show()"
      ]
    },
    {
      "cell_type": "code",
      "execution_count": null,
      "metadata": {
        "id": "CJs2wgGSMgck"
      },
      "outputs": [],
      "source": [
        "# Adding the adversary noise to image\n",
        "perturbations = generate_adversary(image,label,0.2).numpy()\n",
        "adversarial = image + (perturbations * 0.05)"
      ]
    },
    {
      "cell_type": "code",
      "execution_count": null,
      "metadata": {
        "colab": {
          "base_uri": "https://localhost:8080/"
        },
        "id": "1Vz1xPwAPjQT",
        "outputId": "5256b074-732d-42f6-ef84-785ef546a625"
      },
      "outputs": [
        {
          "name": "stdout",
          "output_type": "stream",
          "text": [
            "False\n"
          ]
        }
      ],
      "source": []
    },
    {
      "cell_type": "code",
      "execution_count": null,
      "metadata": {
        "colab": {
          "base_uri": "https://localhost:8080/",
          "height": 377
        },
        "id": "u75TQxY9Mgck",
        "outputId": "6564e248-3215-4596-a43c-28ed0f525680"
      },
      "outputs": [
        {
          "name": "stdout",
          "output_type": "stream",
          "text": [
            "1/1 [==============================] - 2s 2s/step\n",
            "Original Image Prediction: deer\n",
            "1/1 [==============================] - 0s 44ms/step\n",
            "Adversary Prediction: deer\n"
          ]
        },
        {
          "data": {
            "image/png": "[encoded data removed]",
            "text/plain": [
              "<Figure size 640x480 with 2 Axes>"
            ]
          },
          "metadata": {},
          "output_type": "display_data"
        }
      ],
      "source": [
        "from art.estimators.classification import KerasClassifier\n",
        "# Comparing both images\n",
        "fig, (ax1,ax2) = plt.subplots(1, 2, sharey=True)\n",
        "print(f'Original Image Prediction: {label_names[model.predict(image).argmax()]}')\n",
        "ax1.imshow(image.reshape(height,width, channels))\n",
        "ax1.set_title(\"Original Image\")\n",
        "print(f\"Adversary Prediction: {label_names[model.predict(adversarial).argmax()]}\")\n",
        "ax2.imshow(adversarial.reshape(height,width, channels))\n",
        "ax2.set_title(\"Image with Adversary\")\n",
        "plt.show()"
      ]
    },
    {
      "cell_type": "code",
      "execution_count": null,
      "metadata": {
        "colab": {
          "base_uri": "https://localhost:8080/"
        },
        "id": "PHZIshZMMgck",
        "outputId": "be5052b7-a27e-4fcd-963c-947ca4af0a2c"
      },
      "outputs": [
        {
          "name": "stdout",
          "output_type": "stream",
          "text": [
            "1/1 [==============================] - 0s 24ms/step\n",
            "Normal Image Prediction: deer\n",
            "1/1 [==============================] - 0s 23ms/step\n",
            "Adversary Prediction: deer\n"
          ]
        }
      ],
      "source": [
        "# Comparing predictions\n",
        "print(f'Normal Image Prediction: {label_names[model.predict(image).argmax()]}')\n",
        "print(f\"Adversary Prediction: {label_names[model.predict(adversarial).argmax()]}\")"
      ]
    },
    {
      "cell_type": "code",
      "execution_count": null,
      "metadata": {
        "id": "6AFqf8XiMgck"
      },
      "outputs": [],
      "source": [
        "# Function to generate batch of images with adversary\n",
        "def adversary_generator(batch_size):\n",
        "  while True:\n",
        "    images = []\n",
        "    labels = []\n",
        "    for batch in range(batch_size):\n",
        "      # N = randint(0, 10000)\n",
        "      label = y_test[batch]\n",
        "      image = X_test_scaled[batch].reshape((1,height, width, channels))\n",
        "\n",
        "      perturbations = generate_adversary(image, label, 0.2).numpy()\n",
        "      adversarial = image + (perturbations * 0.2)\n",
        "\n",
        "      images.append(adversarial)\n",
        "      labels.append(label)\n",
        "\n",
        "      if batch%1000 == 0:\n",
        "        print(f\"{batch} images generated\")\n",
        "\n",
        "    images = np.asarray(images).reshape((batch_size, height, width, channels))\n",
        "    labels = np.asarray(labels)\n",
        "\n",
        "    yield images, labels"
      ]
    },
    {
      "cell_type": "code",
      "execution_count": null,
      "metadata": {
        "colab": {
          "base_uri": "https://localhost:8080/"
        },
        "id": "TKQWJB-OMgck",
        "outputId": "ec1cbf0c-2abc-4609-9a1c-64baffec0402"
      },
      "outputs": [
        {
          "name": "stdout",
          "output_type": "stream",
          "text": [
            "0 images generated\n",
            "1000 images generated\n",
            "2000 images generated\n",
            "3000 images generated\n",
            "4000 images generated\n",
            "5000 images generated\n",
            "6000 images generated\n",
            "7000 images generated\n",
            "8000 images generated\n",
            "9000 images generated\n"
          ]
        }
      ],
      "source": [
        "# Testing model accuracy on adversarial examples\n",
        "x_adversarial, y_adversarial = next(adversary_generator(10000))"
      ]
    },
    {
      "cell_type": "code",
      "execution_count": null,
      "metadata": {
        "colab": {
          "base_uri": "https://localhost:8080/"
        },
        "id": "yc9ujyWIkdDT",
        "outputId": "c73ec6a2-2107-4572-8c8b-3ce06b4f7055"
      },
      "outputs": [
        {
          "name": "stdout",
          "output_type": "stream",
          "text": [
            "Accuracy on Adversarial Examples: 75.3600001335144\n"
          ]
        }
      ],
      "source": [
        "ad_acc = model.evaluate(x_adversarial, y_test, verbose=0)\n",
        "print(f\"Accuracy on Adversarial Examples: {ad_acc[1]*100}\")"
      ]
    },
    {
      "cell_type": "code",
      "execution_count": null,
      "metadata": {
        "colab": {
          "base_uri": "https://localhost:8080/"
        },
        "id": "E3AERDUYw_2x",
        "outputId": "c108c251-0c2a-40b0-f936-cb533b0f161a"
      },
      "outputs": [
        {
          "data": {
            "text/plain": [
              "True"
            ]
          },
          "execution_count": 18,
          "metadata": {},
          "output_type": "execute_result"
        }
      ],
      "source": [
        "np.array_equal(y_test, y_adversarial)"
      ]
    },
    {
      "cell_type": "code",
      "execution_count": null,
      "metadata": {
        "colab": {
          "base_uri": "https://localhost:8080/"
        },
        "id": "-UHbXKxvxcqc",
        "outputId": "96e4e4e5-b20f-4add-958c-8d177ed23781"
      },
      "outputs": [
        {
          "name": "stdout",
          "output_type": "stream",
          "text": [
            "313/313 [==============================] - 35s 111ms/step\n"
          ]
        }
      ],
      "source": [
        "predictions = model.predict(x_adversarial)"
      ]
    },
    {
      "cell_type": "code",
      "execution_count": null,
      "metadata": {
        "id": "ZfrOe8jQxiTa"
      },
      "outputs": [],
      "source": [
        "predicted_labels = np.argmax(predictions, axis=1)"
      ]
    },
    {
      "cell_type": "code",
      "execution_count": null,
      "metadata": {
        "colab": {
          "base_uri": "https://localhost:8080/"
        },
        "id": "EEQisESgyvgW",
        "outputId": "80c89c28-98d5-4d16-b1a5-55004a5ad785"
      },
      "outputs": [
        {
          "data": {
            "text/plain": [
              "(10000,)"
            ]
          },
          "execution_count": 26,
          "metadata": {},
          "output_type": "execute_result"
        }
      ],
      "source": [
        "predicted_labels.shape"
      ]
    },
    {
      "cell_type": "code",
      "execution_count": null,
      "metadata": {
        "id": "g9aOUFQCyhZK"
      },
      "outputs": [],
      "source": [
        "from sklearn.metrics import accuracy_score"
      ]
    },
    {
      "cell_type": "code",
      "execution_count": null,
      "metadata": {
        "colab": {
          "base_uri": "https://localhost:8080/"
        },
        "id": "fpMBgf7hxoiV",
        "outputId": "c2d72aad-3b94-4da9-892b-09aaa8d1c3f5"
      },
      "outputs": [
        {
          "name": "stdout",
          "output_type": "stream",
          "text": [
            "Accuracy: 75.36%\n"
          ]
        }
      ],
      "source": [
        "accuracy = accuracy_score(predicted_labels,y_test)\n",
        "print(f'Accuracy: {accuracy * 100:.2f}%')"
      ]
    },
    {
      "cell_type": "code",
      "execution_count": null,
      "metadata": {
        "colab": {
          "base_uri": "https://localhost:8080/",
          "height": 430
        },
        "id": "FptN3WmgaLhj",
        "outputId": "9f96175c-2ce7-44e6-9130-6b4910ddf631"
      },
      "outputs": [
        {
          "data": {
            "image/png": "[encoded data removed]",
            "text/plain": [
              "<Figure size 640x480 with 1 Axes>"
            ]
          },
          "metadata": {},
          "output_type": "display_data"
        }
      ],
      "source": [
        "plt.imshow(X_test_scaled[0])\n",
        "plt.show()"
      ]
    },
    {
      "cell_type": "code",
      "execution_count": null,
      "metadata": {
        "colab": {
          "base_uri": "https://localhost:8080/"
        },
        "id": "34NgWnNEadYr",
        "outputId": "8c05dc27-c995-4bbc-e4c3-9948b8c79bc1"
      },
      "outputs": [
        {
          "name": "stdout",
          "output_type": "stream",
          "text": [
            "1/1 [==============================] - 0s 42ms/step\n"
          ]
        },
        {
          "data": {
            "text/plain": [
              "array([[7.08275824e-04, 7.44917896e-04, 7.66104960e-04, 9.94598746e-01,\n",
              "        4.66676109e-04, 1.74785883e-03, 1.87506070e-04, 1.09759814e-04,\n",
              "        5.47495845e-04, 1.22719837e-04]], dtype=float32)"
            ]
          },
          "execution_count": 33,
          "metadata": {},
          "output_type": "execute_result"
        }
      ],
      "source": [
        "model.predict(np.expand_dims(X_test_scaled[0],axis = 0))"
      ]
    },
    {
      "cell_type": "code",
      "execution_count": null,
      "metadata": {
        "colab": {
          "base_uri": "https://localhost:8080/",
          "height": 395
        },
        "id": "pv3c84KkZu9w",
        "outputId": "53799f18-e4c3-42c2-89c6-3bd97e376439"
      },
      "outputs": [
        {
          "name": "stdout",
          "output_type": "stream",
          "text": [
            "1/1 [==============================] - 0s 42ms/step\n",
            "Original Image Prediction: cat\n",
            "1/1 [==============================] - 0s 106ms/step\n"
          ]
        },
        {
          "name": "stderr",
          "output_type": "stream",
          "text": [
            "WARNING:matplotlib.image:Clipping input data to the valid range for imshow with RGB data ([0..1] for floats or [0..255] for integers).\n"
          ]
        },
        {
          "name": "stdout",
          "output_type": "stream",
          "text": [
            "Adversary Prediction: frog\n"
          ]
        },
        {
          "data": {
            "image/png": "[encoded data removed]",
            "text/plain": [
              "<Figure size 640x480 with 2 Axes>"
            ]
          },
          "metadata": {},
          "output_type": "display_data"
        }
      ],
      "source": [
        "fig, (ax1,ax2) = plt.subplots(1, 2, sharey=True)\n",
        "print(f'Original Image Prediction: {label_names[model.predict(np.expand_dims(X_test_scaled[0],axis = 0)).argmax()]}')\n",
        "ax1.imshow(X_test_scaled[0])\n",
        "ax1.set_title(\"Original Image\")\n",
        "print(f\"Adversary Prediction: {label_names[model.predict(np.expand_dims(x_adversarial[0], axis = 0)).argmax()]}\")\n",
        "ax2.imshow(x_adversarial[0])\n",
        "ax2.set_title(\"Image with Adversary\")\n",
        "plt.show()"
      ]
    },
    {
      "cell_type": "code",
      "execution_count": null,
      "metadata": {
        "id": "znIT8ExYMgcl"
      },
      "outputs": [],
      "source": [
        "np.save('X_Resnet50_adv_FGSM.npy', x_adversarial)\n",
        "np.save('Y_Resnet50_adv_FGSM.npy', predicted_labels)"
      ]
    }
  ],
  "metadata": {
    "accelerator": "GPU",
    "colab": {
      "gpuType": "T4",
      "provenance": []
    },
    "kernelspec": {
      "display_name": "Python 3",
      "name": "python3"
    },
    "language_info": {
      "codemirror_mode": {
        "name": "ipython",
        "version": 3
      },
      "file_extension": ".py",
      "mimetype": "text/x-python",
      "name": "python",
      "nbconvert_exporter": "python",
      "pygments_lexer": "ipython3",
      "version": "3.6.6"
    }
  },
  "nbformat": 4,
  "nbformat_minor": 0
}
